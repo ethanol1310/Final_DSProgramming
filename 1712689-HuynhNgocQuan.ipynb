{
 "cells": [
  {
   "cell_type": "markdown",
   "metadata": {},
   "source": [
    "# ĐỒ ÁN CUỐI KỲ \n",
    "\n",
    "Họ tên: Huỳnh Ngọc Quân\n",
    "\n",
    "MSSV: 1712689"
   ]
  },
  {
   "cell_type": "markdown",
   "metadata": {},
   "source": [
    "## Import"
   ]
  },
  {
   "cell_type": "code",
   "execution_count": 1,
   "metadata": {},
   "outputs": [],
   "source": [
    "%matplotlib inline\n",
    "import matplotlib.pyplot as plt\n",
    "import pandas as pd\n",
    "import numpy as np\n",
    "import seaborn as sns"
   ]
  },
  {
   "cell_type": "markdown",
   "metadata": {},
   "source": [
    "## Lấy dữ liệu"
   ]
  },
  {
   "cell_type": "markdown",
   "metadata": {},
   "source": [
    "Dữ liệu trong đồ án cuối kỳ này bao gồm: \n",
    "- Dữ liệu về các unicorns trên thế giới tính tới thời 8/2020 được crawl [ở đây](https://www.cbinsights.com/research-unicorn-companies) ***CB-Insights_Global-Unicorns_2020.csv*** (source code crawl dữ liệu nằm ở file crawlUnicorns.ipynb)\n",
    "- Dữ liệu các start up ở Ấn Độ trong các lĩnh vực và thông tin về các nhà đầu tư [ở đây](https://www.kaggle.com/sudalairajkumar/indian-startup-funding) ***startup_funding.csv***\n",
    "- Dữ liệu các nhà đầu tư cho start up trên thế giới do unicorn-nest tổng hợp tính tới 4/1/2020 [ở đây](https://www.kaggle.com/iwanenko/unicorn-nest-startup-fundraising-dataset) ***funds.csv***\n",
    "\n",
    "Chúng ta sẽ phân tích sự phân bố unicorns trên thế giới, các nhà đầu tư mạnh trong các lĩnh vực và xu hướng đầu tư hiện nay của thế giới. \n",
    "\n",
    "Sau đó ta sẽ phân tích dữ liệu các start up ở Ấn Độ để tìm ra được một vài kết luận thú vị."
   ]
  },
  {
   "cell_type": "markdown",
   "metadata": {},
   "source": [
    "# 1. Khám phá dữ liệu"
   ]
  },
  {
   "cell_type": "markdown",
   "metadata": {},
   "source": [
    "## 1.1 Đọc dữ liệu từ file csv "
   ]
  },
  {
   "cell_type": "code",
   "execution_count": 2,
   "metadata": {},
   "outputs": [],
   "source": [
    "unicorns_df = pd.read_csv(\"CB-Insights_Global-Unicorns_2020.csv\")\n",
    "startup_df = pd.read_csv(\"startup_funding.csv\")\n",
    "investor_df = pd.read_csv(\"funds.csv\")"
   ]
  },
  {
   "cell_type": "markdown",
   "metadata": {},
   "source": [
    "## 1. 2 Tổng quan về dữ liệu"
   ]
  },
  {
   "cell_type": "markdown",
   "metadata": {},
   "source": [
    "### 1.2.1 Dữ liệu unicorn"
   ]
  },
  {
   "cell_type": "markdown",
   "metadata": {},
   "source": [
    "#### 1.2.1.1 Ý nghĩa dữ liệu"
   ]
  },
  {
   "cell_type": "code",
   "execution_count": 3,
   "metadata": {},
   "outputs": [
    {
     "data": {
      "text/html": [
       "<div>\n",
       "<style scoped>\n",
       "    .dataframe tbody tr th:only-of-type {\n",
       "        vertical-align: middle;\n",
       "    }\n",
       "\n",
       "    .dataframe tbody tr th {\n",
       "        vertical-align: top;\n",
       "    }\n",
       "\n",
       "    .dataframe thead th {\n",
       "        text-align: right;\n",
       "    }\n",
       "</style>\n",
       "<table border=\"1\" class=\"dataframe\">\n",
       "  <thead>\n",
       "    <tr style=\"text-align: right;\">\n",
       "      <th></th>\n",
       "      <th>Unnamed: 0</th>\n",
       "      <th>Company</th>\n",
       "      <th>Valuation ($B)</th>\n",
       "      <th>Date Joined</th>\n",
       "      <th>Country</th>\n",
       "      <th>Industry</th>\n",
       "      <th>Select Investors</th>\n",
       "    </tr>\n",
       "  </thead>\n",
       "  <tbody>\n",
       "    <tr>\n",
       "      <td>0</td>\n",
       "      <td>0</td>\n",
       "      <td>Toutiao (Bytedance)</td>\n",
       "      <td>$140</td>\n",
       "      <td>4/7/2017</td>\n",
       "      <td>China</td>\n",
       "      <td>Artificial intelligence</td>\n",
       "      <td>Sequoia Capital China, SIG Asia Investments, S...</td>\n",
       "    </tr>\n",
       "    <tr>\n",
       "      <td>1</td>\n",
       "      <td>1</td>\n",
       "      <td>Didi Chuxing</td>\n",
       "      <td>$56</td>\n",
       "      <td>12/31/2014</td>\n",
       "      <td>China</td>\n",
       "      <td>Auto &amp; transportation</td>\n",
       "      <td>Matrix Partners, Tiger  Global Management, Sof...</td>\n",
       "    </tr>\n",
       "    <tr>\n",
       "      <td>2</td>\n",
       "      <td>2</td>\n",
       "      <td>SpaceX</td>\n",
       "      <td>$46</td>\n",
       "      <td>12/1/2012</td>\n",
       "      <td>United States</td>\n",
       "      <td>Other</td>\n",
       "      <td>Founders Fund, Draper  Fisher Jurvetson, Rothe...</td>\n",
       "    </tr>\n",
       "    <tr>\n",
       "      <td>3</td>\n",
       "      <td>3</td>\n",
       "      <td>Stripe</td>\n",
       "      <td>$36</td>\n",
       "      <td>1/23/2014</td>\n",
       "      <td>United States</td>\n",
       "      <td>Fintech</td>\n",
       "      <td>Khosla Ventures, LowercaseCapital, capitalG</td>\n",
       "    </tr>\n",
       "    <tr>\n",
       "      <td>4</td>\n",
       "      <td>4</td>\n",
       "      <td>Palantir Technologies</td>\n",
       "      <td>$20</td>\n",
       "      <td>5/5/2011</td>\n",
       "      <td>United States</td>\n",
       "      <td>Data management &amp; analytics</td>\n",
       "      <td>RRE Ventures, Founders  Fund, In-Q-Tel</td>\n",
       "    </tr>\n",
       "  </tbody>\n",
       "</table>\n",
       "</div>"
      ],
      "text/plain": [
       "   Unnamed: 0                Company Valuation ($B) Date Joined  \\\n",
       "0           0    Toutiao (Bytedance)           $140    4/7/2017   \n",
       "1           1         Didi Chuxing              $56  12/31/2014   \n",
       "2           2                 SpaceX            $46   12/1/2012   \n",
       "3           3                 Stripe            $36   1/23/2014   \n",
       "4           4  Palantir Technologies            $20    5/5/2011   \n",
       "\n",
       "         Country                     Industry  \\\n",
       "0          China      Artificial intelligence   \n",
       "1          China        Auto & transportation   \n",
       "2  United States                        Other   \n",
       "3  United States                      Fintech   \n",
       "4  United States  Data management & analytics   \n",
       "\n",
       "                                    Select Investors  \n",
       "0  Sequoia Capital China, SIG Asia Investments, S...  \n",
       "1  Matrix Partners, Tiger  Global Management, Sof...  \n",
       "2  Founders Fund, Draper  Fisher Jurvetson, Rothe...  \n",
       "3        Khosla Ventures, LowercaseCapital, capitalG  \n",
       "4             RRE Ventures, Founders  Fund, In-Q-Tel  "
      ]
     },
     "execution_count": 3,
     "metadata": {},
     "output_type": "execute_result"
    }
   ],
   "source": [
    "unicorns_df.head()"
   ]
  },
  {
   "cell_type": "code",
   "execution_count": 4,
   "metadata": {},
   "outputs": [
    {
     "name": "stdout",
     "output_type": "stream",
     "text": [
      "<class 'pandas.core.frame.DataFrame'>\n",
      "RangeIndex: 472 entries, 0 to 471\n",
      "Data columns (total 7 columns):\n",
      "Unnamed: 0          472 non-null int64\n",
      "Company             472 non-null object\n",
      "Valuation ($B)      472 non-null object\n",
      "Date Joined         472 non-null object\n",
      "Country             472 non-null object\n",
      "Industry            472 non-null object\n",
      "Select Investors    471 non-null object\n",
      "dtypes: int64(1), object(6)\n",
      "memory usage: 25.9+ KB\n"
     ]
    }
   ],
   "source": [
    "unicorns_df.info()"
   ]
  },
  {
   "cell_type": "code",
   "execution_count": 5,
   "metadata": {},
   "outputs": [
    {
     "data": {
      "text/plain": [
       "Unnamed: 0          472\n",
       "Company             472\n",
       "Valuation ($B)      117\n",
       "Date Joined         401\n",
       "Country              30\n",
       "Industry             16\n",
       "Select Investors    469\n",
       "dtype: int64"
      ]
     },
     "execution_count": 5,
     "metadata": {},
     "output_type": "execute_result"
    }
   ],
   "source": [
    "unicorns_df.nunique()"
   ]
  },
  {
   "cell_type": "code",
   "execution_count": 6,
   "metadata": {},
   "outputs": [
    {
     "data": {
      "text/plain": [
       "(472, 7)"
      ]
     },
     "execution_count": 6,
     "metadata": {},
     "output_type": "execute_result"
    }
   ],
   "source": [
    "unicorns_df.shape"
   ]
  },
  {
   "cell_type": "code",
   "execution_count": 7,
   "metadata": {},
   "outputs": [
    {
     "name": "stdout",
     "output_type": "stream",
     "text": [
      "NaN\n",
      "Unnamed: 0          0\n",
      "Company             0\n",
      "Valuation ($B)      0\n",
      "Date Joined         0\n",
      "Country             0\n",
      "Industry            0\n",
      "Select Investors    1\n",
      "dtype: int64\n"
     ]
    }
   ],
   "source": [
    "print(\"NaN\")\n",
    "print(unicorns_df.isnull().sum())"
   ]
  },
  {
   "cell_type": "markdown",
   "metadata": {},
   "source": [
    "#### Ý nghĩa các cột dữ liệu:\n",
    "\n",
    "- **Company**: Tên công ty (start up)\n",
    "- **Valuation**: Định giá công ty (tỉ USD)\n",
    "- **Date Joined**: Ngày được công nhận là unicorn\n",
    "- **Country**: Quốc gia\n",
    "- **Category**: Lĩnh vực công ty\n",
    "- **Select Investors**: Các nhà đầu tư"
   ]
  },
  {
   "cell_type": "markdown",
   "metadata": {},
   "source": [
    "**Tổng quan về các dòng và cột dữ liệu**\n",
    "\n",
    "Dữ liệu gồm 449 dòng và 6 cột:\n",
    "- Chỉ có 1 dòng dữ liệu có dữ liệu NaN ở cột Select Investors.\n",
    "- Có 449 unicorns được ghi nhận tính tới thời 29/1/2020.\n",
    "- Có 27 quốc gia có unicorns.\n",
    "- Có 16 lĩnh vực được quan tâm và trở thành unicorns.\n",
    "- Cả 6 cột đều có kiểu dữ liệu là object, nhưng ta nhận thấy ở cột thứ 2 kiểu dữ liệu nên là numerical, và cột thứ 3 là datetime. Ta sẽ tiền xử lý ở bước sau."
   ]
  },
  {
   "cell_type": "markdown",
   "metadata": {},
   "source": [
    "### 1.2.1.2 Tiền xử lý "
   ]
  },
  {
   "cell_type": "code",
   "execution_count": 8,
   "metadata": {},
   "outputs": [
    {
     "data": {
      "text/html": [
       "<div>\n",
       "<style scoped>\n",
       "    .dataframe tbody tr th:only-of-type {\n",
       "        vertical-align: middle;\n",
       "    }\n",
       "\n",
       "    .dataframe tbody tr th {\n",
       "        vertical-align: top;\n",
       "    }\n",
       "\n",
       "    .dataframe thead th {\n",
       "        text-align: right;\n",
       "    }\n",
       "</style>\n",
       "<table border=\"1\" class=\"dataframe\">\n",
       "  <thead>\n",
       "    <tr style=\"text-align: right;\">\n",
       "      <th></th>\n",
       "      <th>Rank</th>\n",
       "      <th>Company</th>\n",
       "      <th>Valuation ($B)</th>\n",
       "      <th>Date Joined</th>\n",
       "      <th>Country</th>\n",
       "      <th>Industry</th>\n",
       "      <th>Select Investors</th>\n",
       "    </tr>\n",
       "  </thead>\n",
       "  <tbody>\n",
       "    <tr>\n",
       "      <td>0</td>\n",
       "      <td>0</td>\n",
       "      <td>Toutiao (Bytedance)</td>\n",
       "      <td>$140</td>\n",
       "      <td>4/7/2017</td>\n",
       "      <td>China</td>\n",
       "      <td>Artificial intelligence</td>\n",
       "      <td>Sequoia Capital China, SIG Asia Investments, S...</td>\n",
       "    </tr>\n",
       "    <tr>\n",
       "      <td>1</td>\n",
       "      <td>1</td>\n",
       "      <td>Didi Chuxing</td>\n",
       "      <td>$56</td>\n",
       "      <td>12/31/2014</td>\n",
       "      <td>China</td>\n",
       "      <td>Auto &amp; transportation</td>\n",
       "      <td>Matrix Partners, Tiger  Global Management, Sof...</td>\n",
       "    </tr>\n",
       "    <tr>\n",
       "      <td>2</td>\n",
       "      <td>2</td>\n",
       "      <td>SpaceX</td>\n",
       "      <td>$46</td>\n",
       "      <td>12/1/2012</td>\n",
       "      <td>United States</td>\n",
       "      <td>Other</td>\n",
       "      <td>Founders Fund, Draper  Fisher Jurvetson, Rothe...</td>\n",
       "    </tr>\n",
       "    <tr>\n",
       "      <td>3</td>\n",
       "      <td>3</td>\n",
       "      <td>Stripe</td>\n",
       "      <td>$36</td>\n",
       "      <td>1/23/2014</td>\n",
       "      <td>United States</td>\n",
       "      <td>Fintech</td>\n",
       "      <td>Khosla Ventures, LowercaseCapital, capitalG</td>\n",
       "    </tr>\n",
       "    <tr>\n",
       "      <td>4</td>\n",
       "      <td>4</td>\n",
       "      <td>Palantir Technologies</td>\n",
       "      <td>$20</td>\n",
       "      <td>5/5/2011</td>\n",
       "      <td>United States</td>\n",
       "      <td>Data management &amp; analytics</td>\n",
       "      <td>RRE Ventures, Founders  Fund, In-Q-Tel</td>\n",
       "    </tr>\n",
       "  </tbody>\n",
       "</table>\n",
       "</div>"
      ],
      "text/plain": [
       "   Rank                Company Valuation ($B) Date Joined        Country  \\\n",
       "0     0    Toutiao (Bytedance)           $140    4/7/2017          China   \n",
       "1     1         Didi Chuxing              $56  12/31/2014          China   \n",
       "2     2                 SpaceX            $46   12/1/2012  United States   \n",
       "3     3                 Stripe            $36   1/23/2014  United States   \n",
       "4     4  Palantir Technologies            $20    5/5/2011  United States   \n",
       "\n",
       "                      Industry  \\\n",
       "0      Artificial intelligence   \n",
       "1        Auto & transportation   \n",
       "2                        Other   \n",
       "3                      Fintech   \n",
       "4  Data management & analytics   \n",
       "\n",
       "                                    Select Investors  \n",
       "0  Sequoia Capital China, SIG Asia Investments, S...  \n",
       "1  Matrix Partners, Tiger  Global Management, Sof...  \n",
       "2  Founders Fund, Draper  Fisher Jurvetson, Rothe...  \n",
       "3        Khosla Ventures, LowercaseCapital, capitalG  \n",
       "4             RRE Ventures, Founders  Fund, In-Q-Tel  "
      ]
     },
     "execution_count": 8,
     "metadata": {},
     "output_type": "execute_result"
    }
   ],
   "source": [
    "unicorns_df = unicorns_df.rename(columns = {'Unnamed: 0':'Rank'})\n",
    "unicorns_df.head()"
   ]
  },
  {
   "cell_type": "markdown",
   "metadata": {},
   "source": [
    "**Cột Valuadation**\n",
    "\n",
    "- Xóa ký tự \\$ ở đầu và chuyển sang dạng numerical"
   ]
  },
  {
   "cell_type": "code",
   "execution_count": 9,
   "metadata": {},
   "outputs": [
    {
     "data": {
      "text/html": [
       "<div>\n",
       "<style scoped>\n",
       "    .dataframe tbody tr th:only-of-type {\n",
       "        vertical-align: middle;\n",
       "    }\n",
       "\n",
       "    .dataframe tbody tr th {\n",
       "        vertical-align: top;\n",
       "    }\n",
       "\n",
       "    .dataframe thead th {\n",
       "        text-align: right;\n",
       "    }\n",
       "</style>\n",
       "<table border=\"1\" class=\"dataframe\">\n",
       "  <thead>\n",
       "    <tr style=\"text-align: right;\">\n",
       "      <th></th>\n",
       "      <th>Rank</th>\n",
       "      <th>Company</th>\n",
       "      <th>Valuation ($B)</th>\n",
       "      <th>Date Joined</th>\n",
       "      <th>Country</th>\n",
       "      <th>Industry</th>\n",
       "      <th>Select Investors</th>\n",
       "    </tr>\n",
       "  </thead>\n",
       "  <tbody>\n",
       "    <tr>\n",
       "      <td>0</td>\n",
       "      <td>0</td>\n",
       "      <td>Toutiao (Bytedance)</td>\n",
       "      <td>140.0</td>\n",
       "      <td>4/7/2017</td>\n",
       "      <td>China</td>\n",
       "      <td>Artificial intelligence</td>\n",
       "      <td>Sequoia Capital China, SIG Asia Investments, S...</td>\n",
       "    </tr>\n",
       "    <tr>\n",
       "      <td>1</td>\n",
       "      <td>1</td>\n",
       "      <td>Didi Chuxing</td>\n",
       "      <td>56.0</td>\n",
       "      <td>12/31/2014</td>\n",
       "      <td>China</td>\n",
       "      <td>Auto &amp; transportation</td>\n",
       "      <td>Matrix Partners, Tiger  Global Management, Sof...</td>\n",
       "    </tr>\n",
       "    <tr>\n",
       "      <td>2</td>\n",
       "      <td>2</td>\n",
       "      <td>SpaceX</td>\n",
       "      <td>46.0</td>\n",
       "      <td>12/1/2012</td>\n",
       "      <td>United States</td>\n",
       "      <td>Other</td>\n",
       "      <td>Founders Fund, Draper  Fisher Jurvetson, Rothe...</td>\n",
       "    </tr>\n",
       "    <tr>\n",
       "      <td>3</td>\n",
       "      <td>3</td>\n",
       "      <td>Stripe</td>\n",
       "      <td>36.0</td>\n",
       "      <td>1/23/2014</td>\n",
       "      <td>United States</td>\n",
       "      <td>Fintech</td>\n",
       "      <td>Khosla Ventures, LowercaseCapital, capitalG</td>\n",
       "    </tr>\n",
       "    <tr>\n",
       "      <td>4</td>\n",
       "      <td>4</td>\n",
       "      <td>Palantir Technologies</td>\n",
       "      <td>20.0</td>\n",
       "      <td>5/5/2011</td>\n",
       "      <td>United States</td>\n",
       "      <td>Data management &amp; analytics</td>\n",
       "      <td>RRE Ventures, Founders  Fund, In-Q-Tel</td>\n",
       "    </tr>\n",
       "  </tbody>\n",
       "</table>\n",
       "</div>"
      ],
      "text/plain": [
       "   Rank                Company  Valuation ($B) Date Joined        Country  \\\n",
       "0     0    Toutiao (Bytedance)           140.0    4/7/2017          China   \n",
       "1     1         Didi Chuxing              56.0  12/31/2014          China   \n",
       "2     2                 SpaceX            46.0   12/1/2012  United States   \n",
       "3     3                 Stripe            36.0   1/23/2014  United States   \n",
       "4     4  Palantir Technologies            20.0    5/5/2011  United States   \n",
       "\n",
       "                      Industry  \\\n",
       "0      Artificial intelligence   \n",
       "1        Auto & transportation   \n",
       "2                        Other   \n",
       "3                      Fintech   \n",
       "4  Data management & analytics   \n",
       "\n",
       "                                    Select Investors  \n",
       "0  Sequoia Capital China, SIG Asia Investments, S...  \n",
       "1  Matrix Partners, Tiger  Global Management, Sof...  \n",
       "2  Founders Fund, Draper  Fisher Jurvetson, Rothe...  \n",
       "3        Khosla Ventures, LowercaseCapital, capitalG  \n",
       "4             RRE Ventures, Founders  Fund, In-Q-Tel  "
      ]
     },
     "execution_count": 9,
     "metadata": {},
     "output_type": "execute_result"
    }
   ],
   "source": [
    "unicorns_df = unicorns_df.replace('\\$','', regex=True)\n",
    "unicorns_df[\"Valuation ($B)\"] = unicorns_df[\"Valuation ($B)\"].astype(float)\n",
    "unicorns_df.head()"
   ]
  },
  {
   "cell_type": "markdown",
   "metadata": {},
   "source": [
    "**Cột Date Joined**\n",
    "\n",
    "- Chuyển về dạng datetime "
   ]
  },
  {
   "cell_type": "code",
   "execution_count": 10,
   "metadata": {},
   "outputs": [
    {
     "data": {
      "text/html": [
       "<div>\n",
       "<style scoped>\n",
       "    .dataframe tbody tr th:only-of-type {\n",
       "        vertical-align: middle;\n",
       "    }\n",
       "\n",
       "    .dataframe tbody tr th {\n",
       "        vertical-align: top;\n",
       "    }\n",
       "\n",
       "    .dataframe thead th {\n",
       "        text-align: right;\n",
       "    }\n",
       "</style>\n",
       "<table border=\"1\" class=\"dataframe\">\n",
       "  <thead>\n",
       "    <tr style=\"text-align: right;\">\n",
       "      <th></th>\n",
       "      <th>Rank</th>\n",
       "      <th>Company</th>\n",
       "      <th>Valuation ($B)</th>\n",
       "      <th>Date Joined</th>\n",
       "      <th>Country</th>\n",
       "      <th>Industry</th>\n",
       "      <th>Select Investors</th>\n",
       "    </tr>\n",
       "  </thead>\n",
       "  <tbody>\n",
       "    <tr>\n",
       "      <td>0</td>\n",
       "      <td>0</td>\n",
       "      <td>Toutiao (Bytedance)</td>\n",
       "      <td>140.0</td>\n",
       "      <td>2017-04-07</td>\n",
       "      <td>China</td>\n",
       "      <td>Artificial intelligence</td>\n",
       "      <td>Sequoia Capital China, SIG Asia Investments, S...</td>\n",
       "    </tr>\n",
       "    <tr>\n",
       "      <td>1</td>\n",
       "      <td>1</td>\n",
       "      <td>Didi Chuxing</td>\n",
       "      <td>56.0</td>\n",
       "      <td>2014-12-31</td>\n",
       "      <td>China</td>\n",
       "      <td>Auto &amp; transportation</td>\n",
       "      <td>Matrix Partners, Tiger  Global Management, Sof...</td>\n",
       "    </tr>\n",
       "    <tr>\n",
       "      <td>2</td>\n",
       "      <td>2</td>\n",
       "      <td>SpaceX</td>\n",
       "      <td>46.0</td>\n",
       "      <td>2012-12-01</td>\n",
       "      <td>United States</td>\n",
       "      <td>Other</td>\n",
       "      <td>Founders Fund, Draper  Fisher Jurvetson, Rothe...</td>\n",
       "    </tr>\n",
       "    <tr>\n",
       "      <td>3</td>\n",
       "      <td>3</td>\n",
       "      <td>Stripe</td>\n",
       "      <td>36.0</td>\n",
       "      <td>2014-01-23</td>\n",
       "      <td>United States</td>\n",
       "      <td>Fintech</td>\n",
       "      <td>Khosla Ventures, LowercaseCapital, capitalG</td>\n",
       "    </tr>\n",
       "    <tr>\n",
       "      <td>4</td>\n",
       "      <td>4</td>\n",
       "      <td>Palantir Technologies</td>\n",
       "      <td>20.0</td>\n",
       "      <td>2011-05-05</td>\n",
       "      <td>United States</td>\n",
       "      <td>Data management &amp; analytics</td>\n",
       "      <td>RRE Ventures, Founders  Fund, In-Q-Tel</td>\n",
       "    </tr>\n",
       "  </tbody>\n",
       "</table>\n",
       "</div>"
      ],
      "text/plain": [
       "   Rank                Company  Valuation ($B) Date Joined        Country  \\\n",
       "0     0    Toutiao (Bytedance)           140.0  2017-04-07          China   \n",
       "1     1         Didi Chuxing              56.0  2014-12-31          China   \n",
       "2     2                 SpaceX            46.0  2012-12-01  United States   \n",
       "3     3                 Stripe            36.0  2014-01-23  United States   \n",
       "4     4  Palantir Technologies            20.0  2011-05-05  United States   \n",
       "\n",
       "                      Industry  \\\n",
       "0      Artificial intelligence   \n",
       "1        Auto & transportation   \n",
       "2                        Other   \n",
       "3                      Fintech   \n",
       "4  Data management & analytics   \n",
       "\n",
       "                                    Select Investors  \n",
       "0  Sequoia Capital China, SIG Asia Investments, S...  \n",
       "1  Matrix Partners, Tiger  Global Management, Sof...  \n",
       "2  Founders Fund, Draper  Fisher Jurvetson, Rothe...  \n",
       "3        Khosla Ventures, LowercaseCapital, capitalG  \n",
       "4             RRE Ventures, Founders  Fund, In-Q-Tel  "
      ]
     },
     "execution_count": 10,
     "metadata": {},
     "output_type": "execute_result"
    }
   ],
   "source": [
    "unicorns_df['Date Joined'] =  pd.to_datetime(unicorns_df['Date Joined'])\n",
    "unicorns_df.head()"
   ]
  },
  {
   "cell_type": "markdown",
   "metadata": {},
   "source": [
    "**Dữ liệu sau khi tiền xử lý**"
   ]
  },
  {
   "cell_type": "code",
   "execution_count": 11,
   "metadata": {},
   "outputs": [
    {
     "name": "stdout",
     "output_type": "stream",
     "text": [
      "<class 'pandas.core.frame.DataFrame'>\n",
      "RangeIndex: 472 entries, 0 to 471\n",
      "Data columns (total 7 columns):\n",
      "Rank                472 non-null int64\n",
      "Company             472 non-null object\n",
      "Valuation ($B)      472 non-null float64\n",
      "Date Joined         472 non-null datetime64[ns]\n",
      "Country             472 non-null object\n",
      "Industry            472 non-null object\n",
      "Select Investors    471 non-null object\n",
      "dtypes: datetime64[ns](1), float64(1), int64(1), object(4)\n",
      "memory usage: 25.9+ KB\n"
     ]
    }
   ],
   "source": [
    "unicorns_df.info()"
   ]
  },
  {
   "cell_type": "code",
   "execution_count": 12,
   "metadata": {},
   "outputs": [
    {
     "data": {
      "text/html": [
       "<div>\n",
       "<style scoped>\n",
       "    .dataframe tbody tr th:only-of-type {\n",
       "        vertical-align: middle;\n",
       "    }\n",
       "\n",
       "    .dataframe tbody tr th {\n",
       "        vertical-align: top;\n",
       "    }\n",
       "\n",
       "    .dataframe thead th {\n",
       "        text-align: right;\n",
       "    }\n",
       "</style>\n",
       "<table border=\"1\" class=\"dataframe\">\n",
       "  <thead>\n",
       "    <tr style=\"text-align: right;\">\n",
       "      <th></th>\n",
       "      <th>Rank</th>\n",
       "      <th>Company</th>\n",
       "      <th>Valuation ($B)</th>\n",
       "      <th>Date Joined</th>\n",
       "      <th>Country</th>\n",
       "      <th>Industry</th>\n",
       "      <th>Select Investors</th>\n",
       "    </tr>\n",
       "  </thead>\n",
       "  <tbody>\n",
       "    <tr>\n",
       "      <td>0</td>\n",
       "      <td>0</td>\n",
       "      <td>Toutiao (Bytedance)</td>\n",
       "      <td>140.0</td>\n",
       "      <td>2017-04-07</td>\n",
       "      <td>China</td>\n",
       "      <td>Artificial intelligence</td>\n",
       "      <td>Sequoia Capital China, SIG Asia Investments, S...</td>\n",
       "    </tr>\n",
       "    <tr>\n",
       "      <td>1</td>\n",
       "      <td>1</td>\n",
       "      <td>Didi Chuxing</td>\n",
       "      <td>56.0</td>\n",
       "      <td>2014-12-31</td>\n",
       "      <td>China</td>\n",
       "      <td>Auto &amp; transportation</td>\n",
       "      <td>Matrix Partners, Tiger  Global Management, Sof...</td>\n",
       "    </tr>\n",
       "    <tr>\n",
       "      <td>2</td>\n",
       "      <td>2</td>\n",
       "      <td>SpaceX</td>\n",
       "      <td>46.0</td>\n",
       "      <td>2012-12-01</td>\n",
       "      <td>United States</td>\n",
       "      <td>Other</td>\n",
       "      <td>Founders Fund, Draper  Fisher Jurvetson, Rothe...</td>\n",
       "    </tr>\n",
       "    <tr>\n",
       "      <td>3</td>\n",
       "      <td>3</td>\n",
       "      <td>Stripe</td>\n",
       "      <td>36.0</td>\n",
       "      <td>2014-01-23</td>\n",
       "      <td>United States</td>\n",
       "      <td>Fintech</td>\n",
       "      <td>Khosla Ventures, LowercaseCapital, capitalG</td>\n",
       "    </tr>\n",
       "    <tr>\n",
       "      <td>4</td>\n",
       "      <td>4</td>\n",
       "      <td>Palantir Technologies</td>\n",
       "      <td>20.0</td>\n",
       "      <td>2011-05-05</td>\n",
       "      <td>United States</td>\n",
       "      <td>Data management &amp; analytics</td>\n",
       "      <td>RRE Ventures, Founders  Fund, In-Q-Tel</td>\n",
       "    </tr>\n",
       "  </tbody>\n",
       "</table>\n",
       "</div>"
      ],
      "text/plain": [
       "   Rank                Company  Valuation ($B) Date Joined        Country  \\\n",
       "0     0    Toutiao (Bytedance)           140.0  2017-04-07          China   \n",
       "1     1         Didi Chuxing              56.0  2014-12-31          China   \n",
       "2     2                 SpaceX            46.0  2012-12-01  United States   \n",
       "3     3                 Stripe            36.0  2014-01-23  United States   \n",
       "4     4  Palantir Technologies            20.0  2011-05-05  United States   \n",
       "\n",
       "                      Industry  \\\n",
       "0      Artificial intelligence   \n",
       "1        Auto & transportation   \n",
       "2                        Other   \n",
       "3                      Fintech   \n",
       "4  Data management & analytics   \n",
       "\n",
       "                                    Select Investors  \n",
       "0  Sequoia Capital China, SIG Asia Investments, S...  \n",
       "1  Matrix Partners, Tiger  Global Management, Sof...  \n",
       "2  Founders Fund, Draper  Fisher Jurvetson, Rothe...  \n",
       "3        Khosla Ventures, LowercaseCapital, capitalG  \n",
       "4             RRE Ventures, Founders  Fund, In-Q-Tel  "
      ]
     },
     "execution_count": 12,
     "metadata": {},
     "output_type": "execute_result"
    }
   ],
   "source": [
    "unicorns_df.head()"
   ]
  },
  {
   "cell_type": "markdown",
   "metadata": {},
   "source": [
    "### 1.2.2 Dữ liệu startup ở Ấn Độ"
   ]
  },
  {
   "cell_type": "markdown",
   "metadata": {},
   "source": [
    "#### 1.2.2.1 Ý nghĩa dữ liệu"
   ]
  },
  {
   "cell_type": "code",
   "execution_count": 13,
   "metadata": {},
   "outputs": [
    {
     "data": {
      "text/html": [
       "<div>\n",
       "<style scoped>\n",
       "    .dataframe tbody tr th:only-of-type {\n",
       "        vertical-align: middle;\n",
       "    }\n",
       "\n",
       "    .dataframe tbody tr th {\n",
       "        vertical-align: top;\n",
       "    }\n",
       "\n",
       "    .dataframe thead th {\n",
       "        text-align: right;\n",
       "    }\n",
       "</style>\n",
       "<table border=\"1\" class=\"dataframe\">\n",
       "  <thead>\n",
       "    <tr style=\"text-align: right;\">\n",
       "      <th></th>\n",
       "      <th>Sr No</th>\n",
       "      <th>Date dd/mm/yyyy</th>\n",
       "      <th>Startup Name</th>\n",
       "      <th>Industry Vertical</th>\n",
       "      <th>SubVertical</th>\n",
       "      <th>City  Location</th>\n",
       "      <th>Investors Name</th>\n",
       "      <th>InvestmentnType</th>\n",
       "      <th>Amount in USD</th>\n",
       "      <th>Remarks</th>\n",
       "    </tr>\n",
       "  </thead>\n",
       "  <tbody>\n",
       "    <tr>\n",
       "      <td>0</td>\n",
       "      <td>1</td>\n",
       "      <td>09/01/2020</td>\n",
       "      <td>BYJU’S</td>\n",
       "      <td>E-Tech</td>\n",
       "      <td>E-learning</td>\n",
       "      <td>Bengaluru</td>\n",
       "      <td>Tiger Global Management</td>\n",
       "      <td>Private Equity Round</td>\n",
       "      <td>20,00,00,000</td>\n",
       "      <td>NaN</td>\n",
       "    </tr>\n",
       "    <tr>\n",
       "      <td>1</td>\n",
       "      <td>2</td>\n",
       "      <td>13/01/2020</td>\n",
       "      <td>Shuttl</td>\n",
       "      <td>Transportation</td>\n",
       "      <td>App based shuttle service</td>\n",
       "      <td>Gurgaon</td>\n",
       "      <td>Susquehanna Growth Equity</td>\n",
       "      <td>Series C</td>\n",
       "      <td>80,48,394</td>\n",
       "      <td>NaN</td>\n",
       "    </tr>\n",
       "    <tr>\n",
       "      <td>2</td>\n",
       "      <td>3</td>\n",
       "      <td>09/01/2020</td>\n",
       "      <td>Mamaearth</td>\n",
       "      <td>E-commerce</td>\n",
       "      <td>Retailer of baby and toddler products</td>\n",
       "      <td>Bengaluru</td>\n",
       "      <td>Sequoia Capital India</td>\n",
       "      <td>Series B</td>\n",
       "      <td>1,83,58,860</td>\n",
       "      <td>NaN</td>\n",
       "    </tr>\n",
       "    <tr>\n",
       "      <td>3</td>\n",
       "      <td>4</td>\n",
       "      <td>02/01/2020</td>\n",
       "      <td>https://www.wealthbucket.in/</td>\n",
       "      <td>FinTech</td>\n",
       "      <td>Online Investment</td>\n",
       "      <td>New Delhi</td>\n",
       "      <td>Vinod Khatumal</td>\n",
       "      <td>Pre-series A</td>\n",
       "      <td>30,00,000</td>\n",
       "      <td>NaN</td>\n",
       "    </tr>\n",
       "    <tr>\n",
       "      <td>4</td>\n",
       "      <td>5</td>\n",
       "      <td>02/01/2020</td>\n",
       "      <td>Fashor</td>\n",
       "      <td>Fashion and Apparel</td>\n",
       "      <td>Embroiled Clothes For Women</td>\n",
       "      <td>Mumbai</td>\n",
       "      <td>Sprout Venture Partners</td>\n",
       "      <td>Seed Round</td>\n",
       "      <td>18,00,000</td>\n",
       "      <td>NaN</td>\n",
       "    </tr>\n",
       "  </tbody>\n",
       "</table>\n",
       "</div>"
      ],
      "text/plain": [
       "   Sr No Date dd/mm/yyyy                  Startup Name    Industry Vertical  \\\n",
       "0      1      09/01/2020                        BYJU’S               E-Tech   \n",
       "1      2      13/01/2020                        Shuttl       Transportation   \n",
       "2      3      09/01/2020                     Mamaearth           E-commerce   \n",
       "3      4      02/01/2020  https://www.wealthbucket.in/              FinTech   \n",
       "4      5      02/01/2020                        Fashor  Fashion and Apparel   \n",
       "\n",
       "                             SubVertical City  Location  \\\n",
       "0                             E-learning      Bengaluru   \n",
       "1              App based shuttle service        Gurgaon   \n",
       "2  Retailer of baby and toddler products      Bengaluru   \n",
       "3                      Online Investment      New Delhi   \n",
       "4            Embroiled Clothes For Women         Mumbai   \n",
       "\n",
       "              Investors Name       InvestmentnType Amount in USD Remarks  \n",
       "0    Tiger Global Management  Private Equity Round  20,00,00,000     NaN  \n",
       "1  Susquehanna Growth Equity              Series C     80,48,394     NaN  \n",
       "2      Sequoia Capital India              Series B   1,83,58,860     NaN  \n",
       "3             Vinod Khatumal          Pre-series A     30,00,000     NaN  \n",
       "4    Sprout Venture Partners            Seed Round     18,00,000     NaN  "
      ]
     },
     "execution_count": 13,
     "metadata": {},
     "output_type": "execute_result"
    }
   ],
   "source": [
    "startup_df.head()"
   ]
  },
  {
   "cell_type": "code",
   "execution_count": 14,
   "metadata": {},
   "outputs": [
    {
     "name": "stdout",
     "output_type": "stream",
     "text": [
      "<class 'pandas.core.frame.DataFrame'>\n",
      "RangeIndex: 3044 entries, 0 to 3043\n",
      "Data columns (total 10 columns):\n",
      "Sr No                3044 non-null int64\n",
      "Date dd/mm/yyyy      3044 non-null object\n",
      "Startup Name         3044 non-null object\n",
      "Industry Vertical    2873 non-null object\n",
      "SubVertical          2108 non-null object\n",
      "City  Location       2864 non-null object\n",
      "Investors Name       3020 non-null object\n",
      "InvestmentnType      3040 non-null object\n",
      "Amount in USD        2084 non-null object\n",
      "Remarks              419 non-null object\n",
      "dtypes: int64(1), object(9)\n",
      "memory usage: 237.9+ KB\n"
     ]
    }
   ],
   "source": [
    "startup_df.info()"
   ]
  },
  {
   "cell_type": "code",
   "execution_count": 15,
   "metadata": {},
   "outputs": [
    {
     "data": {
      "text/plain": [
       "Sr No                3044\n",
       "Date dd/mm/yyyy      1035\n",
       "Startup Name         2459\n",
       "Industry Vertical     821\n",
       "SubVertical          1942\n",
       "City  Location        112\n",
       "Investors Name       2412\n",
       "InvestmentnType        55\n",
       "Amount in USD         471\n",
       "Remarks                72\n",
       "dtype: int64"
      ]
     },
     "execution_count": 15,
     "metadata": {},
     "output_type": "execute_result"
    }
   ],
   "source": [
    "startup_df.nunique()"
   ]
  },
  {
   "cell_type": "code",
   "execution_count": 16,
   "metadata": {},
   "outputs": [
    {
     "name": "stdout",
     "output_type": "stream",
     "text": [
      "NaN\n",
      "Sr No                   0\n",
      "Date dd/mm/yyyy         0\n",
      "Startup Name            0\n",
      "Industry Vertical     171\n",
      "SubVertical           936\n",
      "City  Location        180\n",
      "Investors Name         24\n",
      "InvestmentnType         4\n",
      "Amount in USD         960\n",
      "Remarks              2625\n",
      "dtype: int64\n"
     ]
    }
   ],
   "source": [
    "print(\"NaN\")\n",
    "print(startup_df.isnull().sum())"
   ]
  },
  {
   "cell_type": "code",
   "execution_count": 17,
   "metadata": {},
   "outputs": [
    {
     "data": {
      "text/plain": [
       "(3044, 10)"
      ]
     },
     "execution_count": 17,
     "metadata": {},
     "output_type": "execute_result"
    }
   ],
   "source": [
    "startup_df.shape"
   ]
  },
  {
   "cell_type": "code",
   "execution_count": 18,
   "metadata": {},
   "outputs": [],
   "source": [
    "startup_df = startup_df.drop('Remarks', axis = 1)"
   ]
  },
  {
   "cell_type": "markdown",
   "metadata": {},
   "source": [
    "#### Ý nghĩa các cột dữ liệu:\n",
    "\n",
    "- **Date**: Ngày nhận vốn đầu tư phát triển\n",
    "- **Startup Name**: Tên công ty (start up)\n",
    "- **Industry Vertical**: Lĩnh vực chính của công ty\n",
    "- **SubVertical**: Lĩnh vực phụ của công ty\n",
    "- **City Location**: Thành phố của trụ sở công ty\n",
    "- **Investors Name**: Tên nhà đầu tư\n",
    "- **InvestmentnType**: Loại hình đầu tư\n",
    "- **Amount in USD**: Số tiền đầu tư (theo USD)"
   ]
  },
  {
   "cell_type": "markdown",
   "metadata": {},
   "source": [
    "**Tổng quan về các dòng và cột dữ liệu**\n",
    "\n",
    "Dữ liệu gồm 3044 dòng và 10 cột:\n",
    "- Có tổng cộng 3044 start up ở Ấn Độ.\n",
    "- Dữ liệu ở cột Remarks NaN khá nhiều nên ta drop cột này, cột ngày cũng không có ý nghĩa với mục đích phân tích hiện tại.\n",
    "- Các cột thông tin chi tiết về start up đều bị thiếu khá nhiều."
   ]
  },
  {
   "cell_type": "markdown",
   "metadata": {},
   "source": [
    "#### 1.2.2.2 Tiền xử lý "
   ]
  },
  {
   "cell_type": "markdown",
   "metadata": {},
   "source": [
    "**Cột Date**\n",
    "- Chuyển về dạng datetime"
   ]
  },
  {
   "cell_type": "markdown",
   "metadata": {},
   "source": [
    "Tìm các ngày không hợp lệ trong cột Date dd/mm/yyyy và sửa lại thành các ngày hợp lệ.\n",
    "\n",
    "Chuyển dữ liệu về kiểu datetime"
   ]
  },
  {
   "cell_type": "code",
   "execution_count": 19,
   "metadata": {},
   "outputs": [
    {
     "data": {
      "text/plain": [
       "['05/072018', '01/07/015', '\\\\\\\\xc2\\\\\\\\xa010/7/2015', '22/01//2015']"
      ]
     },
     "execution_count": 19,
     "metadata": {},
     "output_type": "execute_result"
    }
   ],
   "source": [
    "# Lấy tất cả các giá trị cột Date dd/mm/yyyy\n",
    "data = startup_df['Date dd/mm/yyyy'].values\n",
    "\n",
    "# Đưa vào dataframe\n",
    "df = pd.DataFrame({'Date': data})\n",
    "\n",
    "# Thêm cột correct để đánh giá format đúng hay chưa\n",
    "df['correct'] = pd.to_datetime(df['Date'],errors='coerce')\n",
    "\n",
    "# Danh sách các giá trị không hợp lệ\n",
    "errors = df.loc[df['correct'].isnull()]['Date'].unique().tolist()\n",
    "errors"
   ]
  },
  {
   "cell_type": "code",
   "execution_count": 20,
   "metadata": {},
   "outputs": [],
   "source": [
    "startup_df['Date dd/mm/yyyy'].replace((['05/072018', '01/07/015','22/01//2015', '\\\\\\\\xc2\\\\\\\\xa010/7/2015']),\n",
    "                         ('05/07/2018','01/07/2015','22/01/2015', '10/07/2015'), inplace=True)"
   ]
  },
  {
   "cell_type": "code",
   "execution_count": 21,
   "metadata": {},
   "outputs": [],
   "source": [
    "startup_df['Date dd/mm/yyyy'] = pd.to_datetime(startup_df['Date dd/mm/yyyy'])"
   ]
  },
  {
   "cell_type": "markdown",
   "metadata": {},
   "source": [
    "**Cột Amount in USD**\n",
    "- Chuyển về dạng float"
   ]
  },
  {
   "cell_type": "markdown",
   "metadata": {},
   "source": [
    "Khi chuyển dữ liệu sang float, ta lần lượt gặp các lỗi về giá trị, chúng ta sẽ lần lượt xử lý các giá trị này để đưa chung về một format:\n",
    "\n",
    "- Các chuỗi bắt đầu bằng \\\\\\\\\\\\\\\\xc2\\\\\\\\\\\\\\\\xa0 + giá trị số, ta sẽ xóa đi \\\\\\\\\\\\\\\\xc2\\\\\\\\\\\\\\\\xa0.\n",
    "- Một số giá trị có kiểu giá trị số + '+' VD: 123+ nghĩa là lớn hơn 123, ta xem như 123 là giá trị chuẩn.\n",
    "- Các giá trị đặc biệt: undisclosed, unknown, Undisclosed, N/A chuyển thành NaN."
   ]
  },
  {
   "cell_type": "code",
   "execution_count": 22,
   "metadata": {},
   "outputs": [],
   "source": [
    "startup_df[\"Amount in USD\"] = startup_df[\"Amount in USD\"].apply(lambda x: str(str(x).replace(\",\",\"\").replace(\"+\", \"\")))"
   ]
  },
  {
   "cell_type": "code",
   "execution_count": 23,
   "metadata": {},
   "outputs": [],
   "source": [
    "startup_df = startup_df.replace('\\\\\\\\\\\\\\\\xc2\\\\\\\\\\\\\\\\xa0','', regex=True)"
   ]
  },
  {
   "cell_type": "code",
   "execution_count": 24,
   "metadata": {},
   "outputs": [],
   "source": [
    "startup_df['Amount in USD'].replace((['undisclosed', 'unknown','Undisclosed', 'N/A']),\n",
    "                         ('NaN','NaN','NaN','NaN'), inplace=True)"
   ]
  },
  {
   "cell_type": "code",
   "execution_count": 25,
   "metadata": {},
   "outputs": [],
   "source": [
    "startup_df[\"Amount in USD\"] = startup_df[\"Amount in USD\"].apply(lambda x: float(x))"
   ]
  },
  {
   "cell_type": "markdown",
   "metadata": {},
   "source": [
    "**Dữ liệu sau khi tiền xử lý**"
   ]
  },
  {
   "cell_type": "code",
   "execution_count": 26,
   "metadata": {},
   "outputs": [
    {
     "name": "stdout",
     "output_type": "stream",
     "text": [
      "<class 'pandas.core.frame.DataFrame'>\n",
      "RangeIndex: 3044 entries, 0 to 3043\n",
      "Data columns (total 9 columns):\n",
      "Sr No                3044 non-null int64\n",
      "Date dd/mm/yyyy      3044 non-null datetime64[ns]\n",
      "Startup Name         3044 non-null object\n",
      "Industry Vertical    2873 non-null object\n",
      "SubVertical          2108 non-null object\n",
      "City  Location       2864 non-null object\n",
      "Investors Name       3020 non-null object\n",
      "InvestmentnType      3040 non-null object\n",
      "Amount in USD        2073 non-null float64\n",
      "dtypes: datetime64[ns](1), float64(1), int64(1), object(6)\n",
      "memory usage: 214.2+ KB\n"
     ]
    }
   ],
   "source": [
    "startup_df.info()"
   ]
  },
  {
   "cell_type": "code",
   "execution_count": 27,
   "metadata": {},
   "outputs": [
    {
     "data": {
      "text/html": [
       "<div>\n",
       "<style scoped>\n",
       "    .dataframe tbody tr th:only-of-type {\n",
       "        vertical-align: middle;\n",
       "    }\n",
       "\n",
       "    .dataframe tbody tr th {\n",
       "        vertical-align: top;\n",
       "    }\n",
       "\n",
       "    .dataframe thead th {\n",
       "        text-align: right;\n",
       "    }\n",
       "</style>\n",
       "<table border=\"1\" class=\"dataframe\">\n",
       "  <thead>\n",
       "    <tr style=\"text-align: right;\">\n",
       "      <th></th>\n",
       "      <th>Sr No</th>\n",
       "      <th>Date dd/mm/yyyy</th>\n",
       "      <th>Startup Name</th>\n",
       "      <th>Industry Vertical</th>\n",
       "      <th>SubVertical</th>\n",
       "      <th>City  Location</th>\n",
       "      <th>Investors Name</th>\n",
       "      <th>InvestmentnType</th>\n",
       "      <th>Amount in USD</th>\n",
       "    </tr>\n",
       "  </thead>\n",
       "  <tbody>\n",
       "    <tr>\n",
       "      <td>0</td>\n",
       "      <td>1</td>\n",
       "      <td>2020-09-01</td>\n",
       "      <td>BYJU’S</td>\n",
       "      <td>E-Tech</td>\n",
       "      <td>E-learning</td>\n",
       "      <td>Bengaluru</td>\n",
       "      <td>Tiger Global Management</td>\n",
       "      <td>Private Equity Round</td>\n",
       "      <td>200000000.0</td>\n",
       "    </tr>\n",
       "    <tr>\n",
       "      <td>1</td>\n",
       "      <td>2</td>\n",
       "      <td>2020-01-13</td>\n",
       "      <td>Shuttl</td>\n",
       "      <td>Transportation</td>\n",
       "      <td>App based shuttle service</td>\n",
       "      <td>Gurgaon</td>\n",
       "      <td>Susquehanna Growth Equity</td>\n",
       "      <td>Series C</td>\n",
       "      <td>8048394.0</td>\n",
       "    </tr>\n",
       "    <tr>\n",
       "      <td>2</td>\n",
       "      <td>3</td>\n",
       "      <td>2020-09-01</td>\n",
       "      <td>Mamaearth</td>\n",
       "      <td>E-commerce</td>\n",
       "      <td>Retailer of baby and toddler products</td>\n",
       "      <td>Bengaluru</td>\n",
       "      <td>Sequoia Capital India</td>\n",
       "      <td>Series B</td>\n",
       "      <td>18358860.0</td>\n",
       "    </tr>\n",
       "    <tr>\n",
       "      <td>3</td>\n",
       "      <td>4</td>\n",
       "      <td>2020-02-01</td>\n",
       "      <td>https://www.wealthbucket.in/</td>\n",
       "      <td>FinTech</td>\n",
       "      <td>Online Investment</td>\n",
       "      <td>New Delhi</td>\n",
       "      <td>Vinod Khatumal</td>\n",
       "      <td>Pre-series A</td>\n",
       "      <td>3000000.0</td>\n",
       "    </tr>\n",
       "    <tr>\n",
       "      <td>4</td>\n",
       "      <td>5</td>\n",
       "      <td>2020-02-01</td>\n",
       "      <td>Fashor</td>\n",
       "      <td>Fashion and Apparel</td>\n",
       "      <td>Embroiled Clothes For Women</td>\n",
       "      <td>Mumbai</td>\n",
       "      <td>Sprout Venture Partners</td>\n",
       "      <td>Seed Round</td>\n",
       "      <td>1800000.0</td>\n",
       "    </tr>\n",
       "  </tbody>\n",
       "</table>\n",
       "</div>"
      ],
      "text/plain": [
       "   Sr No Date dd/mm/yyyy                  Startup Name    Industry Vertical  \\\n",
       "0      1      2020-09-01                        BYJU’S               E-Tech   \n",
       "1      2      2020-01-13                        Shuttl       Transportation   \n",
       "2      3      2020-09-01                     Mamaearth           E-commerce   \n",
       "3      4      2020-02-01  https://www.wealthbucket.in/              FinTech   \n",
       "4      5      2020-02-01                        Fashor  Fashion and Apparel   \n",
       "\n",
       "                             SubVertical City  Location  \\\n",
       "0                             E-learning      Bengaluru   \n",
       "1              App based shuttle service        Gurgaon   \n",
       "2  Retailer of baby and toddler products      Bengaluru   \n",
       "3                      Online Investment      New Delhi   \n",
       "4            Embroiled Clothes For Women         Mumbai   \n",
       "\n",
       "              Investors Name       InvestmentnType  Amount in USD  \n",
       "0    Tiger Global Management  Private Equity Round    200000000.0  \n",
       "1  Susquehanna Growth Equity              Series C      8048394.0  \n",
       "2      Sequoia Capital India              Series B     18358860.0  \n",
       "3             Vinod Khatumal          Pre-series A      3000000.0  \n",
       "4    Sprout Venture Partners            Seed Round      1800000.0  "
      ]
     },
     "execution_count": 27,
     "metadata": {},
     "output_type": "execute_result"
    }
   ],
   "source": [
    "startup_df.head()"
   ]
  },
  {
   "cell_type": "markdown",
   "metadata": {},
   "source": [
    "### 1.2.3 Dữ liệu các nhà đầu tư"
   ]
  },
  {
   "cell_type": "code",
   "execution_count": 28,
   "metadata": {},
   "outputs": [
    {
     "data": {
      "text/html": [
       "<div>\n",
       "<style scoped>\n",
       "    .dataframe tbody tr th:only-of-type {\n",
       "        vertical-align: middle;\n",
       "    }\n",
       "\n",
       "    .dataframe tbody tr th {\n",
       "        vertical-align: top;\n",
       "    }\n",
       "\n",
       "    .dataframe thead th {\n",
       "        text-align: right;\n",
       "    }\n",
       "</style>\n",
       "<table border=\"1\" class=\"dataframe\">\n",
       "  <thead>\n",
       "    <tr style=\"text-align: right;\">\n",
       "      <th></th>\n",
       "      <th>Fund name</th>\n",
       "      <th>Unicorn Nest website link</th>\n",
       "      <th>Fund website</th>\n",
       "      <th>Fund LinkedIn</th>\n",
       "      <th>Fund Crunchbase</th>\n",
       "      <th>Email format for website</th>\n",
       "      <th>Fund structure</th>\n",
       "      <th>Country</th>\n",
       "      <th>Coincidence of the geography of the fund and its TOP1 invest geofocus</th>\n",
       "      <th>Some of TOP industries</th>\n",
       "      <th>...</th>\n",
       "      <th>Exits</th>\n",
       "      <th>Unicorn amount</th>\n",
       "      <th>Average rounds per year</th>\n",
       "      <th>Average round size</th>\n",
       "      <th>Average startup valuation</th>\n",
       "      <th>Decision makers / strategy diversity index</th>\n",
       "      <th>Average multiplicator</th>\n",
       "      <th>Success / strategy diversity index</th>\n",
       "      <th>Follow-on index</th>\n",
       "      <th>Readiness to take younger startups</th>\n",
       "    </tr>\n",
       "  </thead>\n",
       "  <tbody>\n",
       "    <tr>\n",
       "      <td>0</td>\n",
       "      <td>212</td>\n",
       "      <td>https://unicorn-nest.com/funds/212/</td>\n",
       "      <td>NaN</td>\n",
       "      <td>NaN</td>\n",
       "      <td>https://www.crunchbase.com/organization/212-ca...</td>\n",
       "      <td>NaN</td>\n",
       "      <td>VC</td>\n",
       "      <td>Turkey</td>\n",
       "      <td>1.0</td>\n",
       "      <td>Energy Storage, Semiconductor</td>\n",
       "      <td>...</td>\n",
       "      <td>TOP5000</td>\n",
       "      <td>NaN</td>\n",
       "      <td>TOP5000</td>\n",
       "      <td>TOP30000</td>\n",
       "      <td>NaN</td>\n",
       "      <td>NaN</td>\n",
       "      <td>TOP10000</td>\n",
       "      <td>NaN</td>\n",
       "      <td>TOP5000</td>\n",
       "      <td>TOP10000</td>\n",
       "    </tr>\n",
       "    <tr>\n",
       "      <td>1</td>\n",
       "      <td>415</td>\n",
       "      <td>https://unicorn-nest.com/funds/415/</td>\n",
       "      <td>https://415.com</td>\n",
       "      <td>NaN</td>\n",
       "      <td>https://www.crunchbase.com/organization/415</td>\n",
       "      <td>NaN</td>\n",
       "      <td>VC</td>\n",
       "      <td>United States</td>\n",
       "      <td>1.0</td>\n",
       "      <td>Software, Hardware</td>\n",
       "      <td>...</td>\n",
       "      <td>NaN</td>\n",
       "      <td>NaN</td>\n",
       "      <td>TOP5000</td>\n",
       "      <td>TOP20000</td>\n",
       "      <td>NaN</td>\n",
       "      <td>NaN</td>\n",
       "      <td>NaN</td>\n",
       "      <td>NaN</td>\n",
       "      <td>TOP10000</td>\n",
       "      <td>TOP10000</td>\n",
       "    </tr>\n",
       "    <tr>\n",
       "      <td>2</td>\n",
       "      <td>2020</td>\n",
       "      <td>https://unicorn-nest.com/funds/2020/</td>\n",
       "      <td>NaN</td>\n",
       "      <td>NaN</td>\n",
       "      <td>https://www.crunchbase.com/organization/2020</td>\n",
       "      <td>NaN</td>\n",
       "      <td>VC</td>\n",
       "      <td>NaN</td>\n",
       "      <td>NaN</td>\n",
       "      <td>Travel, Internet</td>\n",
       "      <td>...</td>\n",
       "      <td>NaN</td>\n",
       "      <td>NaN</td>\n",
       "      <td>TOP30000</td>\n",
       "      <td>TOP10000</td>\n",
       "      <td>NaN</td>\n",
       "      <td>NaN</td>\n",
       "      <td>NaN</td>\n",
       "      <td>NaN</td>\n",
       "      <td>NaN</td>\n",
       "      <td>TOP20000</td>\n",
       "    </tr>\n",
       "    <tr>\n",
       "      <td>3</td>\n",
       "      <td>21212</td>\n",
       "      <td>https://unicorn-nest.com/funds/21212/</td>\n",
       "      <td>https://21212.com</td>\n",
       "      <td>https://www.linkedin.com/company/21212-digital...</td>\n",
       "      <td>https://www.crunchbase.com/organization/21212</td>\n",
       "      <td>Domain name: 21212.com; User name format in de...</td>\n",
       "      <td>VC</td>\n",
       "      <td>Brazil</td>\n",
       "      <td>0.0</td>\n",
       "      <td>Analytics, E-Commerce</td>\n",
       "      <td>...</td>\n",
       "      <td>NaN</td>\n",
       "      <td>NaN</td>\n",
       "      <td>TOP10000</td>\n",
       "      <td>TOP30000</td>\n",
       "      <td>TOP10000</td>\n",
       "      <td>NaN</td>\n",
       "      <td>NaN</td>\n",
       "      <td>NaN</td>\n",
       "      <td>NaN</td>\n",
       "      <td>TOP20000</td>\n",
       "    </tr>\n",
       "    <tr>\n",
       "      <td>4</td>\n",
       "      <td>.406 Ventures</td>\n",
       "      <td>https://unicorn-nest.com/funds/406-ventures/</td>\n",
       "      <td>https://406ventures.com</td>\n",
       "      <td>NaN</td>\n",
       "      <td>https://www.crunchbase.com/organization/406-ve...</td>\n",
       "      <td>Domain name: 406ventures.com; User name format...</td>\n",
       "      <td>VC</td>\n",
       "      <td>United States</td>\n",
       "      <td>1.0</td>\n",
       "      <td>Real Time, Product Design</td>\n",
       "      <td>...</td>\n",
       "      <td>TOP5000</td>\n",
       "      <td>TOP1000</td>\n",
       "      <td>TOP500</td>\n",
       "      <td>TOP10000</td>\n",
       "      <td>TOP5000</td>\n",
       "      <td>TOP1000</td>\n",
       "      <td>TOP5000</td>\n",
       "      <td>TOP5000</td>\n",
       "      <td>TOP5000</td>\n",
       "      <td>TOP20000</td>\n",
       "    </tr>\n",
       "  </tbody>\n",
       "</table>\n",
       "<p>5 rows × 28 columns</p>\n",
       "</div>"
      ],
      "text/plain": [
       "       Fund name                     Unicorn Nest website link  \\\n",
       "0            212           https://unicorn-nest.com/funds/212/   \n",
       "1            415           https://unicorn-nest.com/funds/415/   \n",
       "2           2020          https://unicorn-nest.com/funds/2020/   \n",
       "3          21212         https://unicorn-nest.com/funds/21212/   \n",
       "4  .406 Ventures  https://unicorn-nest.com/funds/406-ventures/   \n",
       "\n",
       "              Fund website                                      Fund LinkedIn  \\\n",
       "0                      NaN                                                NaN   \n",
       "1          https://415.com                                                NaN   \n",
       "2                      NaN                                                NaN   \n",
       "3        https://21212.com  https://www.linkedin.com/company/21212-digital...   \n",
       "4  https://406ventures.com                                                NaN   \n",
       "\n",
       "                                     Fund Crunchbase  \\\n",
       "0  https://www.crunchbase.com/organization/212-ca...   \n",
       "1        https://www.crunchbase.com/organization/415   \n",
       "2       https://www.crunchbase.com/organization/2020   \n",
       "3      https://www.crunchbase.com/organization/21212   \n",
       "4  https://www.crunchbase.com/organization/406-ve...   \n",
       "\n",
       "                            Email format for website Fund structure  \\\n",
       "0                                                NaN             VC   \n",
       "1                                                NaN             VC   \n",
       "2                                                NaN             VC   \n",
       "3  Domain name: 21212.com; User name format in de...             VC   \n",
       "4  Domain name: 406ventures.com; User name format...             VC   \n",
       "\n",
       "         Country  \\\n",
       "0         Turkey   \n",
       "1  United States   \n",
       "2            NaN   \n",
       "3         Brazil   \n",
       "4  United States   \n",
       "\n",
       "   Coincidence of the geography of the fund and its TOP1 invest geofocus  \\\n",
       "0                                                1.0                       \n",
       "1                                                1.0                       \n",
       "2                                                NaN                       \n",
       "3                                                0.0                       \n",
       "4                                                1.0                       \n",
       "\n",
       "          Some of TOP industries  ...    Exits Unicorn amount  \\\n",
       "0  Energy Storage, Semiconductor  ...  TOP5000            NaN   \n",
       "1             Software, Hardware  ...      NaN            NaN   \n",
       "2               Travel, Internet  ...      NaN            NaN   \n",
       "3          Analytics, E-Commerce  ...      NaN            NaN   \n",
       "4      Real Time, Product Design  ...  TOP5000        TOP1000   \n",
       "\n",
       "  Average rounds per year Average round size Average startup valuation  \\\n",
       "0                 TOP5000           TOP30000                       NaN   \n",
       "1                 TOP5000           TOP20000                       NaN   \n",
       "2                TOP30000           TOP10000                       NaN   \n",
       "3                TOP10000           TOP30000                  TOP10000   \n",
       "4                  TOP500           TOP10000                   TOP5000   \n",
       "\n",
       "  Decision makers / strategy diversity index Average multiplicator  \\\n",
       "0                                        NaN              TOP10000   \n",
       "1                                        NaN                   NaN   \n",
       "2                                        NaN                   NaN   \n",
       "3                                        NaN                   NaN   \n",
       "4                                    TOP1000               TOP5000   \n",
       "\n",
       "  Success / strategy diversity index Follow-on index  \\\n",
       "0                                NaN         TOP5000   \n",
       "1                                NaN        TOP10000   \n",
       "2                                NaN             NaN   \n",
       "3                                NaN             NaN   \n",
       "4                            TOP5000         TOP5000   \n",
       "\n",
       "  Readiness to take younger startups  \n",
       "0                           TOP10000  \n",
       "1                           TOP10000  \n",
       "2                           TOP20000  \n",
       "3                           TOP20000  \n",
       "4                           TOP20000  \n",
       "\n",
       "[5 rows x 28 columns]"
      ]
     },
     "execution_count": 28,
     "metadata": {},
     "output_type": "execute_result"
    }
   ],
   "source": [
    "investor_df.head()"
   ]
  },
  {
   "cell_type": "code",
   "execution_count": 29,
   "metadata": {},
   "outputs": [
    {
     "name": "stdout",
     "output_type": "stream",
     "text": [
      "<class 'pandas.core.frame.DataFrame'>\n",
      "RangeIndex: 26589 entries, 0 to 26588\n",
      "Data columns (total 28 columns):\n",
      "Fund name                                                                26589 non-null object\n",
      "Unicorn Nest website link                                                26589 non-null object\n",
      "Fund website                                                             12759 non-null object\n",
      "Fund LinkedIn                                                            6076 non-null object\n",
      "Fund Crunchbase                                                          26589 non-null object\n",
      "Email format for website                                                 19677 non-null object\n",
      "Fund structure                                                           25012 non-null object\n",
      "Country                                                                  20912 non-null object\n",
      "Coincidence of the geography of the fund and its TOP1 invest geofocus    20742 non-null float64\n",
      "Some of TOP industries                                                   26405 non-null object\n",
      "One of the most outstanding startups                                     26253 non-null object\n",
      "Fund that most often invests in previous rounds                          20290 non-null object\n",
      "Fund that most often invests together                                    23482 non-null object\n",
      "Fund that most often invests in following rounds                         18526 non-null object\n",
      "Fund novelty                                                             16261 non-null object\n",
      "Proximity to the year of peak activity                                   26171 non-null object\n",
      "Amount of Key Persons                                                    8479 non-null object\n",
      "Lead investments                                                         8572 non-null object\n",
      "Exits                                                                    10373 non-null object\n",
      "Unicorn amount                                                           3053 non-null object\n",
      "Average rounds per year                                                  26252 non-null object\n",
      "Average round size                                                       25540 non-null object\n",
      "Average startup valuation                                                5282 non-null object\n",
      "Decision makers / strategy diversity index                               997 non-null object\n",
      "Average multiplicator                                                    7813 non-null object\n",
      "Success / strategy diversity index                                       7481 non-null object\n",
      "Follow-on index                                                          9053 non-null object\n",
      "Readiness to take younger startups                                       24240 non-null object\n",
      "dtypes: float64(1), object(27)\n",
      "memory usage: 5.7+ MB\n"
     ]
    }
   ],
   "source": [
    "investor_df.info()"
   ]
  },
  {
   "cell_type": "code",
   "execution_count": 30,
   "metadata": {},
   "outputs": [
    {
     "data": {
      "text/html": [
       "<div>\n",
       "<style scoped>\n",
       "    .dataframe tbody tr th:only-of-type {\n",
       "        vertical-align: middle;\n",
       "    }\n",
       "\n",
       "    .dataframe tbody tr th {\n",
       "        vertical-align: top;\n",
       "    }\n",
       "\n",
       "    .dataframe thead th {\n",
       "        text-align: right;\n",
       "    }\n",
       "</style>\n",
       "<table border=\"1\" class=\"dataframe\">\n",
       "  <thead>\n",
       "    <tr style=\"text-align: right;\">\n",
       "      <th></th>\n",
       "      <th>Fund name</th>\n",
       "      <th>Fund structure</th>\n",
       "      <th>Country</th>\n",
       "      <th>Some of TOP industries</th>\n",
       "      <th>One of the most outstanding startups</th>\n",
       "      <th>Unicorn amount</th>\n",
       "      <th>Success / strategy diversity index</th>\n",
       "    </tr>\n",
       "  </thead>\n",
       "  <tbody>\n",
       "    <tr>\n",
       "      <td>0</td>\n",
       "      <td>212</td>\n",
       "      <td>VC</td>\n",
       "      <td>Turkey</td>\n",
       "      <td>Energy Storage, Semiconductor</td>\n",
       "      <td>Cymbet</td>\n",
       "      <td>NaN</td>\n",
       "      <td>NaN</td>\n",
       "    </tr>\n",
       "    <tr>\n",
       "      <td>1</td>\n",
       "      <td>415</td>\n",
       "      <td>VC</td>\n",
       "      <td>United States</td>\n",
       "      <td>Software, Hardware</td>\n",
       "      <td>Rimac Automobili</td>\n",
       "      <td>NaN</td>\n",
       "      <td>NaN</td>\n",
       "    </tr>\n",
       "    <tr>\n",
       "      <td>2</td>\n",
       "      <td>2020</td>\n",
       "      <td>VC</td>\n",
       "      <td>NaN</td>\n",
       "      <td>Travel, Internet</td>\n",
       "      <td>Delivery Hero</td>\n",
       "      <td>NaN</td>\n",
       "      <td>NaN</td>\n",
       "    </tr>\n",
       "    <tr>\n",
       "      <td>3</td>\n",
       "      <td>21212</td>\n",
       "      <td>VC</td>\n",
       "      <td>Brazil</td>\n",
       "      <td>Analytics, E-Commerce</td>\n",
       "      <td>Sellpoints</td>\n",
       "      <td>NaN</td>\n",
       "      <td>NaN</td>\n",
       "    </tr>\n",
       "    <tr>\n",
       "      <td>4</td>\n",
       "      <td>.406 Ventures</td>\n",
       "      <td>VC</td>\n",
       "      <td>United States</td>\n",
       "      <td>Real Time, Product Design</td>\n",
       "      <td>SmartPoint</td>\n",
       "      <td>TOP1000</td>\n",
       "      <td>TOP5000</td>\n",
       "    </tr>\n",
       "  </tbody>\n",
       "</table>\n",
       "</div>"
      ],
      "text/plain": [
       "       Fund name Fund structure        Country         Some of TOP industries  \\\n",
       "0            212             VC         Turkey  Energy Storage, Semiconductor   \n",
       "1            415             VC  United States             Software, Hardware   \n",
       "2           2020             VC            NaN               Travel, Internet   \n",
       "3          21212             VC         Brazil          Analytics, E-Commerce   \n",
       "4  .406 Ventures             VC  United States      Real Time, Product Design   \n",
       "\n",
       "  One of the most outstanding startups Unicorn amount  \\\n",
       "0                               Cymbet            NaN   \n",
       "1                     Rimac Automobili            NaN   \n",
       "2                        Delivery Hero            NaN   \n",
       "3                           Sellpoints            NaN   \n",
       "4                           SmartPoint        TOP1000   \n",
       "\n",
       "  Success / strategy diversity index  \n",
       "0                                NaN  \n",
       "1                                NaN  \n",
       "2                                NaN  \n",
       "3                                NaN  \n",
       "4                            TOP5000  "
      ]
     },
     "execution_count": 30,
     "metadata": {},
     "output_type": "execute_result"
    }
   ],
   "source": [
    "investor_df = investor_df.drop(['Unicorn Nest website link', 'Fund website', 'Fund LinkedIn', \n",
    "                                'Fund Crunchbase', 'Email format for website', 'Coincidence of the geography of the fund and its TOP1 invest geofocus',\n",
    "                                'Fund that most often invests in previous rounds',\n",
    "                                'Fund that most often invests together', 'Fund that most often invests in following rounds',\n",
    "                                'Fund novelty', 'Proximity to the year of peak activity', 'Amount of Key Persons', \n",
    "                                'Lead investments', 'Exits', 'Average rounds per year', \n",
    "                                'Average round size', 'Average startup valuation', 'Decision makers / strategy diversity index',\n",
    "                                'Average multiplicator', 'Follow-on index', 'Readiness to take younger startups'\n",
    "                               ], axis = 1)\n",
    "investor_df.head()"
   ]
  },
  {
   "cell_type": "code",
   "execution_count": 31,
   "metadata": {},
   "outputs": [
    {
     "name": "stdout",
     "output_type": "stream",
     "text": [
      "<class 'pandas.core.frame.DataFrame'>\n",
      "RangeIndex: 26589 entries, 0 to 26588\n",
      "Data columns (total 7 columns):\n",
      "Fund name                               26589 non-null object\n",
      "Fund structure                          25012 non-null object\n",
      "Country                                 20912 non-null object\n",
      "Some of TOP industries                  26405 non-null object\n",
      "One of the most outstanding startups    26253 non-null object\n",
      "Unicorn amount                          3053 non-null object\n",
      "Success / strategy diversity index      7481 non-null object\n",
      "dtypes: object(7)\n",
      "memory usage: 1.4+ MB\n"
     ]
    }
   ],
   "source": [
    "investor_df.info()"
   ]
  },
  {
   "cell_type": "code",
   "execution_count": 32,
   "metadata": {},
   "outputs": [
    {
     "data": {
      "text/plain": [
       "Fund name                               26589\n",
       "Fund structure                              2\n",
       "Country                                   113\n",
       "Some of TOP industries                  12518\n",
       "One of the most outstanding startups    14567\n",
       "Unicorn amount                              4\n",
       "Success / strategy diversity index          5\n",
       "dtype: int64"
      ]
     },
     "execution_count": 32,
     "metadata": {},
     "output_type": "execute_result"
    }
   ],
   "source": [
    "investor_df.nunique()"
   ]
  },
  {
   "cell_type": "code",
   "execution_count": 33,
   "metadata": {},
   "outputs": [
    {
     "name": "stdout",
     "output_type": "stream",
     "text": [
      "NaN\n",
      "Fund name                                   0\n",
      "Fund structure                           1577\n",
      "Country                                  5677\n",
      "Some of TOP industries                    184\n",
      "One of the most outstanding startups      336\n",
      "Unicorn amount                          23536\n",
      "Success / strategy diversity index      19108\n",
      "dtype: int64\n"
     ]
    }
   ],
   "source": [
    "print(\"NaN\")\n",
    "print(investor_df.isnull().sum())"
   ]
  },
  {
   "cell_type": "code",
   "execution_count": 34,
   "metadata": {},
   "outputs": [
    {
     "data": {
      "text/plain": [
       "(26589, 7)"
      ]
     },
     "execution_count": 34,
     "metadata": {},
     "output_type": "execute_result"
    }
   ],
   "source": [
    "investor_df.shape"
   ]
  },
  {
   "cell_type": "markdown",
   "metadata": {},
   "source": [
    "#### Xóa các cột dữ liệu không cần thiết\n",
    "Dữ liệu có 28 cột, ta xóa bớt các cột thông tin về các nhà đầu tư như:\n",
    "\n",
    "- Unicorn Nest website link\n",
    "- Fund website\n",
    "- Fund LinkedIn\n",
    "- Fund Crunchbase\n",
    "\n",
    "...\n",
    "\n",
    "Và chỉ lấy các cột có thông tin phân tích đối với 2 tập dữ liệu còn lại.\n",
    "\n",
    "#### Ý nghĩa các cột dữ liệu:\n",
    "\n",
    "- **Fund name**: Tên nhà đầu tư\n",
    "- **Fund structure**: Phân biệt giữa 2 cấu trúc quỹ đầu tư mạo hiểm, và quỹ đầu tư mạo hiểm doanh nghiệp\n",
    "- **Country**: Quốc gia\n",
    "- **Some of TOP industries**: Các lĩnh vực đầu tư\n",
    "- **One of the most outstanding startups**: Các start up nổi bật\n",
    "- **Unicorn amount**: Số lượng Unicorn\n",
    "- **Sucess / strategy diversity index**: Mức độ thành công"
   ]
  },
  {
   "cell_type": "markdown",
   "metadata": {},
   "source": [
    "**Tổng quan về các dòng và cột dữ liệu**\n",
    "\n",
    "Dữ liệu gồm 26589 dòng và 7 cột:\n",
    "- Có 26589 nhà đầu tư được tổng hợp trong dữ liệu này.\n",
    "- Có 2 loại cấu trúc quỹ đầu tư: đầu tư mạo hiểm và đầu tư mạo hiểm doanh nghiệp"
   ]
  },
  {
   "cell_type": "markdown",
   "metadata": {},
   "source": [
    "# 2. Khám phá dữ liệu"
   ]
  },
  {
   "cell_type": "markdown",
   "metadata": {},
   "source": [
    "## 2.1 Quan sát lại dữ liệu"
   ]
  },
  {
   "cell_type": "code",
   "execution_count": 35,
   "metadata": {},
   "outputs": [
    {
     "data": {
      "text/html": [
       "<div>\n",
       "<style scoped>\n",
       "    .dataframe tbody tr th:only-of-type {\n",
       "        vertical-align: middle;\n",
       "    }\n",
       "\n",
       "    .dataframe tbody tr th {\n",
       "        vertical-align: top;\n",
       "    }\n",
       "\n",
       "    .dataframe thead th {\n",
       "        text-align: right;\n",
       "    }\n",
       "</style>\n",
       "<table border=\"1\" class=\"dataframe\">\n",
       "  <thead>\n",
       "    <tr style=\"text-align: right;\">\n",
       "      <th></th>\n",
       "      <th>Rank</th>\n",
       "      <th>Company</th>\n",
       "      <th>Valuation ($B)</th>\n",
       "      <th>Date Joined</th>\n",
       "      <th>Country</th>\n",
       "      <th>Industry</th>\n",
       "      <th>Select Investors</th>\n",
       "    </tr>\n",
       "  </thead>\n",
       "  <tbody>\n",
       "    <tr>\n",
       "      <td>0</td>\n",
       "      <td>0</td>\n",
       "      <td>Toutiao (Bytedance)</td>\n",
       "      <td>140.0</td>\n",
       "      <td>2017-04-07</td>\n",
       "      <td>China</td>\n",
       "      <td>Artificial intelligence</td>\n",
       "      <td>Sequoia Capital China, SIG Asia Investments, S...</td>\n",
       "    </tr>\n",
       "    <tr>\n",
       "      <td>1</td>\n",
       "      <td>1</td>\n",
       "      <td>Didi Chuxing</td>\n",
       "      <td>56.0</td>\n",
       "      <td>2014-12-31</td>\n",
       "      <td>China</td>\n",
       "      <td>Auto &amp; transportation</td>\n",
       "      <td>Matrix Partners, Tiger  Global Management, Sof...</td>\n",
       "    </tr>\n",
       "    <tr>\n",
       "      <td>2</td>\n",
       "      <td>2</td>\n",
       "      <td>SpaceX</td>\n",
       "      <td>46.0</td>\n",
       "      <td>2012-12-01</td>\n",
       "      <td>United States</td>\n",
       "      <td>Other</td>\n",
       "      <td>Founders Fund, Draper  Fisher Jurvetson, Rothe...</td>\n",
       "    </tr>\n",
       "    <tr>\n",
       "      <td>3</td>\n",
       "      <td>3</td>\n",
       "      <td>Stripe</td>\n",
       "      <td>36.0</td>\n",
       "      <td>2014-01-23</td>\n",
       "      <td>United States</td>\n",
       "      <td>Fintech</td>\n",
       "      <td>Khosla Ventures, LowercaseCapital, capitalG</td>\n",
       "    </tr>\n",
       "    <tr>\n",
       "      <td>4</td>\n",
       "      <td>4</td>\n",
       "      <td>Palantir Technologies</td>\n",
       "      <td>20.0</td>\n",
       "      <td>2011-05-05</td>\n",
       "      <td>United States</td>\n",
       "      <td>Data management &amp; analytics</td>\n",
       "      <td>RRE Ventures, Founders  Fund, In-Q-Tel</td>\n",
       "    </tr>\n",
       "  </tbody>\n",
       "</table>\n",
       "</div>"
      ],
      "text/plain": [
       "   Rank                Company  Valuation ($B) Date Joined        Country  \\\n",
       "0     0    Toutiao (Bytedance)           140.0  2017-04-07          China   \n",
       "1     1         Didi Chuxing              56.0  2014-12-31          China   \n",
       "2     2                 SpaceX            46.0  2012-12-01  United States   \n",
       "3     3                 Stripe            36.0  2014-01-23  United States   \n",
       "4     4  Palantir Technologies            20.0  2011-05-05  United States   \n",
       "\n",
       "                      Industry  \\\n",
       "0      Artificial intelligence   \n",
       "1        Auto & transportation   \n",
       "2                        Other   \n",
       "3                      Fintech   \n",
       "4  Data management & analytics   \n",
       "\n",
       "                                    Select Investors  \n",
       "0  Sequoia Capital China, SIG Asia Investments, S...  \n",
       "1  Matrix Partners, Tiger  Global Management, Sof...  \n",
       "2  Founders Fund, Draper  Fisher Jurvetson, Rothe...  \n",
       "3        Khosla Ventures, LowercaseCapital, capitalG  \n",
       "4             RRE Ventures, Founders  Fund, In-Q-Tel  "
      ]
     },
     "execution_count": 35,
     "metadata": {},
     "output_type": "execute_result"
    }
   ],
   "source": [
    "unicorns_df.head()"
   ]
  },
  {
   "cell_type": "code",
   "execution_count": 36,
   "metadata": {},
   "outputs": [
    {
     "data": {
      "text/html": [
       "<div>\n",
       "<style scoped>\n",
       "    .dataframe tbody tr th:only-of-type {\n",
       "        vertical-align: middle;\n",
       "    }\n",
       "\n",
       "    .dataframe tbody tr th {\n",
       "        vertical-align: top;\n",
       "    }\n",
       "\n",
       "    .dataframe thead th {\n",
       "        text-align: right;\n",
       "    }\n",
       "</style>\n",
       "<table border=\"1\" class=\"dataframe\">\n",
       "  <thead>\n",
       "    <tr style=\"text-align: right;\">\n",
       "      <th></th>\n",
       "      <th>Sr No</th>\n",
       "      <th>Date dd/mm/yyyy</th>\n",
       "      <th>Startup Name</th>\n",
       "      <th>Industry Vertical</th>\n",
       "      <th>SubVertical</th>\n",
       "      <th>City  Location</th>\n",
       "      <th>Investors Name</th>\n",
       "      <th>InvestmentnType</th>\n",
       "      <th>Amount in USD</th>\n",
       "    </tr>\n",
       "  </thead>\n",
       "  <tbody>\n",
       "    <tr>\n",
       "      <td>0</td>\n",
       "      <td>1</td>\n",
       "      <td>2020-09-01</td>\n",
       "      <td>BYJU’S</td>\n",
       "      <td>E-Tech</td>\n",
       "      <td>E-learning</td>\n",
       "      <td>Bengaluru</td>\n",
       "      <td>Tiger Global Management</td>\n",
       "      <td>Private Equity Round</td>\n",
       "      <td>200000000.0</td>\n",
       "    </tr>\n",
       "    <tr>\n",
       "      <td>1</td>\n",
       "      <td>2</td>\n",
       "      <td>2020-01-13</td>\n",
       "      <td>Shuttl</td>\n",
       "      <td>Transportation</td>\n",
       "      <td>App based shuttle service</td>\n",
       "      <td>Gurgaon</td>\n",
       "      <td>Susquehanna Growth Equity</td>\n",
       "      <td>Series C</td>\n",
       "      <td>8048394.0</td>\n",
       "    </tr>\n",
       "    <tr>\n",
       "      <td>2</td>\n",
       "      <td>3</td>\n",
       "      <td>2020-09-01</td>\n",
       "      <td>Mamaearth</td>\n",
       "      <td>E-commerce</td>\n",
       "      <td>Retailer of baby and toddler products</td>\n",
       "      <td>Bengaluru</td>\n",
       "      <td>Sequoia Capital India</td>\n",
       "      <td>Series B</td>\n",
       "      <td>18358860.0</td>\n",
       "    </tr>\n",
       "    <tr>\n",
       "      <td>3</td>\n",
       "      <td>4</td>\n",
       "      <td>2020-02-01</td>\n",
       "      <td>https://www.wealthbucket.in/</td>\n",
       "      <td>FinTech</td>\n",
       "      <td>Online Investment</td>\n",
       "      <td>New Delhi</td>\n",
       "      <td>Vinod Khatumal</td>\n",
       "      <td>Pre-series A</td>\n",
       "      <td>3000000.0</td>\n",
       "    </tr>\n",
       "    <tr>\n",
       "      <td>4</td>\n",
       "      <td>5</td>\n",
       "      <td>2020-02-01</td>\n",
       "      <td>Fashor</td>\n",
       "      <td>Fashion and Apparel</td>\n",
       "      <td>Embroiled Clothes For Women</td>\n",
       "      <td>Mumbai</td>\n",
       "      <td>Sprout Venture Partners</td>\n",
       "      <td>Seed Round</td>\n",
       "      <td>1800000.0</td>\n",
       "    </tr>\n",
       "  </tbody>\n",
       "</table>\n",
       "</div>"
      ],
      "text/plain": [
       "   Sr No Date dd/mm/yyyy                  Startup Name    Industry Vertical  \\\n",
       "0      1      2020-09-01                        BYJU’S               E-Tech   \n",
       "1      2      2020-01-13                        Shuttl       Transportation   \n",
       "2      3      2020-09-01                     Mamaearth           E-commerce   \n",
       "3      4      2020-02-01  https://www.wealthbucket.in/              FinTech   \n",
       "4      5      2020-02-01                        Fashor  Fashion and Apparel   \n",
       "\n",
       "                             SubVertical City  Location  \\\n",
       "0                             E-learning      Bengaluru   \n",
       "1              App based shuttle service        Gurgaon   \n",
       "2  Retailer of baby and toddler products      Bengaluru   \n",
       "3                      Online Investment      New Delhi   \n",
       "4            Embroiled Clothes For Women         Mumbai   \n",
       "\n",
       "              Investors Name       InvestmentnType  Amount in USD  \n",
       "0    Tiger Global Management  Private Equity Round    200000000.0  \n",
       "1  Susquehanna Growth Equity              Series C      8048394.0  \n",
       "2      Sequoia Capital India              Series B     18358860.0  \n",
       "3             Vinod Khatumal          Pre-series A      3000000.0  \n",
       "4    Sprout Venture Partners            Seed Round      1800000.0  "
      ]
     },
     "execution_count": 36,
     "metadata": {},
     "output_type": "execute_result"
    }
   ],
   "source": [
    "startup_df.head()"
   ]
  },
  {
   "cell_type": "code",
   "execution_count": 37,
   "metadata": {},
   "outputs": [
    {
     "data": {
      "text/html": [
       "<div>\n",
       "<style scoped>\n",
       "    .dataframe tbody tr th:only-of-type {\n",
       "        vertical-align: middle;\n",
       "    }\n",
       "\n",
       "    .dataframe tbody tr th {\n",
       "        vertical-align: top;\n",
       "    }\n",
       "\n",
       "    .dataframe thead th {\n",
       "        text-align: right;\n",
       "    }\n",
       "</style>\n",
       "<table border=\"1\" class=\"dataframe\">\n",
       "  <thead>\n",
       "    <tr style=\"text-align: right;\">\n",
       "      <th></th>\n",
       "      <th>Fund name</th>\n",
       "      <th>Fund structure</th>\n",
       "      <th>Country</th>\n",
       "      <th>Some of TOP industries</th>\n",
       "      <th>One of the most outstanding startups</th>\n",
       "      <th>Unicorn amount</th>\n",
       "      <th>Success / strategy diversity index</th>\n",
       "    </tr>\n",
       "  </thead>\n",
       "  <tbody>\n",
       "    <tr>\n",
       "      <td>0</td>\n",
       "      <td>212</td>\n",
       "      <td>VC</td>\n",
       "      <td>Turkey</td>\n",
       "      <td>Energy Storage, Semiconductor</td>\n",
       "      <td>Cymbet</td>\n",
       "      <td>NaN</td>\n",
       "      <td>NaN</td>\n",
       "    </tr>\n",
       "    <tr>\n",
       "      <td>1</td>\n",
       "      <td>415</td>\n",
       "      <td>VC</td>\n",
       "      <td>United States</td>\n",
       "      <td>Software, Hardware</td>\n",
       "      <td>Rimac Automobili</td>\n",
       "      <td>NaN</td>\n",
       "      <td>NaN</td>\n",
       "    </tr>\n",
       "    <tr>\n",
       "      <td>2</td>\n",
       "      <td>2020</td>\n",
       "      <td>VC</td>\n",
       "      <td>NaN</td>\n",
       "      <td>Travel, Internet</td>\n",
       "      <td>Delivery Hero</td>\n",
       "      <td>NaN</td>\n",
       "      <td>NaN</td>\n",
       "    </tr>\n",
       "    <tr>\n",
       "      <td>3</td>\n",
       "      <td>21212</td>\n",
       "      <td>VC</td>\n",
       "      <td>Brazil</td>\n",
       "      <td>Analytics, E-Commerce</td>\n",
       "      <td>Sellpoints</td>\n",
       "      <td>NaN</td>\n",
       "      <td>NaN</td>\n",
       "    </tr>\n",
       "    <tr>\n",
       "      <td>4</td>\n",
       "      <td>.406 Ventures</td>\n",
       "      <td>VC</td>\n",
       "      <td>United States</td>\n",
       "      <td>Real Time, Product Design</td>\n",
       "      <td>SmartPoint</td>\n",
       "      <td>TOP1000</td>\n",
       "      <td>TOP5000</td>\n",
       "    </tr>\n",
       "  </tbody>\n",
       "</table>\n",
       "</div>"
      ],
      "text/plain": [
       "       Fund name Fund structure        Country         Some of TOP industries  \\\n",
       "0            212             VC         Turkey  Energy Storage, Semiconductor   \n",
       "1            415             VC  United States             Software, Hardware   \n",
       "2           2020             VC            NaN               Travel, Internet   \n",
       "3          21212             VC         Brazil          Analytics, E-Commerce   \n",
       "4  .406 Ventures             VC  United States      Real Time, Product Design   \n",
       "\n",
       "  One of the most outstanding startups Unicorn amount  \\\n",
       "0                               Cymbet            NaN   \n",
       "1                     Rimac Automobili            NaN   \n",
       "2                        Delivery Hero            NaN   \n",
       "3                           Sellpoints            NaN   \n",
       "4                           SmartPoint        TOP1000   \n",
       "\n",
       "  Success / strategy diversity index  \n",
       "0                                NaN  \n",
       "1                                NaN  \n",
       "2                                NaN  \n",
       "3                                NaN  \n",
       "4                            TOP5000  "
      ]
     },
     "execution_count": 37,
     "metadata": {},
     "output_type": "execute_result"
    }
   ],
   "source": [
    "investor_df.head()"
   ]
  },
  {
   "cell_type": "markdown",
   "metadata": {},
   "source": [
    "## 2.2 Tiền xử lý dữ liệu"
   ]
  },
  {
   "cell_type": "markdown",
   "metadata": {},
   "source": [
    "**Cột Select Investors ở dữ liệu unicorns**\n",
    "- Cột này có thể gồm nhiều công ty, chúng ta sẽ thêm các cột mới: Investor_1, Investor_2... để dễ phân tích dữ liệu hơn."
   ]
  },
  {
   "cell_type": "markdown",
   "metadata": {},
   "source": [
    "**Xử lý các dòng dữ liệu không thống nhất định dạng**\n",
    "Trong quá trình phần tích dữ liệu, ta nhận thấy dữ liệu cột này không thống nhất dẫn đến một số sai sót:\n",
    "- Ta nhận thấy có 1 dòng thay vì dấu ',' họ đã ghi dấu '.'.\n",
    "- Một số công ty như SoftBank họ cũng viết Softbank. Nên để thống nhất, ta chuyển tất cả về dạng in hoa.\n",
    "- Một số dòng dữ liệu viết liền là 'SoftBankGroup'\n",
    "- Thay vì dùng ',' thì họ lại dùng 'and'"
   ]
  },
  {
   "cell_type": "code",
   "execution_count": 38,
   "metadata": {},
   "outputs": [
    {
     "data": {
      "text/plain": [
       "Rank                                                          406\n",
       "Company                                                     Loggi\n",
       "Valuation ($B)                                                  1\n",
       "Date Joined                                   2019-06-05 00:00:00\n",
       "Country                                                    Brazil\n",
       "Industry                      Supply chain, logistics, & delivery\n",
       "Select Investors    Qualcomm Ventures, SoftBank Group. Monashees+\n",
       "Name: 406, dtype: object"
      ]
     },
     "execution_count": 38,
     "metadata": {},
     "output_type": "execute_result"
    }
   ],
   "source": [
    "unicorns_df.iloc[406]"
   ]
  },
  {
   "cell_type": "code",
   "execution_count": 39,
   "metadata": {},
   "outputs": [
    {
     "data": {
      "text/plain": [
       "Rank                                                                1\n",
       "Company                                                Didi Chuxing  \n",
       "Valuation ($B)                                                     56\n",
       "Date Joined                                       2014-12-31 00:00:00\n",
       "Country                                                         China\n",
       "Industry                                        Auto & transportation\n",
       "Select Investors    Matrix Partners, Tiger  Global Management, Sof...\n",
       "Name: 1, dtype: object"
      ]
     },
     "execution_count": 39,
     "metadata": {},
     "output_type": "execute_result"
    }
   ],
   "source": [
    "unicorns_df.iloc[1]"
   ]
  },
  {
   "cell_type": "code",
   "execution_count": 40,
   "metadata": {},
   "outputs": [],
   "source": [
    "unicorns_df.loc[unicorns_df['Rank'] == 406, 'Select Investors'] = 'Qualcomm Ventures, SoftBank Group, Monashees+'"
   ]
  },
  {
   "cell_type": "code",
   "execution_count": 41,
   "metadata": {},
   "outputs": [],
   "source": [
    "unicorns_df.loc[unicorns_df['Rank'] == 1, 'Select Investors'] = 'Matrix Partners, Tiger  Global Management, Sofbank Corp.'"
   ]
  },
  {
   "cell_type": "code",
   "execution_count": 42,
   "metadata": {},
   "outputs": [],
   "source": [
    "unicorns_df = unicorns_df.replace(' and ','', regex=True)"
   ]
  },
  {
   "cell_type": "code",
   "execution_count": 43,
   "metadata": {},
   "outputs": [
    {
     "data": {
      "text/html": [
       "<div>\n",
       "<style scoped>\n",
       "    .dataframe tbody tr th:only-of-type {\n",
       "        vertical-align: middle;\n",
       "    }\n",
       "\n",
       "    .dataframe tbody tr th {\n",
       "        vertical-align: top;\n",
       "    }\n",
       "\n",
       "    .dataframe thead th {\n",
       "        text-align: right;\n",
       "    }\n",
       "</style>\n",
       "<table border=\"1\" class=\"dataframe\">\n",
       "  <thead>\n",
       "    <tr style=\"text-align: right;\">\n",
       "      <th></th>\n",
       "      <th>Rank</th>\n",
       "      <th>Company</th>\n",
       "      <th>Valuation ($B)</th>\n",
       "      <th>Date Joined</th>\n",
       "      <th>Country</th>\n",
       "      <th>Industry</th>\n",
       "      <th>Select Investors</th>\n",
       "    </tr>\n",
       "  </thead>\n",
       "  <tbody>\n",
       "    <tr>\n",
       "      <td>27</td>\n",
       "      <td>27</td>\n",
       "      <td>Roivant Sciences</td>\n",
       "      <td>9.09</td>\n",
       "      <td>2018-11-13</td>\n",
       "      <td>United States</td>\n",
       "      <td>Health</td>\n",
       "      <td>SoftBankGroup, Founders Fund</td>\n",
       "    </tr>\n",
       "    <tr>\n",
       "      <td>34</td>\n",
       "      <td>34</td>\n",
       "      <td>Snapdeal</td>\n",
       "      <td>7.00</td>\n",
       "      <td>2014-05-21</td>\n",
       "      <td>India</td>\n",
       "      <td>E-commerce &amp; direct-to-consumer</td>\n",
       "      <td>SoftBankGroup, Blackrock, Alibaba Group</td>\n",
       "    </tr>\n",
       "    <tr>\n",
       "      <td>35</td>\n",
       "      <td>35</td>\n",
       "      <td>Tokopedia</td>\n",
       "      <td>7.00</td>\n",
       "      <td>2018-12-12</td>\n",
       "      <td>Indonesia</td>\n",
       "      <td>E-commerce &amp; direct-to-consumer</td>\n",
       "      <td>SoftBankGroup, Alibaba Group, Sequoia Capital ...</td>\n",
       "    </tr>\n",
       "  </tbody>\n",
       "</table>\n",
       "</div>"
      ],
      "text/plain": [
       "    Rank           Company  Valuation ($B) Date Joined        Country  \\\n",
       "27    27  Roivant Sciences            9.09  2018-11-13  United States   \n",
       "34    34          Snapdeal            7.00  2014-05-21          India   \n",
       "35    35         Tokopedia            7.00  2018-12-12      Indonesia   \n",
       "\n",
       "                           Industry  \\\n",
       "27                           Health   \n",
       "34  E-commerce & direct-to-consumer   \n",
       "35  E-commerce & direct-to-consumer   \n",
       "\n",
       "                                     Select Investors  \n",
       "27                       SoftBankGroup, Founders Fund  \n",
       "34            SoftBankGroup, Blackrock, Alibaba Group  \n",
       "35  SoftBankGroup, Alibaba Group, Sequoia Capital ...  "
      ]
     },
     "execution_count": 43,
     "metadata": {},
     "output_type": "execute_result"
    }
   ],
   "source": [
    "unicorns_df[unicorns_df['Select Investors'].str.contains(\"SoftBankGroup\", na=False)]"
   ]
  },
  {
   "cell_type": "code",
   "execution_count": 44,
   "metadata": {},
   "outputs": [],
   "source": [
    "unicorns_df = unicorns_df.replace('SoftBankGroup','Softbank Group', regex=True)"
   ]
  },
  {
   "cell_type": "code",
   "execution_count": 45,
   "metadata": {},
   "outputs": [
    {
     "data": {
      "text/html": [
       "<div>\n",
       "<style scoped>\n",
       "    .dataframe tbody tr th:only-of-type {\n",
       "        vertical-align: middle;\n",
       "    }\n",
       "\n",
       "    .dataframe tbody tr th {\n",
       "        vertical-align: top;\n",
       "    }\n",
       "\n",
       "    .dataframe thead th {\n",
       "        text-align: right;\n",
       "    }\n",
       "</style>\n",
       "<table border=\"1\" class=\"dataframe\">\n",
       "  <thead>\n",
       "    <tr style=\"text-align: right;\">\n",
       "      <th></th>\n",
       "      <th>Rank</th>\n",
       "      <th>Company</th>\n",
       "      <th>Valuation ($B)</th>\n",
       "      <th>Date Joined</th>\n",
       "      <th>Country</th>\n",
       "      <th>Industry</th>\n",
       "      <th>Select Investors</th>\n",
       "      <th>Investor_1</th>\n",
       "      <th>Investor_2</th>\n",
       "      <th>Investor_3</th>\n",
       "      <th>Investor_4</th>\n",
       "    </tr>\n",
       "  </thead>\n",
       "  <tbody>\n",
       "    <tr>\n",
       "      <td>0</td>\n",
       "      <td>0</td>\n",
       "      <td>Toutiao (Bytedance)</td>\n",
       "      <td>140.0</td>\n",
       "      <td>2017-04-07</td>\n",
       "      <td>China</td>\n",
       "      <td>Artificial intelligence</td>\n",
       "      <td>Sequoia Capital China, SIG Asia Investments, S...</td>\n",
       "      <td>SEQUOIA CAPITAL CHINA</td>\n",
       "      <td>SIG ASIA INVESTMENTS</td>\n",
       "      <td>SINA WEIBO</td>\n",
       "      <td>SOFTBANK GROUP</td>\n",
       "    </tr>\n",
       "    <tr>\n",
       "      <td>1</td>\n",
       "      <td>1</td>\n",
       "      <td>Didi Chuxing</td>\n",
       "      <td>56.0</td>\n",
       "      <td>2014-12-31</td>\n",
       "      <td>China</td>\n",
       "      <td>Auto &amp; transportation</td>\n",
       "      <td>Matrix Partners, Tiger  Global Management, Sof...</td>\n",
       "      <td>MATRIX PARTNERS</td>\n",
       "      <td>TIGER  GLOBAL MANAGEMENT</td>\n",
       "      <td>SOFBANK CORP.</td>\n",
       "      <td>None</td>\n",
       "    </tr>\n",
       "    <tr>\n",
       "      <td>2</td>\n",
       "      <td>2</td>\n",
       "      <td>SpaceX</td>\n",
       "      <td>46.0</td>\n",
       "      <td>2012-12-01</td>\n",
       "      <td>United States</td>\n",
       "      <td>Other</td>\n",
       "      <td>Founders Fund, Draper  Fisher Jurvetson, Rothe...</td>\n",
       "      <td>FOUNDERS FUND</td>\n",
       "      <td>DRAPER  FISHER JURVETSON</td>\n",
       "      <td>ROTHENBERG VENTURES</td>\n",
       "      <td>None</td>\n",
       "    </tr>\n",
       "    <tr>\n",
       "      <td>3</td>\n",
       "      <td>3</td>\n",
       "      <td>Stripe</td>\n",
       "      <td>36.0</td>\n",
       "      <td>2014-01-23</td>\n",
       "      <td>United States</td>\n",
       "      <td>Fintech</td>\n",
       "      <td>Khosla Ventures, LowercaseCapital, capitalG</td>\n",
       "      <td>KHOSLA VENTURES</td>\n",
       "      <td>LOWERCASECAPITAL</td>\n",
       "      <td>CAPITALG</td>\n",
       "      <td>None</td>\n",
       "    </tr>\n",
       "    <tr>\n",
       "      <td>4</td>\n",
       "      <td>4</td>\n",
       "      <td>Palantir Technologies</td>\n",
       "      <td>20.0</td>\n",
       "      <td>2011-05-05</td>\n",
       "      <td>United States</td>\n",
       "      <td>Data management &amp; analytics</td>\n",
       "      <td>RRE Ventures, Founders  Fund, In-Q-Tel</td>\n",
       "      <td>RRE VENTURES</td>\n",
       "      <td>FOUNDERS  FUND</td>\n",
       "      <td>IN-Q-TEL</td>\n",
       "      <td>None</td>\n",
       "    </tr>\n",
       "  </tbody>\n",
       "</table>\n",
       "</div>"
      ],
      "text/plain": [
       "   Rank                Company  Valuation ($B) Date Joined        Country  \\\n",
       "0     0    Toutiao (Bytedance)           140.0  2017-04-07          China   \n",
       "1     1         Didi Chuxing              56.0  2014-12-31          China   \n",
       "2     2                 SpaceX            46.0  2012-12-01  United States   \n",
       "3     3                 Stripe            36.0  2014-01-23  United States   \n",
       "4     4  Palantir Technologies            20.0  2011-05-05  United States   \n",
       "\n",
       "                      Industry  \\\n",
       "0      Artificial intelligence   \n",
       "1        Auto & transportation   \n",
       "2                        Other   \n",
       "3                      Fintech   \n",
       "4  Data management & analytics   \n",
       "\n",
       "                                    Select Investors             Investor_1  \\\n",
       "0  Sequoia Capital China, SIG Asia Investments, S...  SEQUOIA CAPITAL CHINA   \n",
       "1  Matrix Partners, Tiger  Global Management, Sof...        MATRIX PARTNERS   \n",
       "2  Founders Fund, Draper  Fisher Jurvetson, Rothe...          FOUNDERS FUND   \n",
       "3        Khosla Ventures, LowercaseCapital, capitalG        KHOSLA VENTURES   \n",
       "4             RRE Ventures, Founders  Fund, In-Q-Tel           RRE VENTURES   \n",
       "\n",
       "                 Investor_2           Investor_3      Investor_4  \n",
       "0      SIG ASIA INVESTMENTS           SINA WEIBO  SOFTBANK GROUP  \n",
       "1  TIGER  GLOBAL MANAGEMENT        SOFBANK CORP.            None  \n",
       "2  DRAPER  FISHER JURVETSON  ROTHENBERG VENTURES            None  \n",
       "3          LOWERCASECAPITAL             CAPITALG            None  \n",
       "4            FOUNDERS  FUND             IN-Q-TEL            None  "
      ]
     },
     "execution_count": 45,
     "metadata": {},
     "output_type": "execute_result"
    }
   ],
   "source": [
    "df = pd.concat([unicorns_df['Select Investors'].str.split(',', expand=True)], axis=1)\n",
    "unicorns_df = unicorns_df.join(df)\n",
    "unicorns_df = unicorns_df.rename(columns = {0:'Investor_1', 1: 'Investor_2', 2: 'Investor_3', 3: 'Investor_4'})\n",
    "unicorns_df['Investor_1'] = unicorns_df['Investor_1'].str.strip()\n",
    "unicorns_df['Investor_2'] = unicorns_df['Investor_2'].str.strip()\n",
    "unicorns_df['Investor_3'] = unicorns_df['Investor_3'].str.strip()\n",
    "unicorns_df['Investor_4'] = unicorns_df['Investor_4'].str.strip()\n",
    "\n",
    "unicorns_df['Investor_1'] = unicorns_df['Investor_1'].str.upper()\n",
    "unicorns_df['Investor_2'] = unicorns_df['Investor_2'].str.upper()\n",
    "unicorns_df['Investor_3'] = unicorns_df['Investor_3'].str.upper()\n",
    "unicorns_df['Investor_4'] = unicorns_df['Investor_4'].str.upper()\n",
    "unicorns_df.head()"
   ]
  },
  {
   "cell_type": "markdown",
   "metadata": {},
   "source": [
    "**Cột Sime of TOP industries ở dữ liệu investor**\n",
    "- Cột này tương tự cũng có nhiều ngành công nghiệp được phân nhau bằng dấu ',' ta sẽ tách ra và thêm vào các cột mới để dễ phân tích dữ hiệu hơn."
   ]
  },
  {
   "cell_type": "code",
   "execution_count": 46,
   "metadata": {},
   "outputs": [
    {
     "data": {
      "text/html": [
       "<div>\n",
       "<style scoped>\n",
       "    .dataframe tbody tr th:only-of-type {\n",
       "        vertical-align: middle;\n",
       "    }\n",
       "\n",
       "    .dataframe tbody tr th {\n",
       "        vertical-align: top;\n",
       "    }\n",
       "\n",
       "    .dataframe thead th {\n",
       "        text-align: right;\n",
       "    }\n",
       "</style>\n",
       "<table border=\"1\" class=\"dataframe\">\n",
       "  <thead>\n",
       "    <tr style=\"text-align: right;\">\n",
       "      <th></th>\n",
       "      <th>Fund name</th>\n",
       "      <th>Fund structure</th>\n",
       "      <th>Country</th>\n",
       "      <th>Some of TOP industries</th>\n",
       "      <th>One of the most outstanding startups</th>\n",
       "      <th>Unicorn amount</th>\n",
       "      <th>Success / strategy diversity index</th>\n",
       "      <th>Industry_1</th>\n",
       "      <th>Industry_2</th>\n",
       "    </tr>\n",
       "  </thead>\n",
       "  <tbody>\n",
       "    <tr>\n",
       "      <td>0</td>\n",
       "      <td>212</td>\n",
       "      <td>VC</td>\n",
       "      <td>Turkey</td>\n",
       "      <td>Energy Storage, Semiconductor</td>\n",
       "      <td>Cymbet</td>\n",
       "      <td>NaN</td>\n",
       "      <td>NaN</td>\n",
       "      <td>Energy Storage</td>\n",
       "      <td>Semiconductor</td>\n",
       "    </tr>\n",
       "    <tr>\n",
       "      <td>1</td>\n",
       "      <td>415</td>\n",
       "      <td>VC</td>\n",
       "      <td>United States</td>\n",
       "      <td>Software, Hardware</td>\n",
       "      <td>Rimac Automobili</td>\n",
       "      <td>NaN</td>\n",
       "      <td>NaN</td>\n",
       "      <td>Software</td>\n",
       "      <td>Hardware</td>\n",
       "    </tr>\n",
       "    <tr>\n",
       "      <td>2</td>\n",
       "      <td>2020</td>\n",
       "      <td>VC</td>\n",
       "      <td>NaN</td>\n",
       "      <td>Travel, Internet</td>\n",
       "      <td>Delivery Hero</td>\n",
       "      <td>NaN</td>\n",
       "      <td>NaN</td>\n",
       "      <td>Travel</td>\n",
       "      <td>Internet</td>\n",
       "    </tr>\n",
       "    <tr>\n",
       "      <td>3</td>\n",
       "      <td>21212</td>\n",
       "      <td>VC</td>\n",
       "      <td>Brazil</td>\n",
       "      <td>Analytics, E-Commerce</td>\n",
       "      <td>Sellpoints</td>\n",
       "      <td>NaN</td>\n",
       "      <td>NaN</td>\n",
       "      <td>Analytics</td>\n",
       "      <td>E-Commerce</td>\n",
       "    </tr>\n",
       "    <tr>\n",
       "      <td>4</td>\n",
       "      <td>.406 Ventures</td>\n",
       "      <td>VC</td>\n",
       "      <td>United States</td>\n",
       "      <td>Real Time, Product Design</td>\n",
       "      <td>SmartPoint</td>\n",
       "      <td>TOP1000</td>\n",
       "      <td>TOP5000</td>\n",
       "      <td>Real Time</td>\n",
       "      <td>Product Design</td>\n",
       "    </tr>\n",
       "  </tbody>\n",
       "</table>\n",
       "</div>"
      ],
      "text/plain": [
       "       Fund name Fund structure        Country         Some of TOP industries  \\\n",
       "0            212             VC         Turkey  Energy Storage, Semiconductor   \n",
       "1            415             VC  United States             Software, Hardware   \n",
       "2           2020             VC            NaN               Travel, Internet   \n",
       "3          21212             VC         Brazil          Analytics, E-Commerce   \n",
       "4  .406 Ventures             VC  United States      Real Time, Product Design   \n",
       "\n",
       "  One of the most outstanding startups Unicorn amount  \\\n",
       "0                               Cymbet            NaN   \n",
       "1                     Rimac Automobili            NaN   \n",
       "2                        Delivery Hero            NaN   \n",
       "3                           Sellpoints            NaN   \n",
       "4                           SmartPoint        TOP1000   \n",
       "\n",
       "  Success / strategy diversity index      Industry_1       Industry_2  \n",
       "0                                NaN  Energy Storage    Semiconductor  \n",
       "1                                NaN        Software         Hardware  \n",
       "2                                NaN          Travel         Internet  \n",
       "3                                NaN       Analytics       E-Commerce  \n",
       "4                            TOP5000       Real Time   Product Design  "
      ]
     },
     "execution_count": 46,
     "metadata": {},
     "output_type": "execute_result"
    }
   ],
   "source": [
    "df = pd.concat([investor_df['Some of TOP industries'].str.split(',', expand=True)], axis=1)\n",
    "investor_df = investor_df.join(df)\n",
    "investor_df = investor_df.rename(columns = {0:'Industry_1', 1: 'Industry_2'})\n",
    "investor_df.head()"
   ]
  },
  {
   "cell_type": "markdown",
   "metadata": {},
   "source": [
    "## 2.3 Đặt vấn đề và trả lời các câu hỏi "
   ]
  },
  {
   "cell_type": "markdown",
   "metadata": {},
   "source": [
    "Sau khi có được cái nhìn tổng quan về 3 tập dữ liệu, ta sẽ đặt một số vấn đề để có thể khám phá ra được những điều thú vị:\n",
    "\n",
    "**Dữ liệu unicorns**\n",
    "- Phân bố số lượng unicorns ở các quốc gia, quốc gia nào có nhiều unicorns nhất.\n",
    "- Lĩnh vực nào có số lượng unicorns nhiều nhất, giải thích xu hướng đó trong tình hình thế giới hiện nay. Sắp xếp theo giá trị công ty, top 5 lĩnh vực nào có giá trị lớn nhất hiện nay?\n",
    "- Phân phối giá trị của các unicorns như thế nào.\n",
    "- Nhà đầu tư nào sở hữu nhiều unicorns nhất trên thế giới.\n",
    "- Số lượng unicorns xuất hiện theo từng năm. Năm nào là sự bùng nổ?\n",
    "- Thống kê unicorns ở Đông Nam Á\n",
    "\n",
    "**Dữ liệu start up ở Ấn Độ**\n",
    "- Các lĩnh vực được đầu tư nhiều nhất ở Ấn Độ có đi theo xu hướng của các unicorns trên thế giới hay không?\n",
    "- Phân phối lượng tiền được đầu tư ở Ấn Độ.\n",
    "- Các start up nhận được nhiều vòng đầu tư nhất ở Ấn Độ.\n",
    "- Dữ liệu thời gian: số tiền đầu tư phân bố thế nào theo thời gian.\n",
    "\n",
    "**Dữ liệu investor**\n",
    "- Liệt kê được các nhà đầu tư tiềm năng trong các lĩnh vực.\n",
    "- Phân bố số lượng các nhà đầu tư ở các quốc gia.\n",
    "\n",
    "Sau khi trả lời được các câu hỏi ở trên, ta có thể lập kế hoạch cho một start up và đánh giá được mức độ khả quan của start up đó:\n",
    "\n",
    "- Lĩnh vực nào có tính cạnh tranh cao nhất hiện nay? Lĩnh vực nào có tính cạnh tranh còn thấp? Điều đó ảnh hưởng như thế nào tới việc lựa chọn lĩnh vực để thành lập start up dựa trên các tiêu chí: vốn đầu tư, ý tưởng, xu hướng?\n",
    "- Các nhà đầu tư tiềm năng trong lĩnh vực được chọn là gì?"
   ]
  },
  {
   "cell_type": "markdown",
   "metadata": {},
   "source": [
    "### 2.2.1 Dữ liệu unicorns"
   ]
  },
  {
   "cell_type": "markdown",
   "metadata": {},
   "source": [
    "**Dữ liệu unicorns**\n",
    "- Phân bố số lượng unicorns ở các quốc gia, quốc gia nào có nhiều unicorns nhất.\n",
    "- Lĩnh vực nào có số lượng unicorns nhiều nhất, giải thích xu hướng đó trong tình hình thế giới hiện nay. Sắp xếp theo giá trị công ty, top 5 lĩnh vực nào có giá trị lớn nhất hiện nay?\n",
    "- Phân phối giá trị của các unicorns như thế nào.\n",
    "- Nhà đầu tư nào sở hữu nhiều unicorns nhất trên thế giới.\n",
    "- Số lượng unicorns xuất hiện theo từng năm. Năm nào là sự bùng nổ?"
   ]
  },
  {
   "cell_type": "markdown",
   "metadata": {},
   "source": [
    "### Phân bố số lượng unicorns ở các quốc gia, quốc gia nào có nhiều unicorns nhất?"
   ]
  },
  {
   "cell_type": "code",
   "execution_count": 47,
   "metadata": {},
   "outputs": [
    {
     "data": {
      "image/png": "[encoded data removed]",
      "text/plain": [
       "<Figure size 1440x720 with 1 Axes>"
      ]
     },
     "metadata": {
      "needs_background": "light"
     },
     "output_type": "display_data"
    }
   ],
   "source": [
    "country_unicorns = unicorns_df['Country'].value_counts()\n",
    "\n",
    "plt.figure(figsize = (20,10))\n",
    "\n",
    "g = sns.barplot(x=country_unicorns.index ,y=country_unicorns.values)\n",
    "g.set_xticklabels(g.get_xticklabels(),rotation=60)\n",
    "g.set_title(\"Unicorns Count\", fontsize=20)\n",
    "g.set_ylabel(\"Count\", fontsize=15)\n",
    "\n",
    "plt.show()"
   ]
  },
  {
   "cell_type": "markdown",
   "metadata": {},
   "source": [
    "Theo biểu đồ trên ta nhận thấy: \n",
    "- Mỹ là quốc gia sở hữu nhiều unicorns nhất trên thế giới, gấp đôi cả Trung Quốc ở vị trí thứ 2.\n",
    "- Kế tiếp là Vương Quốc Anh và Ấn Độ.\n",
    "- Trong các năm vừa qua, Ấn Độ được mệnh danh là cường quốc CNTT nhưng so với Mỹ và Trung Quốc vẫn còn thua khá xa. Tuy nhiên so với các nước ở châu Âu thì Ấn Độ đã vượt mặt. \n",
    "- Đài Loan (Taiwan) được xem là nước có nhiều nhân tài CNTT và CNTT phát triển nhưng sao không xuất hiện ở biểu đồ này nhỉ?\n",
    "\n",
    "Các quốc gia ở Đông Nam Á:\n",
    "- 3 quốc gia Đông Nam Á xuất hiện ở đây là: Indonesia, Singapore và Philippines. Đáng tiếc là Việt Nam chưa xuất hiện unicorn tỉ đô nào."
   ]
  },
  {
   "cell_type": "markdown",
   "metadata": {},
   "source": [
    "### Lĩnh vực nào có số lượng unicorns nhiều nhất, giải thích xu hướng đó trong tình hình thế giới hiện nay. Sắp xếp theo giá trị công ty, top 5 lĩnh vực nào có giá trị lớn nhất hiện nay?"
   ]
  },
  {
   "cell_type": "markdown",
   "metadata": {},
   "source": [
    "- Liệt kê ra top 5 lĩnh vực công nghiệp có nhiều unicorns nhất.\n",
    "- Các ông lớn trong top 5 lĩnh vực này là unicorn nào nhỉ? \n",
    "- Sắp xếp theo giá trị công ty, top 10 lĩnh vực mà công ty có giá trị lớn nhất hiện nay."
   ]
  },
  {
   "cell_type": "code",
   "execution_count": 48,
   "metadata": {},
   "outputs": [
    {
     "data": {
      "text/plain": [
       "Fintech                            62\n",
       "Internet software & services       58\n",
       "E-commerce & direct-to-consumer    55\n",
       "Artificial intelligence            46\n",
       "Health                             35\n",
       "Name: Industry, dtype: int64"
      ]
     },
     "execution_count": 48,
     "metadata": {},
     "output_type": "execute_result"
    }
   ],
   "source": [
    "category_unicorns = unicorns_df['Industry'].value_counts()\n",
    "category_unicorns[:5]"
   ]
  },
  {
   "cell_type": "code",
   "execution_count": 49,
   "metadata": {},
   "outputs": [
    {
     "data": {
      "image/png": "[encoded data removed]",
      "text/plain": [
       "<Figure size 1440x720 with 1 Axes>"
      ]
     },
     "metadata": {
      "needs_background": "light"
     },
     "output_type": "display_data"
    }
   ],
   "source": [
    "plt.figure(figsize = (20,10))\n",
    "\n",
    "g = sns.barplot(x=category_unicorns.index ,y=category_unicorns.values)\n",
    "g.set_xticklabels(g.get_xticklabels(),rotation=45)\n",
    "g.set_title(\"Unicorns Count\", fontsize=20)\n",
    "g.set_xlabel(\"\", fontsize=15)\n",
    "g.set_ylabel(\"Count\", fontsize=15)\n",
    "\n",
    "plt.show()"
   ]
  },
  {
   "cell_type": "markdown",
   "metadata": {},
   "source": [
    "Top 5 lĩnh vực có nhiều unicorns nhất là:\n",
    "- Fintech: công nghệ tài chính, có thể kể đến là các dịch vụ mobile banking, cryptocurrency, investment, borrowing. Các lĩnh vực trong quản lý tài chính, ngân hàng.                   \n",
    "- Internet software & services: dịch vụ và phần mềm Internet      \n",
    "- E-commerce & direct-to-consumer: thương mại điện tử  \n",
    "- Artificial intelligence: trí tuệ nhân tạo       \n",
    "- Health: sức khỏe\n",
    "\n",
    "Và đây là xu hướng của thế giới, công nghiệp 4.0, tất cả đều là các unicorns về công nghệ. Chúng ta thử khám phá các ông lớn trong các lĩnh vực này là ai nhé!"
   ]
  },
  {
   "cell_type": "code",
   "execution_count": 50,
   "metadata": {},
   "outputs": [
    {
     "data": {
      "text/html": [
       "<div>\n",
       "<style scoped>\n",
       "    .dataframe tbody tr th:only-of-type {\n",
       "        vertical-align: middle;\n",
       "    }\n",
       "\n",
       "    .dataframe tbody tr th {\n",
       "        vertical-align: top;\n",
       "    }\n",
       "\n",
       "    .dataframe thead th {\n",
       "        text-align: right;\n",
       "    }\n",
       "</style>\n",
       "<table border=\"1\" class=\"dataframe\">\n",
       "  <thead>\n",
       "    <tr style=\"text-align: right;\">\n",
       "      <th></th>\n",
       "      <th>Rank</th>\n",
       "      <th>Company</th>\n",
       "      <th>Valuation ($B)</th>\n",
       "      <th>Date Joined</th>\n",
       "      <th>Country</th>\n",
       "      <th>Industry</th>\n",
       "      <th>Select Investors</th>\n",
       "      <th>Investor_1</th>\n",
       "      <th>Investor_2</th>\n",
       "      <th>Investor_3</th>\n",
       "      <th>Investor_4</th>\n",
       "    </tr>\n",
       "  </thead>\n",
       "  <tbody>\n",
       "    <tr>\n",
       "      <td>3</td>\n",
       "      <td>3</td>\n",
       "      <td>Stripe</td>\n",
       "      <td>36.0</td>\n",
       "      <td>2014-01-23</td>\n",
       "      <td>United States</td>\n",
       "      <td>Fintech</td>\n",
       "      <td>Khosla Ventures, LowercaseCapital, capitalG</td>\n",
       "      <td>KHOSLA VENTURES</td>\n",
       "      <td>LOWERCASECAPITAL</td>\n",
       "      <td>CAPITALG</td>\n",
       "      <td>None</td>\n",
       "    </tr>\n",
       "    <tr>\n",
       "      <td>8</td>\n",
       "      <td>8</td>\n",
       "      <td>One97 Communications</td>\n",
       "      <td>16.0</td>\n",
       "      <td>2015-05-12</td>\n",
       "      <td>India</td>\n",
       "      <td>Fintech</td>\n",
       "      <td>Intel Capital, Sapphire  Ventures, Alibaba Group</td>\n",
       "      <td>INTEL CAPITAL</td>\n",
       "      <td>SAPPHIRE  VENTURES</td>\n",
       "      <td>ALIBABA GROUP</td>\n",
       "      <td>None</td>\n",
       "    </tr>\n",
       "    <tr>\n",
       "      <td>19</td>\n",
       "      <td>19</td>\n",
       "      <td>Robinhood</td>\n",
       "      <td>11.2</td>\n",
       "      <td>2017-04-26</td>\n",
       "      <td>United States</td>\n",
       "      <td>Fintech</td>\n",
       "      <td>Google Ventures, Andreessen Horowitz, DST Global</td>\n",
       "      <td>GOOGLE VENTURES</td>\n",
       "      <td>ANDREESSEN HOROWITZ</td>\n",
       "      <td>DST GLOBAL</td>\n",
       "      <td>None</td>\n",
       "    </tr>\n",
       "    <tr>\n",
       "      <td>24</td>\n",
       "      <td>24</td>\n",
       "      <td>Nubank</td>\n",
       "      <td>10.0</td>\n",
       "      <td>2018-03-01</td>\n",
       "      <td>Brazil</td>\n",
       "      <td>Fintech</td>\n",
       "      <td>Sequoia Capital, Redpoint e.ventures, Kaszek V...</td>\n",
       "      <td>SEQUOIA CAPITAL</td>\n",
       "      <td>REDPOINT E.VENTURES</td>\n",
       "      <td>KASZEK VENTURES</td>\n",
       "      <td>None</td>\n",
       "    </tr>\n",
       "    <tr>\n",
       "      <td>26</td>\n",
       "      <td>26</td>\n",
       "      <td>Ripple</td>\n",
       "      <td>10.0</td>\n",
       "      <td>2019-12-20</td>\n",
       "      <td>United States</td>\n",
       "      <td>Fintech</td>\n",
       "      <td>IDG Capital, Venture51, Lightspeed Venture Par...</td>\n",
       "      <td>IDG CAPITAL</td>\n",
       "      <td>VENTURE51</td>\n",
       "      <td>LIGHTSPEED VENTURE PARTNERS</td>\n",
       "      <td>None</td>\n",
       "    </tr>\n",
       "  </tbody>\n",
       "</table>\n",
       "</div>"
      ],
      "text/plain": [
       "    Rank               Company  Valuation ($B) Date Joined        Country  \\\n",
       "3      3                Stripe            36.0  2014-01-23  United States   \n",
       "8      8  One97 Communications            16.0  2015-05-12          India   \n",
       "19    19             Robinhood            11.2  2017-04-26  United States   \n",
       "24    24                Nubank            10.0  2018-03-01         Brazil   \n",
       "26    26                Ripple            10.0  2019-12-20  United States   \n",
       "\n",
       "   Industry                                   Select Investors  \\\n",
       "3   Fintech        Khosla Ventures, LowercaseCapital, capitalG   \n",
       "8   Fintech   Intel Capital, Sapphire  Ventures, Alibaba Group   \n",
       "19  Fintech   Google Ventures, Andreessen Horowitz, DST Global   \n",
       "24  Fintech  Sequoia Capital, Redpoint e.ventures, Kaszek V...   \n",
       "26  Fintech  IDG Capital, Venture51, Lightspeed Venture Par...   \n",
       "\n",
       "         Investor_1           Investor_2                   Investor_3  \\\n",
       "3   KHOSLA VENTURES     LOWERCASECAPITAL                     CAPITALG   \n",
       "8     INTEL CAPITAL   SAPPHIRE  VENTURES                ALIBABA GROUP   \n",
       "19  GOOGLE VENTURES  ANDREESSEN HOROWITZ                   DST GLOBAL   \n",
       "24  SEQUOIA CAPITAL  REDPOINT E.VENTURES              KASZEK VENTURES   \n",
       "26      IDG CAPITAL            VENTURE51  LIGHTSPEED VENTURE PARTNERS   \n",
       "\n",
       "   Investor_4  \n",
       "3        None  \n",
       "8        None  \n",
       "19       None  \n",
       "24       None  \n",
       "26       None  "
      ]
     },
     "execution_count": 50,
     "metadata": {},
     "output_type": "execute_result"
    }
   ],
   "source": [
    "unicorns_df[unicorns_df['Industry'] == 'Fintech'].sort_values(by='Valuation ($B)', ascending=False).head(5)"
   ]
  },
  {
   "cell_type": "markdown",
   "metadata": {},
   "source": [
    "**Nhận xét**\n",
    "\n",
    "- Mỹ chiếm 3/5 start up thành công nhất trong lĩnh vực FinTech. Cái tên Stripe có vẻ lạ lẫm, sau khi tìm hiểu thì đây là một ứng dụng thanh toán online được ưa chuộng ở Mỹ, châu Âu, châu Úc và Ấn Độ, được liên kết với nhiều website. \n",
    "\n",
    "- Start up này đạt giá trị tỉ đô vào đầu năm 2014. Trong thời gian này, ứng dụng thanh toán online ở Việt Nam vẫn còn chưa phổ biến, phải đến năm 2017 mới bắt đầu bùng nổ. Có lẽ đây là động lực cho các start up ở Việt Nam về sự phát triển của ví điện tử.\n",
    "\n",
    "- Đứng vị trí thứ 2 là cái tên của một nước châu Á: Ấn Độ"
   ]
  },
  {
   "cell_type": "code",
   "execution_count": 51,
   "metadata": {},
   "outputs": [
    {
     "data": {
      "text/html": [
       "<div>\n",
       "<style scoped>\n",
       "    .dataframe tbody tr th:only-of-type {\n",
       "        vertical-align: middle;\n",
       "    }\n",
       "\n",
       "    .dataframe tbody tr th {\n",
       "        vertical-align: top;\n",
       "    }\n",
       "\n",
       "    .dataframe thead th {\n",
       "        text-align: right;\n",
       "    }\n",
       "</style>\n",
       "<table border=\"1\" class=\"dataframe\">\n",
       "  <thead>\n",
       "    <tr style=\"text-align: right;\">\n",
       "      <th></th>\n",
       "      <th>Rank</th>\n",
       "      <th>Company</th>\n",
       "      <th>Valuation ($B)</th>\n",
       "      <th>Date Joined</th>\n",
       "      <th>Country</th>\n",
       "      <th>Industry</th>\n",
       "      <th>Select Investors</th>\n",
       "      <th>Investor_1</th>\n",
       "      <th>Investor_2</th>\n",
       "      <th>Investor_3</th>\n",
       "      <th>Investor_4</th>\n",
       "    </tr>\n",
       "  </thead>\n",
       "  <tbody>\n",
       "    <tr>\n",
       "      <td>46</td>\n",
       "      <td>46</td>\n",
       "      <td>Canva</td>\n",
       "      <td>6.0</td>\n",
       "      <td>2018-01-08</td>\n",
       "      <td>Australia</td>\n",
       "      <td>Internet software &amp; services</td>\n",
       "      <td>Sequoia Capital China, Blackbird Ventures, Mat...</td>\n",
       "      <td>SEQUOIA CAPITAL CHINA</td>\n",
       "      <td>BLACKBIRD VENTURES</td>\n",
       "      <td>MATRIX PARTNERS</td>\n",
       "      <td>None</td>\n",
       "    </tr>\n",
       "    <tr>\n",
       "      <td>51</td>\n",
       "      <td>51</td>\n",
       "      <td>Vice Media</td>\n",
       "      <td>5.7</td>\n",
       "      <td>2013-08-17</td>\n",
       "      <td>United States</td>\n",
       "      <td>Internet software &amp; services</td>\n",
       "      <td>Technology Crossover Ventures, A&amp;E Television ...</td>\n",
       "      <td>TECHNOLOGY CROSSOVER VENTURES</td>\n",
       "      <td>A&amp;E TELEVISION NETWORKS</td>\n",
       "      <td>None</td>\n",
       "      <td>None</td>\n",
       "    </tr>\n",
       "    <tr>\n",
       "      <td>56</td>\n",
       "      <td>56</td>\n",
       "      <td>HashiCorp</td>\n",
       "      <td>5.1</td>\n",
       "      <td>2018-11-01</td>\n",
       "      <td>United States</td>\n",
       "      <td>Internet software &amp; services</td>\n",
       "      <td>Redpoint Ventures, True Ventures, Mayfield Fund</td>\n",
       "      <td>REDPOINT VENTURES</td>\n",
       "      <td>TRUE VENTURES</td>\n",
       "      <td>MAYFIELD FUND</td>\n",
       "      <td>None</td>\n",
       "    </tr>\n",
       "    <tr>\n",
       "      <td>72</td>\n",
       "      <td>72</td>\n",
       "      <td>Roblox</td>\n",
       "      <td>4.0</td>\n",
       "      <td>2018-09-04</td>\n",
       "      <td>United States</td>\n",
       "      <td>Internet software &amp; services</td>\n",
       "      <td>Atlos Ventures, Index Ventures, First Round Ca...</td>\n",
       "      <td>ATLOS VENTURES</td>\n",
       "      <td>INDEX VENTURES</td>\n",
       "      <td>FIRST ROUND CAPITAL</td>\n",
       "      <td>None</td>\n",
       "    </tr>\n",
       "    <tr>\n",
       "      <td>86</td>\n",
       "      <td>86</td>\n",
       "      <td>Freshworks</td>\n",
       "      <td>3.5</td>\n",
       "      <td>2018-07-31</td>\n",
       "      <td>United States</td>\n",
       "      <td>Internet software &amp; services</td>\n",
       "      <td>Accel, Tiger Global Management, capitalG</td>\n",
       "      <td>ACCEL</td>\n",
       "      <td>TIGER GLOBAL MANAGEMENT</td>\n",
       "      <td>CAPITALG</td>\n",
       "      <td>None</td>\n",
       "    </tr>\n",
       "  </tbody>\n",
       "</table>\n",
       "</div>"
      ],
      "text/plain": [
       "    Rank     Company  Valuation ($B) Date Joined        Country  \\\n",
       "46    46       Canva             6.0  2018-01-08      Australia   \n",
       "51    51  Vice Media             5.7  2013-08-17  United States   \n",
       "56    56   HashiCorp             5.1  2018-11-01  United States   \n",
       "72    72      Roblox             4.0  2018-09-04  United States   \n",
       "86    86  Freshworks             3.5  2018-07-31  United States   \n",
       "\n",
       "                        Industry  \\\n",
       "46  Internet software & services   \n",
       "51  Internet software & services   \n",
       "56  Internet software & services   \n",
       "72  Internet software & services   \n",
       "86  Internet software & services   \n",
       "\n",
       "                                     Select Investors  \\\n",
       "46  Sequoia Capital China, Blackbird Ventures, Mat...   \n",
       "51  Technology Crossover Ventures, A&E Television ...   \n",
       "56    Redpoint Ventures, True Ventures, Mayfield Fund   \n",
       "72  Atlos Ventures, Index Ventures, First Round Ca...   \n",
       "86           Accel, Tiger Global Management, capitalG   \n",
       "\n",
       "                       Investor_1               Investor_2  \\\n",
       "46          SEQUOIA CAPITAL CHINA       BLACKBIRD VENTURES   \n",
       "51  TECHNOLOGY CROSSOVER VENTURES  A&E TELEVISION NETWORKS   \n",
       "56              REDPOINT VENTURES            TRUE VENTURES   \n",
       "72                 ATLOS VENTURES           INDEX VENTURES   \n",
       "86                          ACCEL  TIGER GLOBAL MANAGEMENT   \n",
       "\n",
       "             Investor_3 Investor_4  \n",
       "46      MATRIX PARTNERS       None  \n",
       "51                 None       None  \n",
       "56        MAYFIELD FUND       None  \n",
       "72  FIRST ROUND CAPITAL       None  \n",
       "86             CAPITALG       None  "
      ]
     },
     "execution_count": 51,
     "metadata": {},
     "output_type": "execute_result"
    }
   ],
   "source": [
    "unicorns_df[unicorns_df['Industry'] == 'Internet software & services'].sort_values(by='Valuation ($B)', ascending=False).head(5)"
   ]
  },
  {
   "cell_type": "markdown",
   "metadata": {},
   "source": [
    "**Nhận xét**\n",
    "- Canva, Discord là 2 cái tên quen thuộc chúng ta đã biết. \n",
    "- Vice Media là một nền tảng truyền thông, sản xuất nội dung truyền hình.\n",
    "- HashiCorp là một nền tảng công nghệ, công ty open-sources quản lý datacenter, các sản phẩm về cloud, có hợp tác với 3 cái tên đứng đầu thế giới hiện nay: Microsoft Azuere, AWS và Google Cloud. Một thông tin thú vị!\n",
    "- Roblox là nền tảng game online."
   ]
  },
  {
   "cell_type": "code",
   "execution_count": 52,
   "metadata": {},
   "outputs": [
    {
     "data": {
      "text/html": [
       "<div>\n",
       "<style scoped>\n",
       "    .dataframe tbody tr th:only-of-type {\n",
       "        vertical-align: middle;\n",
       "    }\n",
       "\n",
       "    .dataframe tbody tr th {\n",
       "        vertical-align: top;\n",
       "    }\n",
       "\n",
       "    .dataframe thead th {\n",
       "        text-align: right;\n",
       "    }\n",
       "</style>\n",
       "<table border=\"1\" class=\"dataframe\">\n",
       "  <thead>\n",
       "    <tr style=\"text-align: right;\">\n",
       "      <th></th>\n",
       "      <th>Rank</th>\n",
       "      <th>Company</th>\n",
       "      <th>Valuation ($B)</th>\n",
       "      <th>Date Joined</th>\n",
       "      <th>Country</th>\n",
       "      <th>Industry</th>\n",
       "      <th>Select Investors</th>\n",
       "      <th>Investor_1</th>\n",
       "      <th>Investor_2</th>\n",
       "      <th>Investor_3</th>\n",
       "      <th>Investor_4</th>\n",
       "    </tr>\n",
       "  </thead>\n",
       "  <tbody>\n",
       "    <tr>\n",
       "      <td>11</td>\n",
       "      <td>11</td>\n",
       "      <td>SHEIN</td>\n",
       "      <td>15.0</td>\n",
       "      <td>2018-07-03</td>\n",
       "      <td>China</td>\n",
       "      <td>E-commerce &amp; direct-to-consumer</td>\n",
       "      <td>Tiger Global Management, Sequoia Capital China...</td>\n",
       "      <td>TIGER GLOBAL MANAGEMENT</td>\n",
       "      <td>SEQUOIA CAPITAL CHINA</td>\n",
       "      <td>SHUNWEI CAPITAL PARTNERS</td>\n",
       "      <td>None</td>\n",
       "    </tr>\n",
       "    <tr>\n",
       "      <td>18</td>\n",
       "      <td>18</td>\n",
       "      <td>Wish</td>\n",
       "      <td>11.2</td>\n",
       "      <td>2015-05-18</td>\n",
       "      <td>United States</td>\n",
       "      <td>E-commerce &amp; direct-to-consumer</td>\n",
       "      <td>Founders Fund, GGV Capital, Digital Sky Techno...</td>\n",
       "      <td>FOUNDERS FUND</td>\n",
       "      <td>GGV CAPITAL</td>\n",
       "      <td>DIGITAL SKY TECHNOLOGIES</td>\n",
       "      <td>None</td>\n",
       "    </tr>\n",
       "    <tr>\n",
       "      <td>29</td>\n",
       "      <td>29</td>\n",
       "      <td>Coupang</td>\n",
       "      <td>9.0</td>\n",
       "      <td>2014-05-28</td>\n",
       "      <td>South Korea</td>\n",
       "      <td>E-commerce &amp; direct-to-consumer</td>\n",
       "      <td>Sequoia Capital, Founder  Collective, Wellingt...</td>\n",
       "      <td>SEQUOIA CAPITAL</td>\n",
       "      <td>FOUNDER  COLLECTIVE</td>\n",
       "      <td>WELLINGTON MANAGEMENT</td>\n",
       "      <td>None</td>\n",
       "    </tr>\n",
       "    <tr>\n",
       "      <td>30</td>\n",
       "      <td>30</td>\n",
       "      <td>Guazi (Chehaoduo)</td>\n",
       "      <td>9.0</td>\n",
       "      <td>2016-03-12</td>\n",
       "      <td>China</td>\n",
       "      <td>E-commerce &amp; direct-to-consumer</td>\n",
       "      <td>Sequoia Capital China, GX Capital</td>\n",
       "      <td>SEQUOIA CAPITAL CHINA</td>\n",
       "      <td>GX CAPITAL</td>\n",
       "      <td>None</td>\n",
       "      <td>None</td>\n",
       "    </tr>\n",
       "    <tr>\n",
       "      <td>34</td>\n",
       "      <td>34</td>\n",
       "      <td>Snapdeal</td>\n",
       "      <td>7.0</td>\n",
       "      <td>2014-05-21</td>\n",
       "      <td>India</td>\n",
       "      <td>E-commerce &amp; direct-to-consumer</td>\n",
       "      <td>Softbank Group, Blackrock, Alibaba Group</td>\n",
       "      <td>SOFTBANK GROUP</td>\n",
       "      <td>BLACKROCK</td>\n",
       "      <td>ALIBABA GROUP</td>\n",
       "      <td>None</td>\n",
       "    </tr>\n",
       "  </tbody>\n",
       "</table>\n",
       "</div>"
      ],
      "text/plain": [
       "    Rank            Company  Valuation ($B) Date Joined        Country  \\\n",
       "11    11              SHEIN            15.0  2018-07-03          China   \n",
       "18    18               Wish            11.2  2015-05-18  United States   \n",
       "29    29            Coupang             9.0  2014-05-28    South Korea   \n",
       "30    30  Guazi (Chehaoduo)             9.0  2016-03-12          China   \n",
       "34    34           Snapdeal             7.0  2014-05-21          India   \n",
       "\n",
       "                           Industry  \\\n",
       "11  E-commerce & direct-to-consumer   \n",
       "18  E-commerce & direct-to-consumer   \n",
       "29  E-commerce & direct-to-consumer   \n",
       "30  E-commerce & direct-to-consumer   \n",
       "34  E-commerce & direct-to-consumer   \n",
       "\n",
       "                                     Select Investors  \\\n",
       "11  Tiger Global Management, Sequoia Capital China...   \n",
       "18  Founders Fund, GGV Capital, Digital Sky Techno...   \n",
       "29  Sequoia Capital, Founder  Collective, Wellingt...   \n",
       "30                  Sequoia Capital China, GX Capital   \n",
       "34           Softbank Group, Blackrock, Alibaba Group   \n",
       "\n",
       "                 Investor_1             Investor_2                Investor_3  \\\n",
       "11  TIGER GLOBAL MANAGEMENT  SEQUOIA CAPITAL CHINA  SHUNWEI CAPITAL PARTNERS   \n",
       "18            FOUNDERS FUND            GGV CAPITAL  DIGITAL SKY TECHNOLOGIES   \n",
       "29          SEQUOIA CAPITAL    FOUNDER  COLLECTIVE     WELLINGTON MANAGEMENT   \n",
       "30    SEQUOIA CAPITAL CHINA             GX CAPITAL                      None   \n",
       "34           SOFTBANK GROUP              BLACKROCK             ALIBABA GROUP   \n",
       "\n",
       "   Investor_4  \n",
       "11       None  \n",
       "18       None  \n",
       "29       None  \n",
       "30       None  \n",
       "34       None  "
      ]
     },
     "execution_count": 52,
     "metadata": {},
     "output_type": "execute_result"
    }
   ],
   "source": [
    "unicorns_df[unicorns_df['Industry'] == 'E-commerce & direct-to-consumer'].sort_values(by='Valuation ($B)', ascending=False).head(5)"
   ]
  },
  {
   "cell_type": "markdown",
   "metadata": {},
   "source": [
    "**Nhận xét**\n",
    "- Có vẻ như các thị trường tỉ dân là cơ hội để phát triển thương mại điện tử này: Trung Quốc (1.393 tỉ), Ấn Độ (1.353)\n",
    "- Lĩnh vực thương mại điện tử ở Đông Nam Á hiện nay lớn nhất có thể kể đến 2 cái tên: Shopee (Sea Group) và Lazada, nhưng nó vẫn chưa được đánh giá là unicorn tỉ đô. Chúng ta sẽ xem xét về các unicorn ở Đông Nam Á ở phần sau."
   ]
  },
  {
   "cell_type": "code",
   "execution_count": 53,
   "metadata": {},
   "outputs": [
    {
     "data": {
      "text/html": [
       "<div>\n",
       "<style scoped>\n",
       "    .dataframe tbody tr th:only-of-type {\n",
       "        vertical-align: middle;\n",
       "    }\n",
       "\n",
       "    .dataframe tbody tr th {\n",
       "        vertical-align: top;\n",
       "    }\n",
       "\n",
       "    .dataframe thead th {\n",
       "        text-align: right;\n",
       "    }\n",
       "</style>\n",
       "<table border=\"1\" class=\"dataframe\">\n",
       "  <thead>\n",
       "    <tr style=\"text-align: right;\">\n",
       "      <th></th>\n",
       "      <th>Rank</th>\n",
       "      <th>Company</th>\n",
       "      <th>Valuation ($B)</th>\n",
       "      <th>Date Joined</th>\n",
       "      <th>Country</th>\n",
       "      <th>Industry</th>\n",
       "      <th>Select Investors</th>\n",
       "      <th>Investor_1</th>\n",
       "      <th>Investor_2</th>\n",
       "      <th>Investor_3</th>\n",
       "      <th>Investor_4</th>\n",
       "    </tr>\n",
       "  </thead>\n",
       "  <tbody>\n",
       "    <tr>\n",
       "      <td>0</td>\n",
       "      <td>0</td>\n",
       "      <td>Toutiao (Bytedance)</td>\n",
       "      <td>140.00</td>\n",
       "      <td>2017-04-07</td>\n",
       "      <td>China</td>\n",
       "      <td>Artificial intelligence</td>\n",
       "      <td>Sequoia Capital China, SIG Asia Investments, S...</td>\n",
       "      <td>SEQUOIA CAPITAL CHINA</td>\n",
       "      <td>SIG ASIA INVESTMENTS</td>\n",
       "      <td>SINA WEIBO</td>\n",
       "      <td>SOFTBANK GROUP</td>\n",
       "    </tr>\n",
       "    <tr>\n",
       "      <td>22</td>\n",
       "      <td>22</td>\n",
       "      <td>UiPath</td>\n",
       "      <td>10.20</td>\n",
       "      <td>2018-03-02</td>\n",
       "      <td>United States</td>\n",
       "      <td>Artificial intelligence</td>\n",
       "      <td>Accel, capitalG, Earlybrid Venture Capital, Se...</td>\n",
       "      <td>ACCEL</td>\n",
       "      <td>CAPITALG</td>\n",
       "      <td>EARLYBRID VENTURE CAPITAL</td>\n",
       "      <td>SEEDCAMP</td>\n",
       "    </tr>\n",
       "    <tr>\n",
       "      <td>33</td>\n",
       "      <td>33</td>\n",
       "      <td>SenseTime</td>\n",
       "      <td>7.50</td>\n",
       "      <td>2017-07-11</td>\n",
       "      <td>China</td>\n",
       "      <td>Artificial intelligence</td>\n",
       "      <td>Star VC, IDG Capital, Infore Capital, Alibaba ...</td>\n",
       "      <td>STAR VC</td>\n",
       "      <td>IDG CAPITAL</td>\n",
       "      <td>INFORE CAPITAL</td>\n",
       "      <td>ALIBABA GROUP</td>\n",
       "    </tr>\n",
       "    <tr>\n",
       "      <td>36</td>\n",
       "      <td>36</td>\n",
       "      <td>Argo AI</td>\n",
       "      <td>7.25</td>\n",
       "      <td>2019-07-12</td>\n",
       "      <td>United States</td>\n",
       "      <td>Artificial intelligence</td>\n",
       "      <td>Volkswagen Group, Ford Autonomous Vehicles</td>\n",
       "      <td>VOLKSWAGEN GROUP</td>\n",
       "      <td>FORD AUTONOMOUS VEHICLES</td>\n",
       "      <td>None</td>\n",
       "      <td>None</td>\n",
       "    </tr>\n",
       "    <tr>\n",
       "      <td>37</td>\n",
       "      <td>37</td>\n",
       "      <td>Automation Anywhere</td>\n",
       "      <td>6.80</td>\n",
       "      <td>2018-07-02</td>\n",
       "      <td>United States</td>\n",
       "      <td>Artificial intelligence</td>\n",
       "      <td>General Atlantic, Goldman Sachs, New Enterpris...</td>\n",
       "      <td>GENERAL ATLANTIC</td>\n",
       "      <td>GOLDMAN SACHS</td>\n",
       "      <td>NEW ENTERPRISE ASSOCIATES</td>\n",
       "      <td>None</td>\n",
       "    </tr>\n",
       "  </tbody>\n",
       "</table>\n",
       "</div>"
      ],
      "text/plain": [
       "    Rank              Company  Valuation ($B) Date Joined        Country  \\\n",
       "0      0  Toutiao (Bytedance)          140.00  2017-04-07          China   \n",
       "22    22               UiPath           10.20  2018-03-02  United States   \n",
       "33    33            SenseTime            7.50  2017-07-11          China   \n",
       "36    36              Argo AI            7.25  2019-07-12  United States   \n",
       "37    37  Automation Anywhere            6.80  2018-07-02  United States   \n",
       "\n",
       "                   Industry  \\\n",
       "0   Artificial intelligence   \n",
       "22  Artificial intelligence   \n",
       "33  Artificial intelligence   \n",
       "36  Artificial intelligence   \n",
       "37  Artificial intelligence   \n",
       "\n",
       "                                     Select Investors             Investor_1  \\\n",
       "0   Sequoia Capital China, SIG Asia Investments, S...  SEQUOIA CAPITAL CHINA   \n",
       "22  Accel, capitalG, Earlybrid Venture Capital, Se...                  ACCEL   \n",
       "33  Star VC, IDG Capital, Infore Capital, Alibaba ...                STAR VC   \n",
       "36         Volkswagen Group, Ford Autonomous Vehicles       VOLKSWAGEN GROUP   \n",
       "37  General Atlantic, Goldman Sachs, New Enterpris...       GENERAL ATLANTIC   \n",
       "\n",
       "                  Investor_2                 Investor_3      Investor_4  \n",
       "0       SIG ASIA INVESTMENTS                 SINA WEIBO  SOFTBANK GROUP  \n",
       "22                  CAPITALG  EARLYBRID VENTURE CAPITAL        SEEDCAMP  \n",
       "33               IDG CAPITAL             INFORE CAPITAL   ALIBABA GROUP  \n",
       "36  FORD AUTONOMOUS VEHICLES                       None            None  \n",
       "37             GOLDMAN SACHS  NEW ENTERPRISE ASSOCIATES            None  "
      ]
     },
     "execution_count": 53,
     "metadata": {},
     "output_type": "execute_result"
    }
   ],
   "source": [
    "unicorns_df[unicorns_df['Industry'] == 'Artificial intelligence'].sort_values(by='Valuation ($B)', ascending=False).head(5)"
   ]
  },
  {
   "cell_type": "markdown",
   "metadata": {},
   "source": [
    "**Nhận xét**\n",
    "- Top 1 là công ty ByteDance có định giá công ty chênh lệch quá cao so với các công ty còn lại. Đây là start up về AI tính tới thời điểm hiện tại. Đây chính là công ty mẹ của Tiktok, ứng dụng đình đám hiện nay. Ta sẽ nhận xét thêm ở phần sau.\n",
    "- Argo AI là một start up về xe tự hành.\n",
    "- UIPath, Automation Anywhere là các start up về lĩnh vực robotics, ứng dụng doanh nghiệp, studio. \n",
    "- SenseTime là start up ứng dụng AI vào các lĩnh vực bussiness, smart city, Healthcare, Automobile. Đây là một start up tiềm năng."
   ]
  },
  {
   "cell_type": "code",
   "execution_count": 54,
   "metadata": {},
   "outputs": [
    {
     "data": {
      "text/html": [
       "<div>\n",
       "<style scoped>\n",
       "    .dataframe tbody tr th:only-of-type {\n",
       "        vertical-align: middle;\n",
       "    }\n",
       "\n",
       "    .dataframe tbody tr th {\n",
       "        vertical-align: top;\n",
       "    }\n",
       "\n",
       "    .dataframe thead th {\n",
       "        text-align: right;\n",
       "    }\n",
       "</style>\n",
       "<table border=\"1\" class=\"dataframe\">\n",
       "  <thead>\n",
       "    <tr style=\"text-align: right;\">\n",
       "      <th></th>\n",
       "      <th>Rank</th>\n",
       "      <th>Company</th>\n",
       "      <th>Valuation ($B)</th>\n",
       "      <th>Date Joined</th>\n",
       "      <th>Country</th>\n",
       "      <th>Industry</th>\n",
       "      <th>Select Investors</th>\n",
       "      <th>Investor_1</th>\n",
       "      <th>Investor_2</th>\n",
       "      <th>Investor_3</th>\n",
       "      <th>Investor_4</th>\n",
       "    </tr>\n",
       "  </thead>\n",
       "  <tbody>\n",
       "    <tr>\n",
       "      <td>17</td>\n",
       "      <td>17</td>\n",
       "      <td>Samumed</td>\n",
       "      <td>12.00</td>\n",
       "      <td>2018-08-06</td>\n",
       "      <td>United States</td>\n",
       "      <td>Health</td>\n",
       "      <td>Vickers Venture Partners, IKEA GreenTech</td>\n",
       "      <td>VICKERS VENTURE PARTNERS</td>\n",
       "      <td>IKEA GREENTECH</td>\n",
       "      <td>None</td>\n",
       "      <td>None</td>\n",
       "    </tr>\n",
       "    <tr>\n",
       "      <td>27</td>\n",
       "      <td>27</td>\n",
       "      <td>Roivant Sciences</td>\n",
       "      <td>9.09</td>\n",
       "      <td>2018-11-13</td>\n",
       "      <td>United States</td>\n",
       "      <td>Health</td>\n",
       "      <td>Softbank Group, Founders Fund</td>\n",
       "      <td>SOFTBANK GROUP</td>\n",
       "      <td>FOUNDERS FUND</td>\n",
       "      <td>None</td>\n",
       "      <td>None</td>\n",
       "    </tr>\n",
       "    <tr>\n",
       "      <td>53</td>\n",
       "      <td>53</td>\n",
       "      <td>GuaHao (We Doctor)</td>\n",
       "      <td>5.50</td>\n",
       "      <td>2015-09-22</td>\n",
       "      <td>China</td>\n",
       "      <td>Health</td>\n",
       "      <td>Tencent, Morningside Group</td>\n",
       "      <td>TENCENT</td>\n",
       "      <td>MORNINGSIDE GROUP</td>\n",
       "      <td>None</td>\n",
       "      <td>None</td>\n",
       "    </tr>\n",
       "    <tr>\n",
       "      <td>57</td>\n",
       "      <td>57</td>\n",
       "      <td>United Imaging Healthcare</td>\n",
       "      <td>5.00</td>\n",
       "      <td>2017-09-14</td>\n",
       "      <td>China</td>\n",
       "      <td>Health</td>\n",
       "      <td>China Life Insurance, China Development Bank C...</td>\n",
       "      <td>CHINA LIFE INSURANCE</td>\n",
       "      <td>CHINA DEVELOPMENT BANK CAPITAL</td>\n",
       "      <td>CITIC SECURITIES INTERNATIONAL</td>\n",
       "      <td>None</td>\n",
       "    </tr>\n",
       "    <tr>\n",
       "      <td>61</td>\n",
       "      <td>61</td>\n",
       "      <td>Tempus</td>\n",
       "      <td>5.00</td>\n",
       "      <td>2018-03-21</td>\n",
       "      <td>United States</td>\n",
       "      <td>Health</td>\n",
       "      <td>New Enterprise Associates, T. Rowe Associates,...</td>\n",
       "      <td>NEW ENTERPRISE ASSOCIATES</td>\n",
       "      <td>T. ROWE ASSOCIATES</td>\n",
       "      <td>LIGHTBANK</td>\n",
       "      <td>None</td>\n",
       "    </tr>\n",
       "  </tbody>\n",
       "</table>\n",
       "</div>"
      ],
      "text/plain": [
       "    Rank                    Company  Valuation ($B) Date Joined  \\\n",
       "17    17                    Samumed           12.00  2018-08-06   \n",
       "27    27           Roivant Sciences            9.09  2018-11-13   \n",
       "53    53         GuaHao (We Doctor)            5.50  2015-09-22   \n",
       "57    57  United Imaging Healthcare            5.00  2017-09-14   \n",
       "61    61                     Tempus            5.00  2018-03-21   \n",
       "\n",
       "          Country Industry                                   Select Investors  \\\n",
       "17  United States   Health           Vickers Venture Partners, IKEA GreenTech   \n",
       "27  United States   Health                      Softbank Group, Founders Fund   \n",
       "53          China   Health                         Tencent, Morningside Group   \n",
       "57          China   Health  China Life Insurance, China Development Bank C...   \n",
       "61  United States   Health  New Enterprise Associates, T. Rowe Associates,...   \n",
       "\n",
       "                   Investor_1                      Investor_2  \\\n",
       "17   VICKERS VENTURE PARTNERS                  IKEA GREENTECH   \n",
       "27             SOFTBANK GROUP                   FOUNDERS FUND   \n",
       "53                    TENCENT               MORNINGSIDE GROUP   \n",
       "57       CHINA LIFE INSURANCE  CHINA DEVELOPMENT BANK CAPITAL   \n",
       "61  NEW ENTERPRISE ASSOCIATES              T. ROWE ASSOCIATES   \n",
       "\n",
       "                        Investor_3 Investor_4  \n",
       "17                            None       None  \n",
       "27                            None       None  \n",
       "53                            None       None  \n",
       "57  CITIC SECURITIES INTERNATIONAL       None  \n",
       "61                       LIGHTBANK       None  "
      ]
     },
     "execution_count": 54,
     "metadata": {},
     "output_type": "execute_result"
    }
   ],
   "source": [
    "unicorns_df[unicorns_df['Industry'] == 'Health'].sort_values(by='Valuation ($B)', ascending=False).head(5)"
   ]
  },
  {
   "cell_type": "markdown",
   "metadata": {},
   "source": [
    "**Nhận xét**\n",
    "- Lĩnh vực sức khỏe Mỹ và Trung Quốc đang là những quốc gia đi đầu."
   ]
  },
  {
   "cell_type": "markdown",
   "metadata": {},
   "source": [
    "#### Top 10 start up có giá trị lớn nhất hiện nay"
   ]
  },
  {
   "cell_type": "code",
   "execution_count": 55,
   "metadata": {},
   "outputs": [
    {
     "data": {
      "text/html": [
       "<div>\n",
       "<style scoped>\n",
       "    .dataframe tbody tr th:only-of-type {\n",
       "        vertical-align: middle;\n",
       "    }\n",
       "\n",
       "    .dataframe tbody tr th {\n",
       "        vertical-align: top;\n",
       "    }\n",
       "\n",
       "    .dataframe thead th {\n",
       "        text-align: right;\n",
       "    }\n",
       "</style>\n",
       "<table border=\"1\" class=\"dataframe\">\n",
       "  <thead>\n",
       "    <tr style=\"text-align: right;\">\n",
       "      <th></th>\n",
       "      <th>Rank</th>\n",
       "      <th>Company</th>\n",
       "      <th>Valuation ($B)</th>\n",
       "      <th>Date Joined</th>\n",
       "      <th>Country</th>\n",
       "      <th>Industry</th>\n",
       "      <th>Select Investors</th>\n",
       "      <th>Investor_1</th>\n",
       "      <th>Investor_2</th>\n",
       "      <th>Investor_3</th>\n",
       "      <th>Investor_4</th>\n",
       "    </tr>\n",
       "  </thead>\n",
       "  <tbody>\n",
       "    <tr>\n",
       "      <td>0</td>\n",
       "      <td>0</td>\n",
       "      <td>Toutiao (Bytedance)</td>\n",
       "      <td>140.0</td>\n",
       "      <td>2017-04-07</td>\n",
       "      <td>China</td>\n",
       "      <td>Artificial intelligence</td>\n",
       "      <td>Sequoia Capital China, SIG Asia Investments, S...</td>\n",
       "      <td>SEQUOIA CAPITAL CHINA</td>\n",
       "      <td>SIG ASIA INVESTMENTS</td>\n",
       "      <td>SINA WEIBO</td>\n",
       "      <td>SOFTBANK GROUP</td>\n",
       "    </tr>\n",
       "    <tr>\n",
       "      <td>1</td>\n",
       "      <td>1</td>\n",
       "      <td>Didi Chuxing</td>\n",
       "      <td>56.0</td>\n",
       "      <td>2014-12-31</td>\n",
       "      <td>China</td>\n",
       "      <td>Auto &amp; transportation</td>\n",
       "      <td>Matrix Partners, Tiger  Global Management, Sof...</td>\n",
       "      <td>MATRIX PARTNERS</td>\n",
       "      <td>TIGER  GLOBAL MANAGEMENT</td>\n",
       "      <td>SOFBANK CORP.</td>\n",
       "      <td>None</td>\n",
       "    </tr>\n",
       "    <tr>\n",
       "      <td>2</td>\n",
       "      <td>2</td>\n",
       "      <td>SpaceX</td>\n",
       "      <td>46.0</td>\n",
       "      <td>2012-12-01</td>\n",
       "      <td>United States</td>\n",
       "      <td>Other</td>\n",
       "      <td>Founders Fund, Draper  Fisher Jurvetson, Rothe...</td>\n",
       "      <td>FOUNDERS FUND</td>\n",
       "      <td>DRAPER  FISHER JURVETSON</td>\n",
       "      <td>ROTHENBERG VENTURES</td>\n",
       "      <td>None</td>\n",
       "    </tr>\n",
       "    <tr>\n",
       "      <td>3</td>\n",
       "      <td>3</td>\n",
       "      <td>Stripe</td>\n",
       "      <td>36.0</td>\n",
       "      <td>2014-01-23</td>\n",
       "      <td>United States</td>\n",
       "      <td>Fintech</td>\n",
       "      <td>Khosla Ventures, LowercaseCapital, capitalG</td>\n",
       "      <td>KHOSLA VENTURES</td>\n",
       "      <td>LOWERCASECAPITAL</td>\n",
       "      <td>CAPITALG</td>\n",
       "      <td>None</td>\n",
       "    </tr>\n",
       "    <tr>\n",
       "      <td>4</td>\n",
       "      <td>4</td>\n",
       "      <td>Palantir Technologies</td>\n",
       "      <td>20.0</td>\n",
       "      <td>2011-05-05</td>\n",
       "      <td>United States</td>\n",
       "      <td>Data management &amp; analytics</td>\n",
       "      <td>RRE Ventures, Founders  Fund, In-Q-Tel</td>\n",
       "      <td>RRE VENTURES</td>\n",
       "      <td>FOUNDERS  FUND</td>\n",
       "      <td>IN-Q-TEL</td>\n",
       "      <td>None</td>\n",
       "    </tr>\n",
       "    <tr>\n",
       "      <td>5</td>\n",
       "      <td>5</td>\n",
       "      <td>Airbnb</td>\n",
       "      <td>18.0</td>\n",
       "      <td>2011-07-26</td>\n",
       "      <td>United States</td>\n",
       "      <td>Travel</td>\n",
       "      <td>General Catalyst Partners,  Andreessen Horowit...</td>\n",
       "      <td>GENERAL CATALYST PARTNERS</td>\n",
       "      <td>ANDREESSEN HOROWITZ</td>\n",
       "      <td>ENIAC VENTURES</td>\n",
       "      <td>None</td>\n",
       "    </tr>\n",
       "    <tr>\n",
       "      <td>6</td>\n",
       "      <td>6</td>\n",
       "      <td>Kuaishou</td>\n",
       "      <td>18.0</td>\n",
       "      <td>2015-01-01</td>\n",
       "      <td>China</td>\n",
       "      <td>Mobile &amp; telecommunications</td>\n",
       "      <td>Morningside Venture Capital, Sequoia Capital, ...</td>\n",
       "      <td>MORNINGSIDE VENTURE CAPITAL</td>\n",
       "      <td>SEQUOIA CAPITAL</td>\n",
       "      <td>BAIDU</td>\n",
       "      <td>None</td>\n",
       "    </tr>\n",
       "    <tr>\n",
       "      <td>7</td>\n",
       "      <td>7</td>\n",
       "      <td>Epic Games</td>\n",
       "      <td>17.3</td>\n",
       "      <td>2018-10-26</td>\n",
       "      <td>United States</td>\n",
       "      <td>Other</td>\n",
       "      <td>Tencent Holdings, KKR, Smash Ventures</td>\n",
       "      <td>TENCENT HOLDINGS</td>\n",
       "      <td>KKR</td>\n",
       "      <td>SMASH VENTURES</td>\n",
       "      <td>None</td>\n",
       "    </tr>\n",
       "    <tr>\n",
       "      <td>8</td>\n",
       "      <td>8</td>\n",
       "      <td>One97 Communications</td>\n",
       "      <td>16.0</td>\n",
       "      <td>2015-05-12</td>\n",
       "      <td>India</td>\n",
       "      <td>Fintech</td>\n",
       "      <td>Intel Capital, Sapphire  Ventures, Alibaba Group</td>\n",
       "      <td>INTEL CAPITAL</td>\n",
       "      <td>SAPPHIRE  VENTURES</td>\n",
       "      <td>ALIBABA GROUP</td>\n",
       "      <td>None</td>\n",
       "    </tr>\n",
       "    <tr>\n",
       "      <td>9</td>\n",
       "      <td>9</td>\n",
       "      <td>DoorDash</td>\n",
       "      <td>16.0</td>\n",
       "      <td>2018-03-01</td>\n",
       "      <td>United States</td>\n",
       "      <td>Supply chain, logistics, &amp; delivery</td>\n",
       "      <td>Softbank Group, Sequoia Capital, Khosla Ventures</td>\n",
       "      <td>SOFTBANK GROUP</td>\n",
       "      <td>SEQUOIA CAPITAL</td>\n",
       "      <td>KHOSLA VENTURES</td>\n",
       "      <td>None</td>\n",
       "    </tr>\n",
       "  </tbody>\n",
       "</table>\n",
       "</div>"
      ],
      "text/plain": [
       "   Rank                Company  Valuation ($B) Date Joined        Country  \\\n",
       "0     0    Toutiao (Bytedance)           140.0  2017-04-07          China   \n",
       "1     1         Didi Chuxing              56.0  2014-12-31          China   \n",
       "2     2                 SpaceX            46.0  2012-12-01  United States   \n",
       "3     3                 Stripe            36.0  2014-01-23  United States   \n",
       "4     4  Palantir Technologies            20.0  2011-05-05  United States   \n",
       "5     5                 Airbnb            18.0  2011-07-26  United States   \n",
       "6     6               Kuaishou            18.0  2015-01-01          China   \n",
       "7     7             Epic Games            17.3  2018-10-26  United States   \n",
       "8     8   One97 Communications            16.0  2015-05-12          India   \n",
       "9     9               DoorDash            16.0  2018-03-01  United States   \n",
       "\n",
       "                              Industry  \\\n",
       "0              Artificial intelligence   \n",
       "1                Auto & transportation   \n",
       "2                                Other   \n",
       "3                              Fintech   \n",
       "4          Data management & analytics   \n",
       "5                               Travel   \n",
       "6          Mobile & telecommunications   \n",
       "7                                Other   \n",
       "8                              Fintech   \n",
       "9  Supply chain, logistics, & delivery   \n",
       "\n",
       "                                    Select Investors  \\\n",
       "0  Sequoia Capital China, SIG Asia Investments, S...   \n",
       "1  Matrix Partners, Tiger  Global Management, Sof...   \n",
       "2  Founders Fund, Draper  Fisher Jurvetson, Rothe...   \n",
       "3        Khosla Ventures, LowercaseCapital, capitalG   \n",
       "4             RRE Ventures, Founders  Fund, In-Q-Tel   \n",
       "5  General Catalyst Partners,  Andreessen Horowit...   \n",
       "6  Morningside Venture Capital, Sequoia Capital, ...   \n",
       "7              Tencent Holdings, KKR, Smash Ventures   \n",
       "8   Intel Capital, Sapphire  Ventures, Alibaba Group   \n",
       "9   Softbank Group, Sequoia Capital, Khosla Ventures   \n",
       "\n",
       "                    Investor_1                Investor_2           Investor_3  \\\n",
       "0        SEQUOIA CAPITAL CHINA      SIG ASIA INVESTMENTS           SINA WEIBO   \n",
       "1              MATRIX PARTNERS  TIGER  GLOBAL MANAGEMENT        SOFBANK CORP.   \n",
       "2                FOUNDERS FUND  DRAPER  FISHER JURVETSON  ROTHENBERG VENTURES   \n",
       "3              KHOSLA VENTURES          LOWERCASECAPITAL             CAPITALG   \n",
       "4                 RRE VENTURES            FOUNDERS  FUND             IN-Q-TEL   \n",
       "5    GENERAL CATALYST PARTNERS       ANDREESSEN HOROWITZ       ENIAC VENTURES   \n",
       "6  MORNINGSIDE VENTURE CAPITAL           SEQUOIA CAPITAL                BAIDU   \n",
       "7             TENCENT HOLDINGS                       KKR       SMASH VENTURES   \n",
       "8                INTEL CAPITAL        SAPPHIRE  VENTURES        ALIBABA GROUP   \n",
       "9               SOFTBANK GROUP           SEQUOIA CAPITAL      KHOSLA VENTURES   \n",
       "\n",
       "       Investor_4  \n",
       "0  SOFTBANK GROUP  \n",
       "1            None  \n",
       "2            None  \n",
       "3            None  \n",
       "4            None  \n",
       "5            None  \n",
       "6            None  \n",
       "7            None  \n",
       "8            None  \n",
       "9            None  "
      ]
     },
     "execution_count": 55,
     "metadata": {},
     "output_type": "execute_result"
    }
   ],
   "source": [
    "unicorns_df.sort_values(by='Valuation ($B)', ascending=False).head(10)"
   ]
  },
  {
   "cell_type": "markdown",
   "metadata": {},
   "source": [
    "**Nhận xét**\n",
    "- Trung Quốc chiếm lấy vị trí thứ 1 và 2 trong 2 lĩnh vực AI và nền tảng vận chuyển công nghệ.\n",
    "- Cái tên ByteDance (chủ sở hữu Tiktok) được định giá cao gấp 2.5 lần so với vị trí thứ 2. Đây là start up có tham vọng vượt mặt các nền tảng mạng xã hội khác. \n",
    "- Tiktok vừa bị cấm tại thị trường tỉ dân là Ấn Độ và có nguy cơ bị cấm luôn tại Mỹ. Dữ liệu này được thu thập tính tới thời điểm 1/8/2020. Ta sẽ quan sát xem định giá công ty có nguy cơ bị giảm hay không sau một thời gian nữa.\n",
    "- Didi Chuxing, nền tảng vận chuyển công nghệ đạt được 56 tỉ đô ở Trung Quốc không có gì lạ vì đây là một thị trường tỉ dân và với nhưng ưu thế chính trị, Didi Chuxing dễ dàng đẩy Uber ra khỏi cuộc chơi. \n",
    "- SpaceX, một start up đình đám về lĩnh vực không gian của Elon Musk. \n",
    "- Ấn Độ xuất sắc khi có mặt trong top 10 này với start up One97 Communications, nền tảng các ứng dụng Internet. Ưu thế của Ấn Độ là thị trường tỉ dân.\n",
    "- Nhìn lướt qua các cột Investor, ta nhận thấy cái tên Softbank xuất hiện khá là nhiều ở top 10 này. Ta sẽ tìm hiểu về các nhà đầu tư ở phần sau."
   ]
  },
  {
   "cell_type": "markdown",
   "metadata": {},
   "source": [
    "### Phân phối giá trị của các unicorns như thế nào."
   ]
  },
  {
   "cell_type": "code",
   "execution_count": 56,
   "metadata": {},
   "outputs": [
    {
     "data": {
      "image/png": "[encoded data removed]",
      "text/plain": [
       "<Figure size 1440x720 with 1 Axes>"
      ]
     },
     "metadata": {
      "needs_background": "light"
     },
     "output_type": "display_data"
    }
   ],
   "source": [
    "plt.figure(figsize=(20,10))\n",
    "sns.distplot(unicorns_df['Valuation ($B)'])\n",
    "plt.title(\"Valuation ($B)\", fontsize=16)\n",
    "plt.show()"
   ]
  },
  {
   "cell_type": "markdown",
   "metadata": {},
   "source": [
    "**Nhận xét**\n",
    "- Hầu hết các unicorn được định giá từ 1 ~ 5 tỉ đô.\n",
    "- Và các unicorn từ 20 ~ 140 tỉ đô, ở mỗi mức chỉ khoảng vài start up."
   ]
  },
  {
   "cell_type": "markdown",
   "metadata": {},
   "source": [
    "### Nhà đầu tư nào sở hữu nhiều unicorns nhất trên thế giới."
   ]
  },
  {
   "cell_type": "code",
   "execution_count": 57,
   "metadata": {},
   "outputs": [
    {
     "data": {
      "text/plain": [
       "SEQUOIA CAPITAL CHINA               28\n",
       "SOFTBANK GROUP                      26\n",
       "SEQUOIA CAPITAL                     25\n",
       "TENCENT HOLDINGS                    21\n",
       "NEW ENTERPRISE ASSOCIATES           18\n",
       "ANDREESSEN HOROWITZ                 18\n",
       "TIGER GLOBAL MANAGEMENT             16\n",
       "GOLDMAN SACHS                       16\n",
       "GOOGLE VENTURES                     15\n",
       "IDG CAPITAL                         15\n",
       "KHOSLA VENTURES                     14\n",
       "GENERAL ATLANTIC                    14\n",
       "ACCEL                               13\n",
       "GREYLOCK PARTNERS                   12\n",
       "ALIBABA GROUP                       12\n",
       "BESSEMER VENTURE PARTNERS           12\n",
       "LIGHTSPEED VENTURE PARTNERS         11\n",
       "DST GLOBAL                          10\n",
       "KLEINER PERKINS CAUFIELD & BYERS    10\n",
       "GGV CAPITAL                         10\n",
       "BATTERY VENTURES                    10\n",
       "INDEX VENTURES                      10\n",
       "KKR                                 10\n",
       "dtype: int64"
      ]
     },
     "execution_count": 57,
     "metadata": {},
     "output_type": "execute_result"
    }
   ],
   "source": [
    "investor_unicorns = unicorns_df[['Investor_1', 'Investor_2', 'Investor_3', 'Investor_4']]\n",
    "count = pd.Series(investor_unicorns.squeeze().values.ravel()).value_counts()\n",
    "count = count[count.values >= 10]\n",
    "count"
   ]
  },
  {
   "cell_type": "code",
   "execution_count": 58,
   "metadata": {},
   "outputs": [
    {
     "data": {
      "image/png": "[encoded data removed]",
      "text/plain": [
       "<Figure size 1440x720 with 1 Axes>"
      ]
     },
     "metadata": {
      "needs_background": "light"
     },
     "output_type": "display_data"
    }
   ],
   "source": [
    "plt.figure(figsize = (20,10))\n",
    "\n",
    "g = sns.barplot(x=count.index ,y=count.values)\n",
    "g.set_xticklabels(g.get_xticklabels(),rotation=60)\n",
    "g.set_title(\"Investor count\", fontsize=20)\n",
    "g.set_xlabel(\"\", fontsize=15)\n",
    "g.set_ylabel(\"Count\", fontsize=15)\n",
    "\n",
    "plt.show()"
   ]
  },
  {
   "cell_type": "code",
   "execution_count": 59,
   "metadata": {},
   "outputs": [
    {
     "data": {
      "text/plain": [
       "SOFTBANK GROUP                 2\n",
       "KHOSLA VENTURES                2\n",
       "SEQUOIA CAPITAL                2\n",
       "ANDREESSEN HOROWITZ            1\n",
       "GENERAL CATALYST PARTNERS      1\n",
       "BAIDU                          1\n",
       "RRE VENTURES                   1\n",
       "CAPITALG                       1\n",
       "FOUNDERS FUND                  1\n",
       "SEQUOIA CAPITAL CHINA          1\n",
       "TENCENT HOLDINGS               1\n",
       "ROTHENBERG VENTURES            1\n",
       "TIGER  GLOBAL MANAGEMENT       1\n",
       "SMASH VENTURES                 1\n",
       "LOWERCASECAPITAL               1\n",
       "DRAPER  FISHER JURVETSON       1\n",
       "ENIAC VENTURES                 1\n",
       "INTEL CAPITAL                  1\n",
       "ALIBABA GROUP                  1\n",
       "IN-Q-TEL                       1\n",
       "KKR                            1\n",
       "MORNINGSIDE VENTURE CAPITAL    1\n",
       "SOFBANK CORP.                  1\n",
       "MATRIX PARTNERS                1\n",
       "SINA WEIBO                     1\n",
       "SIG ASIA INVESTMENTS           1\n",
       "FOUNDERS  FUND                 1\n",
       "SAPPHIRE  VENTURES             1\n",
       "dtype: int64"
      ]
     },
     "execution_count": 59,
     "metadata": {},
     "output_type": "execute_result"
    }
   ],
   "source": [
    "investor_top10_unicorns = unicorns_df[['Investor_1', 'Investor_2', 'Investor_3', 'Investor_4']].head(10)\n",
    "count = pd.Series(investor_top10_unicorns.squeeze().values.ravel()).value_counts()\n",
    "count"
   ]
  },
  {
   "cell_type": "code",
   "execution_count": 60,
   "metadata": {},
   "outputs": [
    {
     "data": {
      "image/png": "[encoded data removed]",
      "text/plain": [
       "<Figure size 1440x720 with 1 Axes>"
      ]
     },
     "metadata": {
      "needs_background": "light"
     },
     "output_type": "display_data"
    }
   ],
   "source": [
    "plt.figure(figsize = (20,10))\n",
    "\n",
    "g = sns.barplot(x=count.index ,y=count.values)\n",
    "g.set_xticklabels(g.get_xticklabels(),rotation=60)\n",
    "g.set_title(\"Top 15 Investor Count\", fontsize=20)\n",
    "g.set_xlabel(\"\", fontsize=15)\n",
    "g.set_ylabel(\"Count\", fontsize=15)\n",
    "\n",
    "plt.show()"
   ]
  },
  {
   "cell_type": "markdown",
   "metadata": {},
   "source": [
    "**Nhận xét 1** (dựa vào biểu đồ thứ nhất)\n",
    "Biểu đồ này chỉ biểu hiện dữ liệu các nhà đầu tư có nhiều hơn 10 unicorns.\n",
    "- Sequoia Capital và Sequoia Capital China đến từ Trung Quốc đều thuộc một công ty mẹ, đứng đầu trong bảng các nhà đầu tư sở hữu nhiều unicorns nhất.\n",
    "- Thứ 3 là SoftBank của Nhật bản.\n",
    "- Thứ 4 là Tencent Holdings lại là một nhà đầu tư đến từ Trung Quốc.\n",
    "- Các nhà đầu tư còn lại phần lớn đến từ Mỹ\n",
    "\n",
    "Ta có một kết luận thú vị:\n",
    "- Ở Nhật Bản và Trung Quốc, các quỹ đầu tư unicorns tập trung vào chỉ 1 số công ty lớn.\n",
    "- Ở Mỹ số lượng nhà đầu tư nhiều, và trải đều.\n",
    "\n",
    "**Nhận xét 2** (dựa vào biểu đồ thứ hai)\n",
    "Biểu đồ này là các nhà đầu tư trong top 10 unicorns trên thế giới.\n",
    "- Softbank có Softbank Group và Softbank Corp của Nhật Bản đều nằm trong top 10 nhà đầu tư chiếm cổ phần ở nhiều unicorns nhất.\n",
    "- Sequoia Capital và Sequoia Capital China tương tự như Softbank\n",
    "- Ngoài ra ta còn thấy các cái tên: Alibaba Group, Tecent Holdings đều là những cái tên đến từ Trung Quốc.\n",
    "- Các cái tên còn lại phần lớn là các nhà đầu tư ở Mỹ."
   ]
  },
  {
   "cell_type": "markdown",
   "metadata": {},
   "source": [
    "### Sự xuất hiện của các unicorns theo từng năm. Năm nào bùng nổ nhất?"
   ]
  },
  {
   "cell_type": "markdown",
   "metadata": {},
   "source": [
    "#### Tiền xử lý dữ liệu"
   ]
  },
  {
   "cell_type": "code",
   "execution_count": 61,
   "metadata": {},
   "outputs": [],
   "source": [
    "#unicorns_df['Month_year'] = unicorns_df['Date Joined'].dt.to_period(\"M\")\n",
    "unicorns_df['Year'] = unicorns_df['Date Joined'].dt.year"
   ]
  },
  {
   "cell_type": "code",
   "execution_count": 62,
   "metadata": {},
   "outputs": [
    {
     "data": {
      "image/png": "[encoded data removed]",
      "text/plain": [
       "<Figure size 1080x720 with 1 Axes>"
      ]
     },
     "metadata": {
      "needs_background": "light"
     },
     "output_type": "display_data"
    }
   ],
   "source": [
    "plt.figure(figsize=(15,10))\n",
    "\n",
    "sns.countplot(x='Year', data=unicorns_df)\n",
    "plt.xlabel('', fontsize=12)\n",
    "plt.ylabel('Date Counting', fontsize=12)\n",
    "plt.title(\"Count frequency Date\", fontsize=16)\n",
    "\n",
    "plt.show()"
   ]
  },
  {
   "cell_type": "markdown",
   "metadata": {},
   "source": [
    "**Nhận xét**\n",
    "- Năm 2018 và 2019 là năm nhiều start up được định giá là unicorns nhất."
   ]
  },
  {
   "cell_type": "markdown",
   "metadata": {},
   "source": [
    "### Thống kê một số unicorns ở Đông Nam Á"
   ]
  },
  {
   "cell_type": "markdown",
   "metadata": {},
   "source": [
    "Theo như các phân tích trước, các quốc gia ở Đông Nam Á có unicorns là: Singapore, Indonesia, Philippines"
   ]
  },
  {
   "cell_type": "code",
   "execution_count": 63,
   "metadata": {},
   "outputs": [
    {
     "data": {
      "text/plain": [
       "Country\n",
       "Indonesia      5\n",
       "Philippines    1\n",
       "Singapore      3\n",
       "Name: Country, dtype: int64"
      ]
     },
     "execution_count": 63,
     "metadata": {},
     "output_type": "execute_result"
    }
   ],
   "source": [
    "unicorns_sea = unicorns_df[(unicorns_df['Country'] == 'Singapore') | \n",
    "            (unicorns_df['Country'] == 'Indonesia') | \n",
    "            (unicorns_df['Country'] == 'Philippines')]\n",
    "unicorns_sea.groupby('Country')['Country'].agg('count')"
   ]
  },
  {
   "cell_type": "code",
   "execution_count": 64,
   "metadata": {},
   "outputs": [
    {
     "data": {
      "text/html": [
       "<div>\n",
       "<style scoped>\n",
       "    .dataframe tbody tr th:only-of-type {\n",
       "        vertical-align: middle;\n",
       "    }\n",
       "\n",
       "    .dataframe tbody tr th {\n",
       "        vertical-align: top;\n",
       "    }\n",
       "\n",
       "    .dataframe thead th {\n",
       "        text-align: right;\n",
       "    }\n",
       "</style>\n",
       "<table border=\"1\" class=\"dataframe\">\n",
       "  <thead>\n",
       "    <tr style=\"text-align: right;\">\n",
       "      <th></th>\n",
       "      <th>Rank</th>\n",
       "      <th>Company</th>\n",
       "      <th>Valuation ($B)</th>\n",
       "      <th>Date Joined</th>\n",
       "      <th>Country</th>\n",
       "      <th>Industry</th>\n",
       "      <th>Select Investors</th>\n",
       "      <th>Investor_1</th>\n",
       "      <th>Investor_2</th>\n",
       "      <th>Investor_3</th>\n",
       "      <th>Investor_4</th>\n",
       "      <th>Year</th>\n",
       "    </tr>\n",
       "  </thead>\n",
       "  <tbody>\n",
       "    <tr>\n",
       "      <td>12</td>\n",
       "      <td>12</td>\n",
       "      <td>Grab</td>\n",
       "      <td>14.3</td>\n",
       "      <td>2014-12-04</td>\n",
       "      <td>Singapore</td>\n",
       "      <td>Auto &amp; transportation</td>\n",
       "      <td>GGV Capital, Vertex Venture Holdings, Softbank...</td>\n",
       "      <td>GGV CAPITAL</td>\n",
       "      <td>VERTEX VENTURE HOLDINGS</td>\n",
       "      <td>SOFTBANK GROUP</td>\n",
       "      <td>None</td>\n",
       "      <td>2014</td>\n",
       "    </tr>\n",
       "    <tr>\n",
       "      <td>23</td>\n",
       "      <td>23</td>\n",
       "      <td>Go-Jek</td>\n",
       "      <td>10.0</td>\n",
       "      <td>2016-08-04</td>\n",
       "      <td>Indonesia</td>\n",
       "      <td>Supply chain, logistics, &amp; delivery</td>\n",
       "      <td>Formation Group, Sequoia Capital India, Warbur...</td>\n",
       "      <td>FORMATION GROUP</td>\n",
       "      <td>SEQUOIA CAPITAL INDIA</td>\n",
       "      <td>WARBURG PINCUS</td>\n",
       "      <td>None</td>\n",
       "      <td>2016</td>\n",
       "    </tr>\n",
       "    <tr>\n",
       "      <td>35</td>\n",
       "      <td>35</td>\n",
       "      <td>Tokopedia</td>\n",
       "      <td>7.0</td>\n",
       "      <td>2018-12-12</td>\n",
       "      <td>Indonesia</td>\n",
       "      <td>E-commerce &amp; direct-to-consumer</td>\n",
       "      <td>Softbank Group, Alibaba Group, Sequoia Capital...</td>\n",
       "      <td>SOFTBANK GROUP</td>\n",
       "      <td>ALIBABA GROUP</td>\n",
       "      <td>SEQUOIA CAPITAL INDIA</td>\n",
       "      <td>None</td>\n",
       "      <td>2018</td>\n",
       "    </tr>\n",
       "    <tr>\n",
       "      <td>87</td>\n",
       "      <td>87</td>\n",
       "      <td>HyalRoute</td>\n",
       "      <td>3.5</td>\n",
       "      <td>2020-05-26</td>\n",
       "      <td>Singapore</td>\n",
       "      <td>Mobile &amp; telecommunications</td>\n",
       "      <td>Kuang-Chi</td>\n",
       "      <td>KUANG-CHI</td>\n",
       "      <td>None</td>\n",
       "      <td>None</td>\n",
       "      <td>None</td>\n",
       "      <td>2020</td>\n",
       "    </tr>\n",
       "    <tr>\n",
       "      <td>106</td>\n",
       "      <td>106</td>\n",
       "      <td>Traveloka</td>\n",
       "      <td>3.0</td>\n",
       "      <td>2017-07-28</td>\n",
       "      <td>Indonesia</td>\n",
       "      <td>Travel</td>\n",
       "      <td>Global Founders Capital, East Ventures, Expedi...</td>\n",
       "      <td>GLOBAL FOUNDERS CAPITAL</td>\n",
       "      <td>EAST VENTURES</td>\n",
       "      <td>EXPEDIA INC.</td>\n",
       "      <td>None</td>\n",
       "      <td>2017</td>\n",
       "    </tr>\n",
       "    <tr>\n",
       "      <td>112</td>\n",
       "      <td>112</td>\n",
       "      <td>OVO</td>\n",
       "      <td>2.9</td>\n",
       "      <td>2019-03-14</td>\n",
       "      <td>Indonesia</td>\n",
       "      <td>Fintech</td>\n",
       "      <td>Grab, Tokopedia, Tokyo Century Corporation</td>\n",
       "      <td>GRAB</td>\n",
       "      <td>TOKOPEDIA</td>\n",
       "      <td>TOKYO CENTURY CORPORATION</td>\n",
       "      <td>None</td>\n",
       "      <td>2019</td>\n",
       "    </tr>\n",
       "    <tr>\n",
       "      <td>130</td>\n",
       "      <td>130</td>\n",
       "      <td>Bukalapak</td>\n",
       "      <td>2.5</td>\n",
       "      <td>2017-11-16</td>\n",
       "      <td>Indonesia</td>\n",
       "      <td>E-commerce &amp; direct-to-consumer</td>\n",
       "      <td>500 Startups, Batavia Incubator, Emtek Group</td>\n",
       "      <td>500 STARTUPS</td>\n",
       "      <td>BATAVIA INCUBATOR</td>\n",
       "      <td>EMTEK GROUP</td>\n",
       "      <td>None</td>\n",
       "      <td>2017</td>\n",
       "    </tr>\n",
       "    <tr>\n",
       "      <td>255</td>\n",
       "      <td>255</td>\n",
       "      <td>Trax</td>\n",
       "      <td>1.3</td>\n",
       "      <td>2019-07-22</td>\n",
       "      <td>Singapore</td>\n",
       "      <td>Artificial intelligence</td>\n",
       "      <td>Hopu Investment Management, Boyu Capital, DC T...</td>\n",
       "      <td>HOPU INVESTMENT MANAGEMENT</td>\n",
       "      <td>BOYU CAPITAL</td>\n",
       "      <td>DC THOMSON VENTURES</td>\n",
       "      <td>None</td>\n",
       "      <td>2019</td>\n",
       "    </tr>\n",
       "    <tr>\n",
       "      <td>362</td>\n",
       "      <td>362</td>\n",
       "      <td>Revolution Precrafted</td>\n",
       "      <td>1.0</td>\n",
       "      <td>2017-10-23</td>\n",
       "      <td>Philippines</td>\n",
       "      <td>Other</td>\n",
       "      <td>K2 Global, 500 Startups</td>\n",
       "      <td>K2 GLOBAL</td>\n",
       "      <td>500 STARTUPS</td>\n",
       "      <td>None</td>\n",
       "      <td>None</td>\n",
       "      <td>2017</td>\n",
       "    </tr>\n",
       "  </tbody>\n",
       "</table>\n",
       "</div>"
      ],
      "text/plain": [
       "     Rank                Company  Valuation ($B) Date Joined      Country  \\\n",
       "12     12                   Grab            14.3  2014-12-04    Singapore   \n",
       "23     23                 Go-Jek            10.0  2016-08-04    Indonesia   \n",
       "35     35              Tokopedia             7.0  2018-12-12    Indonesia   \n",
       "87     87              HyalRoute             3.5  2020-05-26    Singapore   \n",
       "106   106              Traveloka             3.0  2017-07-28    Indonesia   \n",
       "112   112                    OVO             2.9  2019-03-14    Indonesia   \n",
       "130   130              Bukalapak             2.5  2017-11-16    Indonesia   \n",
       "255   255                   Trax             1.3  2019-07-22    Singapore   \n",
       "362   362  Revolution Precrafted             1.0  2017-10-23  Philippines   \n",
       "\n",
       "                                Industry  \\\n",
       "12                 Auto & transportation   \n",
       "23   Supply chain, logistics, & delivery   \n",
       "35       E-commerce & direct-to-consumer   \n",
       "87           Mobile & telecommunications   \n",
       "106                               Travel   \n",
       "112                              Fintech   \n",
       "130      E-commerce & direct-to-consumer   \n",
       "255              Artificial intelligence   \n",
       "362                                Other   \n",
       "\n",
       "                                      Select Investors  \\\n",
       "12   GGV Capital, Vertex Venture Holdings, Softbank...   \n",
       "23   Formation Group, Sequoia Capital India, Warbur...   \n",
       "35   Softbank Group, Alibaba Group, Sequoia Capital...   \n",
       "87                                           Kuang-Chi   \n",
       "106  Global Founders Capital, East Ventures, Expedi...   \n",
       "112         Grab, Tokopedia, Tokyo Century Corporation   \n",
       "130       500 Startups, Batavia Incubator, Emtek Group   \n",
       "255  Hopu Investment Management, Boyu Capital, DC T...   \n",
       "362                            K2 Global, 500 Startups   \n",
       "\n",
       "                     Investor_1               Investor_2  \\\n",
       "12                  GGV CAPITAL  VERTEX VENTURE HOLDINGS   \n",
       "23              FORMATION GROUP    SEQUOIA CAPITAL INDIA   \n",
       "35               SOFTBANK GROUP            ALIBABA GROUP   \n",
       "87                    KUANG-CHI                     None   \n",
       "106     GLOBAL FOUNDERS CAPITAL            EAST VENTURES   \n",
       "112                        GRAB                TOKOPEDIA   \n",
       "130                500 STARTUPS        BATAVIA INCUBATOR   \n",
       "255  HOPU INVESTMENT MANAGEMENT             BOYU CAPITAL   \n",
       "362                   K2 GLOBAL             500 STARTUPS   \n",
       "\n",
       "                    Investor_3 Investor_4  Year  \n",
       "12              SOFTBANK GROUP       None  2014  \n",
       "23              WARBURG PINCUS       None  2016  \n",
       "35       SEQUOIA CAPITAL INDIA       None  2018  \n",
       "87                        None       None  2020  \n",
       "106               EXPEDIA INC.       None  2017  \n",
       "112  TOKYO CENTURY CORPORATION       None  2019  \n",
       "130                EMTEK GROUP       None  2017  \n",
       "255        DC THOMSON VENTURES       None  2019  \n",
       "362                       None       None  2017  "
      ]
     },
     "execution_count": 64,
     "metadata": {},
     "output_type": "execute_result"
    }
   ],
   "source": [
    "unicorns_sea"
   ]
  },
  {
   "cell_type": "code",
   "execution_count": 65,
   "metadata": {},
   "outputs": [
    {
     "data": {
      "text/html": [
       "<div>\n",
       "<style scoped>\n",
       "    .dataframe tbody tr th:only-of-type {\n",
       "        vertical-align: middle;\n",
       "    }\n",
       "\n",
       "    .dataframe tbody tr th {\n",
       "        vertical-align: top;\n",
       "    }\n",
       "\n",
       "    .dataframe thead th {\n",
       "        text-align: right;\n",
       "    }\n",
       "</style>\n",
       "<table border=\"1\" class=\"dataframe\">\n",
       "  <thead>\n",
       "    <tr style=\"text-align: right;\">\n",
       "      <th></th>\n",
       "      <th>Rank</th>\n",
       "      <th>Company</th>\n",
       "      <th>Valuation ($B)</th>\n",
       "      <th>Date Joined</th>\n",
       "      <th>Country</th>\n",
       "      <th>Industry</th>\n",
       "      <th>Select Investors</th>\n",
       "      <th>Investor_1</th>\n",
       "      <th>Investor_2</th>\n",
       "      <th>Investor_3</th>\n",
       "      <th>Investor_4</th>\n",
       "      <th>Year</th>\n",
       "    </tr>\n",
       "  </thead>\n",
       "  <tbody>\n",
       "    <tr>\n",
       "      <td>35</td>\n",
       "      <td>35</td>\n",
       "      <td>Tokopedia</td>\n",
       "      <td>7.0</td>\n",
       "      <td>2018-12-12</td>\n",
       "      <td>Indonesia</td>\n",
       "      <td>E-commerce &amp; direct-to-consumer</td>\n",
       "      <td>Softbank Group, Alibaba Group, Sequoia Capital...</td>\n",
       "      <td>SOFTBANK GROUP</td>\n",
       "      <td>ALIBABA GROUP</td>\n",
       "      <td>SEQUOIA CAPITAL INDIA</td>\n",
       "      <td>None</td>\n",
       "      <td>2018</td>\n",
       "    </tr>\n",
       "    <tr>\n",
       "      <td>130</td>\n",
       "      <td>130</td>\n",
       "      <td>Bukalapak</td>\n",
       "      <td>2.5</td>\n",
       "      <td>2017-11-16</td>\n",
       "      <td>Indonesia</td>\n",
       "      <td>E-commerce &amp; direct-to-consumer</td>\n",
       "      <td>500 Startups, Batavia Incubator, Emtek Group</td>\n",
       "      <td>500 STARTUPS</td>\n",
       "      <td>BATAVIA INCUBATOR</td>\n",
       "      <td>EMTEK GROUP</td>\n",
       "      <td>None</td>\n",
       "      <td>2017</td>\n",
       "    </tr>\n",
       "  </tbody>\n",
       "</table>\n",
       "</div>"
      ],
      "text/plain": [
       "     Rank    Company  Valuation ($B) Date Joined    Country  \\\n",
       "35     35  Tokopedia             7.0  2018-12-12  Indonesia   \n",
       "130   130  Bukalapak             2.5  2017-11-16  Indonesia   \n",
       "\n",
       "                            Industry  \\\n",
       "35   E-commerce & direct-to-consumer   \n",
       "130  E-commerce & direct-to-consumer   \n",
       "\n",
       "                                      Select Investors      Investor_1  \\\n",
       "35   Softbank Group, Alibaba Group, Sequoia Capital...  SOFTBANK GROUP   \n",
       "130       500 Startups, Batavia Incubator, Emtek Group    500 STARTUPS   \n",
       "\n",
       "            Investor_2             Investor_3 Investor_4  Year  \n",
       "35       ALIBABA GROUP  SEQUOIA CAPITAL INDIA       None  2018  \n",
       "130  BATAVIA INCUBATOR            EMTEK GROUP       None  2017  "
      ]
     },
     "execution_count": 65,
     "metadata": {},
     "output_type": "execute_result"
    }
   ],
   "source": [
    "unicorns_sea[unicorns_sea['Industry'] == 'E-commerce & direct-to-consumer']"
   ]
  },
  {
   "cell_type": "markdown",
   "metadata": {},
   "source": [
    "**Nhận xét**\n",
    "- Indonesia có nhiều unicorns nhất Đông Nam Á.\n",
    "- Theo thông tin ngoài lề, Sea Group (chủ quản Shopee) và Lazada đang có ý định thống trị thương mại điện tử ở Đông Nam Á nhưng vẫn chưa được định giá công ty tỉ đô. \n",
    "- 2 unicorn về thương mại điện tử của Indonesia được định giá lên tới 2.5 và 7 tỉ đô nên có vẻ Sea Group thất thế trước 2 unicorn này ở Indonesia.\n",
    "- Grab và Go-Jek ghi tên vào 2 unicorn có giá trị nhất ở Đông Nam Á."
   ]
  },
  {
   "cell_type": "markdown",
   "metadata": {},
   "source": [
    "### 2.2.2 Dữ liệu start up ở Ấn Độ"
   ]
  },
  {
   "cell_type": "markdown",
   "metadata": {},
   "source": [
    "**Dữ liệu start up ở Ấn Độ**\n",
    "- Các lĩnh vực được đầu tư nhiều nhất ở Ấn Độ có đi theo xu hướng của các unicorns trên thế giới hay không?\n",
    "- Các SubVertical của top 3 Industry Vertical được phân bố như thế nào?\n",
    "- Phân phối lượng tiền được đầu tư ở Ấn Độ.\n",
    "- Các start up nhận được nhiều vòng đầu tư nhất ở Ấn Độ.\n",
    "- Dữ liệu thời gian: số tiền đầu tư phân bố thế nào theo thời gian."
   ]
  },
  {
   "cell_type": "markdown",
   "metadata": {},
   "source": [
    "### Các lĩnh vực được đầu tư nhiều nhất ở Ấn Độ có đi theo xu hướng của các unicorns trên thế giới hay không?"
   ]
  },
  {
   "cell_type": "code",
   "execution_count": 66,
   "metadata": {},
   "outputs": [
    {
     "data": {
      "text/html": [
       "<div>\n",
       "<style scoped>\n",
       "    .dataframe tbody tr th:only-of-type {\n",
       "        vertical-align: middle;\n",
       "    }\n",
       "\n",
       "    .dataframe tbody tr th {\n",
       "        vertical-align: top;\n",
       "    }\n",
       "\n",
       "    .dataframe thead th {\n",
       "        text-align: right;\n",
       "    }\n",
       "</style>\n",
       "<table border=\"1\" class=\"dataframe\">\n",
       "  <thead>\n",
       "    <tr style=\"text-align: right;\">\n",
       "      <th></th>\n",
       "      <th>Sr No</th>\n",
       "      <th>Date dd/mm/yyyy</th>\n",
       "      <th>Startup Name</th>\n",
       "      <th>Industry Vertical</th>\n",
       "      <th>SubVertical</th>\n",
       "      <th>City  Location</th>\n",
       "      <th>Investors Name</th>\n",
       "      <th>InvestmentnType</th>\n",
       "      <th>Amount in USD</th>\n",
       "    </tr>\n",
       "  </thead>\n",
       "  <tbody>\n",
       "    <tr>\n",
       "      <td>0</td>\n",
       "      <td>1</td>\n",
       "      <td>2020-09-01</td>\n",
       "      <td>BYJU’S</td>\n",
       "      <td>E-Tech</td>\n",
       "      <td>E-learning</td>\n",
       "      <td>Bengaluru</td>\n",
       "      <td>Tiger Global Management</td>\n",
       "      <td>Private Equity Round</td>\n",
       "      <td>200000000.0</td>\n",
       "    </tr>\n",
       "    <tr>\n",
       "      <td>1</td>\n",
       "      <td>2</td>\n",
       "      <td>2020-01-13</td>\n",
       "      <td>Shuttl</td>\n",
       "      <td>Transportation</td>\n",
       "      <td>App based shuttle service</td>\n",
       "      <td>Gurgaon</td>\n",
       "      <td>Susquehanna Growth Equity</td>\n",
       "      <td>Series C</td>\n",
       "      <td>8048394.0</td>\n",
       "    </tr>\n",
       "    <tr>\n",
       "      <td>2</td>\n",
       "      <td>3</td>\n",
       "      <td>2020-09-01</td>\n",
       "      <td>Mamaearth</td>\n",
       "      <td>E-commerce</td>\n",
       "      <td>Retailer of baby and toddler products</td>\n",
       "      <td>Bengaluru</td>\n",
       "      <td>Sequoia Capital India</td>\n",
       "      <td>Series B</td>\n",
       "      <td>18358860.0</td>\n",
       "    </tr>\n",
       "    <tr>\n",
       "      <td>3</td>\n",
       "      <td>4</td>\n",
       "      <td>2020-02-01</td>\n",
       "      <td>https://www.wealthbucket.in/</td>\n",
       "      <td>FinTech</td>\n",
       "      <td>Online Investment</td>\n",
       "      <td>New Delhi</td>\n",
       "      <td>Vinod Khatumal</td>\n",
       "      <td>Pre-series A</td>\n",
       "      <td>3000000.0</td>\n",
       "    </tr>\n",
       "    <tr>\n",
       "      <td>4</td>\n",
       "      <td>5</td>\n",
       "      <td>2020-02-01</td>\n",
       "      <td>Fashor</td>\n",
       "      <td>Fashion and Apparel</td>\n",
       "      <td>Embroiled Clothes For Women</td>\n",
       "      <td>Mumbai</td>\n",
       "      <td>Sprout Venture Partners</td>\n",
       "      <td>Seed Round</td>\n",
       "      <td>1800000.0</td>\n",
       "    </tr>\n",
       "  </tbody>\n",
       "</table>\n",
       "</div>"
      ],
      "text/plain": [
       "   Sr No Date dd/mm/yyyy                  Startup Name    Industry Vertical  \\\n",
       "0      1      2020-09-01                        BYJU’S               E-Tech   \n",
       "1      2      2020-01-13                        Shuttl       Transportation   \n",
       "2      3      2020-09-01                     Mamaearth           E-commerce   \n",
       "3      4      2020-02-01  https://www.wealthbucket.in/              FinTech   \n",
       "4      5      2020-02-01                        Fashor  Fashion and Apparel   \n",
       "\n",
       "                             SubVertical City  Location  \\\n",
       "0                             E-learning      Bengaluru   \n",
       "1              App based shuttle service        Gurgaon   \n",
       "2  Retailer of baby and toddler products      Bengaluru   \n",
       "3                      Online Investment      New Delhi   \n",
       "4            Embroiled Clothes For Women         Mumbai   \n",
       "\n",
       "              Investors Name       InvestmentnType  Amount in USD  \n",
       "0    Tiger Global Management  Private Equity Round    200000000.0  \n",
       "1  Susquehanna Growth Equity              Series C      8048394.0  \n",
       "2      Sequoia Capital India              Series B     18358860.0  \n",
       "3             Vinod Khatumal          Pre-series A      3000000.0  \n",
       "4    Sprout Venture Partners            Seed Round      1800000.0  "
      ]
     },
     "execution_count": 66,
     "metadata": {},
     "output_type": "execute_result"
    }
   ],
   "source": [
    "startup_df.head()"
   ]
  },
  {
   "cell_type": "code",
   "execution_count": 67,
   "metadata": {},
   "outputs": [
    {
     "data": {
      "text/plain": [
       "Consumer Internet                       941\n",
       "Technology                              478\n",
       "eCommerce                               186\n",
       "Healthcare                               70\n",
       "Finance                                  62\n",
       "                                       ... \n",
       "Web Content Publishing                    1\n",
       "On Demand Mobile app developer            1\n",
       "Holiday Resort Chain                      1\n",
       "Online Food Ordering Marketplace          1\n",
       "Mobile Car Servicing appointment app      1\n",
       "Name: Industry Vertical, Length: 821, dtype: int64"
      ]
     },
     "execution_count": 67,
     "metadata": {},
     "output_type": "execute_result"
    }
   ],
   "source": [
    "industry = startup_df['Industry Vertical'].value_counts()\n",
    "industry"
   ]
  },
  {
   "cell_type": "code",
   "execution_count": 68,
   "metadata": {
    "scrolled": true
   },
   "outputs": [
    {
     "data": {
      "text/plain": [
       "Consumer Internet                941\n",
       "Technology                       478\n",
       "eCommerce                        186\n",
       "Healthcare                        70\n",
       "Finance                           62\n",
       "ECommerce                         61\n",
       "Logistics                         32\n",
       "E-Commerce                        29\n",
       "Education                         24\n",
       "Food & Beverage                   23\n",
       "Ed-Tech                           14\n",
       "E-commerce                        12\n",
       "FinTech                            9\n",
       "Ecommerce                          8\n",
       "IT                                 8\n",
       "Food and Beverage                  6\n",
       "Others                             6\n",
       "Real Estate                        6\n",
       "Fin-Tech                           6\n",
       "Online Food Delivery               5\n",
       "Online Education Platform          5\n",
       "Health and Wellness                5\n",
       "Logistics Tech                     5\n",
       "Transportation                     4\n",
       "Transport                          4\n",
       "Big Data & Analytics platform      3\n",
       "FMCG                               3\n",
       "SaaS                               3\n",
       "Hyperlocal Handyman Services       3\n",
       "Services                           3\n",
       "Information Technology             3\n",
       "Food                               3\n",
       "Food Delivery Platform             3\n",
       "EdTech                             3\n",
       "Automobile                         3\n",
       "ecommerce                          3\n",
       "Social Media                       3\n",
       "Food & Beverages                   3\n",
       "Food and Beverages                 3\n",
       "Name: Industry Vertical, dtype: int64"
      ]
     },
     "execution_count": 68,
     "metadata": {},
     "output_type": "execute_result"
    }
   ],
   "source": [
    "industry[industry.values >= 3]"
   ]
  },
  {
   "cell_type": "markdown",
   "metadata": {},
   "source": [
    "Dữ liệu cột Industry Vertical có quá nhiều giá trị categorical, ta thử liệt kê các Industry Vertical có số lượng startup lớn hơn 3 thì thấy được một số Industry Vertical không đồng bộ như: \n",
    "- FinTech và Fin-Tech.\n",
    "- eCommerce, ECommerce, E-Commerce, E-commerce, Ecommerce, ecommerce. \n",
    "- Food & Beverage, Food and Beverage, Food and Beverages, Food & Beverages\n",
    "- Transport và Transportation\n",
    "- Information Technology và IT\n",
    "- Ed-Tech và EdTech\n",
    "- Logistics Tech và Logistics\n",
    "Ta sẽ đồng bộ các giá trị này vì đây là những lĩnh vực được nhiều sự quan tâm."
   ]
  },
  {
   "cell_type": "code",
   "execution_count": 69,
   "metadata": {},
   "outputs": [],
   "source": [
    "# FinTech\n",
    "startup_df = startup_df.replace('Fin-Tech','FinTech', regex=True)\n",
    "\n",
    "# E-commerce\n",
    "startup_df = startup_df.replace('eCommerce','E-commerce', regex=True)\n",
    "startup_df = startup_df.replace('ECommerce','E-commerce', regex=True)\n",
    "startup_df = startup_df.replace('E-Commerce','E-commerce', regex=True)\n",
    "startup_df = startup_df.replace('E-commerce','E-commerce', regex=True)\n",
    "startup_df = startup_df.replace('Ecommerce','E-commerce', regex=True)\n",
    "startup_df = startup_df.replace('ecommerce','E-commerce', regex=True)\n",
    "\n",
    "# Food & Beverage\n",
    "startup_df = startup_df.replace('Food & Beverage','Food & Beverage', regex=True)\n",
    "startup_df = startup_df.replace('Food and Beverage','Food & Beverage', regex=True)\n",
    "startup_df = startup_df.replace('Food and Beverages','Food & Beverage', regex=True)\n",
    "startup_df = startup_df.replace('Food & Beverages','Food & Beverage', regex=True)\n",
    "\n",
    "# Transport\n",
    "startup_df = startup_df.replace('Transportation','Transport', regex=True)\n",
    "startup_df = startup_df.replace('Transport','Transport', regex=True)\n",
    "\n",
    "# Information Technology\n",
    "startup_df = startup_df.replace('IT','Information Technology', regex=True)\n",
    "\n",
    "# Ed-Tech\n",
    "startup_df = startup_df.replace('Ed-Tech','EdTech', regex=True)\n",
    "\n",
    "# Logistics\n",
    "startup_df = startup_df.replace('Logistics Tech','Logistics', regex=True)"
   ]
  },
  {
   "cell_type": "code",
   "execution_count": 70,
   "metadata": {},
   "outputs": [],
   "source": [
    "industry = startup_df['Industry Vertical'].value_counts()\n",
    "industry = industry[industry.values >= 4]"
   ]
  },
  {
   "cell_type": "code",
   "execution_count": 71,
   "metadata": {},
   "outputs": [
    {
     "data": {
      "image/png": "[encoded data removed]",
      "text/plain": [
       "<Figure size 864x432 with 1 Axes>"
      ]
     },
     "metadata": {
      "needs_background": "light"
     },
     "output_type": "display_data"
    }
   ],
   "source": [
    "plt.figure(figsize=(12,6))\n",
    "sns.barplot(x=industry.index, y=industry.values)\n",
    "plt.xticks(rotation=45)\n",
    "plt.xlabel(\"Industry's Name\", fontsize=12)\n",
    "plt.ylabel('Industry counting', fontsize=12)\n",
    "plt.title(\"Count frequency of Industry Verical\", fontsize=16)\n",
    "plt.show()"
   ]
  },
  {
   "cell_type": "markdown",
   "metadata": {},
   "source": [
    "## Các SubVertical được phân bố như thế nào?"
   ]
  },
  {
   "cell_type": "code",
   "execution_count": 77,
   "metadata": {},
   "outputs": [
    {
     "data": {
      "image/png": "[encoded data removed]",
      "text/plain": [
       "<Figure size 1080x360 with 1 Axes>"
      ]
     },
     "metadata": {
      "needs_background": "light"
     },
     "output_type": "display_data"
    }
   ],
   "source": [
    "subvertical = startup_df['SubVertical'].value_counts()\n",
    "\n",
    "plt.figure(figsize = (15,5))\n",
    "\n",
    "g = sns.barplot(x=subvertical.index[:20],y=subvertical.values[:20])\n",
    "g.set_xticklabels(g.get_xticklabels(),rotation=75)\n",
    "g.set_title(\"Subvertical Count\", fontsize=20)\n",
    "g.set_xlabel(\"\", fontsize=15)\n",
    "g.set_ylabel(\"Count\", fontsize=15)\n",
    "\n",
    "plt.show()"
   ]
  },
  {
   "cell_type": "markdown",
   "metadata": {},
   "source": [
    "### Các SubVertical của top 3 Industry Vertical được phân bố như thế nào?"
   ]
  },
  {
   "cell_type": "code",
   "execution_count": 82,
   "metadata": {},
   "outputs": [
    {
     "data": {
      "image/png": "[encoded data removed]",
      "text/plain": [
       "<Figure size 1080x360 with 1 Axes>"
      ]
     },
     "metadata": {
      "needs_background": "light"
     },
     "output_type": "display_data"
    }
   ],
   "source": [
    "tech_sub = startup_df[startup_df['Industry Vertical'] == 'Technology']['SubVertical'].value_counts()\n",
    "\n",
    "plt.figure(figsize = (15,5))\n",
    "g = sns.barplot(x=tech_sub.index[:20],y=tech_sub.values[:20])\n",
    "g.set_xticklabels(g.get_xticklabels(),rotation=75)\n",
    "g.set_title(\"Sub Category's by Technology\", fontsize=15)\n",
    "g.set_xlabel(\"\", fontsize=12)\n",
    "g.set_ylabel(\"Count\", fontsize=12)\n",
    "plt.show()"
   ]
  },
  {
   "cell_type": "code",
   "execution_count": 83,
   "metadata": {},
   "outputs": [
    {
     "data": {
      "image/png": "[encoded data removed]",
      "text/plain": [
       "<Figure size 1080x360 with 1 Axes>"
      ]
     },
     "metadata": {
      "needs_background": "light"
     },
     "output_type": "display_data"
    }
   ],
   "source": [
    "cons_internet = startup_df[startup_df['Industry Vertical'] == 'Consumer Internet']['SubVertical'].value_counts()\n",
    "\n",
    "plt.figure(figsize = (15,5))\n",
    "g = sns.barplot(x=cons_internet.index[:20],y=cons_internet.values[:20])\n",
    "g.set_xticklabels(g.get_xticklabels(),rotation=75)\n",
    "g.set_title(\"Sub Category's by Technology\", fontsize=15)\n",
    "g.set_xlabel(\"\", fontsize=12)\n",
    "g.set_ylabel(\"Count\", fontsize=12)\n",
    "plt.show()"
   ]
  },
  {
   "cell_type": "code",
   "execution_count": 84,
   "metadata": {},
   "outputs": [
    {
     "data": {
      "image/png": "[encoded data removed]",
      "text/plain": [
       "<Figure size 1080x360 with 1 Axes>"
      ]
     },
     "metadata": {
      "needs_background": "light"
     },
     "output_type": "display_data"
    }
   ],
   "source": [
    "ecommerce = startup_df[startup_df['Industry Vertical'] == 'E-commerce']['SubVertical'].value_counts()\n",
    "\n",
    "plt.figure(figsize = (15,5))\n",
    "g = sns.barplot(x=ecommerce.index[:20],y=ecommerce.values[:20])\n",
    "g.set_xticklabels(g.get_xticklabels(),rotation=75)\n",
    "g.set_title(\"Sub Category's by Technology\", fontsize=15)\n",
    "g.set_xlabel(\"\", fontsize=12)\n",
    "g.set_ylabel(\"Count\", fontsize=12)\n",
    "plt.show()"
   ]
  },
  {
   "cell_type": "code",
   "execution_count": null,
   "metadata": {},
   "outputs": [],
   "source": []
  },
  {
   "cell_type": "code",
   "execution_count": null,
   "metadata": {},
   "outputs": [],
   "source": []
  }
 ],
 "metadata": {
  "kernelspec": {
   "display_name": "Python 3",
   "language": "python",
   "name": "python3"
  },
  "language_info": {
   "codemirror_mode": {
    "name": "ipython",
    "version": 3
   },
   "file_extension": ".py",
   "mimetype": "text/x-python",
   "name": "python",
   "nbconvert_exporter": "python",
   "pygments_lexer": "ipython3",
   "version": "3.7.4"
  }
 },
 "nbformat": 4,
 "nbformat_minor": 2
}
